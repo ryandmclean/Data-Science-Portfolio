{
 "cells": [
  {
   "cell_type": "code",
   "execution_count": 1,
   "metadata": {},
   "outputs": [],
   "source": [
    "import numpy as np\n",
    "import pandas as pd\n",
    "from pandas import Series, DataFrame\n",
    "import matplotlib.pyplot as plt\n",
    "import seaborn as sns\n",
    "import statsmodels.api as sm\n",
    "sns.set_style('whitegrid')\n",
    "%matplotlib inline"
   ]
  },
  {
   "cell_type": "code",
   "execution_count": 2,
   "metadata": {},
   "outputs": [
    {
     "data": {
      "text/plain": [
       "pandas.core.frame.DataFrame"
      ]
     },
     "execution_count": 2,
     "metadata": {},
     "output_type": "execute_result"
    }
   ],
   "source": [
    "##Import the dataset from a CSV file into a DataFrame\n",
    "train = pd.read_csv('Utah_County_Single_family_Homes_2.0.csv', delimiter = ',')\n",
    "\n",
    "type(train)"
   ]
  },
  {
   "cell_type": "code",
   "execution_count": 3,
   "metadata": {},
   "outputs": [
    {
     "data": {
      "text/html": [
       "<div>\n",
       "<style scoped>\n",
       "    .dataframe tbody tr th:only-of-type {\n",
       "        vertical-align: middle;\n",
       "    }\n",
       "\n",
       "    .dataframe tbody tr th {\n",
       "        vertical-align: top;\n",
       "    }\n",
       "\n",
       "    .dataframe thead th {\n",
       "        text-align: right;\n",
       "    }\n",
       "</style>\n",
       "<table border=\"1\" class=\"dataframe\">\n",
       "  <thead>\n",
       "    <tr style=\"text-align: right;\">\n",
       "      <th></th>\n",
       "      <th>yprice</th>\n",
       "      <th>bathrooms</th>\n",
       "      <th>bedrooms</th>\n",
       "      <th>daysOnMarket</th>\n",
       "      <th>lot</th>\n",
       "      <th>sqFeet</th>\n",
       "      <th>yrBuilt</th>\n",
       "      <th>cul_de_sac</th>\n",
       "      <th>den</th>\n",
       "      <th>diningRoom</th>\n",
       "      <th>laundry</th>\n",
       "    </tr>\n",
       "  </thead>\n",
       "  <tbody>\n",
       "    <tr>\n",
       "      <th>0</th>\n",
       "      <td>239900</td>\n",
       "      <td>3</td>\n",
       "      <td>5</td>\n",
       "      <td>1138</td>\n",
       "      <td>0.12</td>\n",
       "      <td>2833</td>\n",
       "      <td>2004</td>\n",
       "      <td>Y</td>\n",
       "      <td>N</td>\n",
       "      <td>Y</td>\n",
       "      <td>Y</td>\n",
       "    </tr>\n",
       "    <tr>\n",
       "      <th>1</th>\n",
       "      <td>475000</td>\n",
       "      <td>4</td>\n",
       "      <td>6</td>\n",
       "      <td>1098</td>\n",
       "      <td>0.26</td>\n",
       "      <td>3735</td>\n",
       "      <td>2006</td>\n",
       "      <td>N</td>\n",
       "      <td>Y</td>\n",
       "      <td>Y</td>\n",
       "      <td>Y</td>\n",
       "    </tr>\n",
       "    <tr>\n",
       "      <th>2</th>\n",
       "      <td>389400</td>\n",
       "      <td>3</td>\n",
       "      <td>4</td>\n",
       "      <td>1041</td>\n",
       "      <td>0.35</td>\n",
       "      <td>3169</td>\n",
       "      <td>2010</td>\n",
       "      <td>N</td>\n",
       "      <td>Y</td>\n",
       "      <td>N</td>\n",
       "      <td>Y</td>\n",
       "    </tr>\n",
       "    <tr>\n",
       "      <th>3</th>\n",
       "      <td>259900</td>\n",
       "      <td>2</td>\n",
       "      <td>4</td>\n",
       "      <td>909</td>\n",
       "      <td>0.28</td>\n",
       "      <td>3196</td>\n",
       "      <td>1983</td>\n",
       "      <td>N</td>\n",
       "      <td>Y</td>\n",
       "      <td>N</td>\n",
       "      <td>Y</td>\n",
       "    </tr>\n",
       "    <tr>\n",
       "      <th>4</th>\n",
       "      <td>270000</td>\n",
       "      <td>4</td>\n",
       "      <td>3</td>\n",
       "      <td>853</td>\n",
       "      <td>0.33</td>\n",
       "      <td>3656</td>\n",
       "      <td>2004</td>\n",
       "      <td>Y</td>\n",
       "      <td>Y</td>\n",
       "      <td>N</td>\n",
       "      <td>Y</td>\n",
       "    </tr>\n",
       "  </tbody>\n",
       "</table>\n",
       "</div>"
      ],
      "text/plain": [
       "   yprice  bathrooms  bedrooms  daysOnMarket   lot  sqFeet  yrBuilt  \\\n",
       "0  239900          3         5          1138  0.12    2833     2004   \n",
       "1  475000          4         6          1098  0.26    3735     2006   \n",
       "2  389400          3         4          1041  0.35    3169     2010   \n",
       "3  259900          2         4           909  0.28    3196     1983   \n",
       "4  270000          4         3           853  0.33    3656     2004   \n",
       "\n",
       "  cul_de_sac den diningRoom laundry  \n",
       "0          Y   N          Y       Y  \n",
       "1          N   Y          Y       Y  \n",
       "2          N   Y          N       Y  \n",
       "3          N   Y          N       Y  \n",
       "4          Y   Y          N       Y  "
      ]
     },
     "execution_count": 3,
     "metadata": {},
     "output_type": "execute_result"
    }
   ],
   "source": [
    "train.head()"
   ]
  },
  {
   "cell_type": "code",
   "execution_count": 4,
   "metadata": {},
   "outputs": [
    {
     "data": {
      "text/html": [
       "<div>\n",
       "<style scoped>\n",
       "    .dataframe tbody tr th:only-of-type {\n",
       "        vertical-align: middle;\n",
       "    }\n",
       "\n",
       "    .dataframe tbody tr th {\n",
       "        vertical-align: top;\n",
       "    }\n",
       "\n",
       "    .dataframe thead th {\n",
       "        text-align: right;\n",
       "    }\n",
       "</style>\n",
       "<table border=\"1\" class=\"dataframe\">\n",
       "  <thead>\n",
       "    <tr style=\"text-align: right;\">\n",
       "      <th></th>\n",
       "      <th>yprice</th>\n",
       "      <th>bathrooms</th>\n",
       "      <th>bedrooms</th>\n",
       "      <th>daysOnMarket</th>\n",
       "      <th>lot</th>\n",
       "      <th>sqFeet</th>\n",
       "      <th>yrBuilt</th>\n",
       "    </tr>\n",
       "  </thead>\n",
       "  <tbody>\n",
       "    <tr>\n",
       "      <th>count</th>\n",
       "      <td>1534.000000</td>\n",
       "      <td>1534.000000</td>\n",
       "      <td>1534.000000</td>\n",
       "      <td>1534.000000</td>\n",
       "      <td>1534.000000</td>\n",
       "      <td>1534.000000</td>\n",
       "      <td>1534.000000</td>\n",
       "    </tr>\n",
       "    <tr>\n",
       "      <th>mean</th>\n",
       "      <td>246062.891786</td>\n",
       "      <td>2.866362</td>\n",
       "      <td>4.063885</td>\n",
       "      <td>154.086050</td>\n",
       "      <td>0.271825</td>\n",
       "      <td>3261.385267</td>\n",
       "      <td>2003.793351</td>\n",
       "    </tr>\n",
       "    <tr>\n",
       "      <th>std</th>\n",
       "      <td>67683.390215</td>\n",
       "      <td>0.688932</td>\n",
       "      <td>1.032334</td>\n",
       "      <td>152.115979</td>\n",
       "      <td>0.198514</td>\n",
       "      <td>694.530048</td>\n",
       "      <td>9.251628</td>\n",
       "    </tr>\n",
       "    <tr>\n",
       "      <th>min</th>\n",
       "      <td>162900.000000</td>\n",
       "      <td>2.000000</td>\n",
       "      <td>3.000000</td>\n",
       "      <td>1.000000</td>\n",
       "      <td>0.010000</td>\n",
       "      <td>2050.000000</td>\n",
       "      <td>1975.000000</td>\n",
       "    </tr>\n",
       "    <tr>\n",
       "      <th>25%</th>\n",
       "      <td>199900.000000</td>\n",
       "      <td>2.000000</td>\n",
       "      <td>3.000000</td>\n",
       "      <td>44.250000</td>\n",
       "      <td>0.190000</td>\n",
       "      <td>2736.000000</td>\n",
       "      <td>2000.000000</td>\n",
       "    </tr>\n",
       "    <tr>\n",
       "      <th>50%</th>\n",
       "      <td>226400.000000</td>\n",
       "      <td>3.000000</td>\n",
       "      <td>4.000000</td>\n",
       "      <td>108.000000</td>\n",
       "      <td>0.230000</td>\n",
       "      <td>3156.500000</td>\n",
       "      <td>2007.000000</td>\n",
       "    </tr>\n",
       "    <tr>\n",
       "      <th>75%</th>\n",
       "      <td>274900.000000</td>\n",
       "      <td>3.000000</td>\n",
       "      <td>5.000000</td>\n",
       "      <td>209.000000</td>\n",
       "      <td>0.290000</td>\n",
       "      <td>3703.500000</td>\n",
       "      <td>2011.000000</td>\n",
       "    </tr>\n",
       "    <tr>\n",
       "      <th>max</th>\n",
       "      <td>499900.000000</td>\n",
       "      <td>5.000000</td>\n",
       "      <td>6.000000</td>\n",
       "      <td>1138.000000</td>\n",
       "      <td>2.100000</td>\n",
       "      <td>5133.000000</td>\n",
       "      <td>2011.000000</td>\n",
       "    </tr>\n",
       "  </tbody>\n",
       "</table>\n",
       "</div>"
      ],
      "text/plain": [
       "              yprice    bathrooms     bedrooms  daysOnMarket          lot  \\\n",
       "count    1534.000000  1534.000000  1534.000000   1534.000000  1534.000000   \n",
       "mean   246062.891786     2.866362     4.063885    154.086050     0.271825   \n",
       "std     67683.390215     0.688932     1.032334    152.115979     0.198514   \n",
       "min    162900.000000     2.000000     3.000000      1.000000     0.010000   \n",
       "25%    199900.000000     2.000000     3.000000     44.250000     0.190000   \n",
       "50%    226400.000000     3.000000     4.000000    108.000000     0.230000   \n",
       "75%    274900.000000     3.000000     5.000000    209.000000     0.290000   \n",
       "max    499900.000000     5.000000     6.000000   1138.000000     2.100000   \n",
       "\n",
       "            sqFeet      yrBuilt  \n",
       "count  1534.000000  1534.000000  \n",
       "mean   3261.385267  2003.793351  \n",
       "std     694.530048     9.251628  \n",
       "min    2050.000000  1975.000000  \n",
       "25%    2736.000000  2000.000000  \n",
       "50%    3156.500000  2007.000000  \n",
       "75%    3703.500000  2011.000000  \n",
       "max    5133.000000  2011.000000  "
      ]
     },
     "execution_count": 4,
     "metadata": {},
     "output_type": "execute_result"
    }
   ],
   "source": [
    "#Examine the data using describe\n",
    "train.describe()"
   ]
  },
  {
   "cell_type": "code",
   "execution_count": 5,
   "metadata": {},
   "outputs": [
    {
     "data": {
      "text/plain": [
       "Text(0, 0.5, 'Number of homes')"
      ]
     },
     "execution_count": 5,
     "metadata": {},
     "output_type": "execute_result"
    },
    {
     "data": {
      "image/png": "[encoded data removed]",
      "text/plain": [
       "<Figure size 432x288 with 1 Axes>"
      ]
     },
     "metadata": {
      "needs_background": "light"
     },
     "output_type": "display_data"
    }
   ],
   "source": [
    "## Make a histogram of our dependent variable\n",
    "plt.hist(train.yprice, bins = 50)\n",
    "plt.xlabel('Price of home', fontsize=14)\n",
    "plt.ylabel('Number of homes', fontsize=14)"
   ]
  },
  {
   "cell_type": "code",
   "execution_count": 6,
   "metadata": {},
   "outputs": [
    {
     "data": {
      "image/png": "[encoded data removed]",
      "text/plain": [
       "<Figure size 432x288 with 1 Axes>"
      ]
     },
     "metadata": {
      "needs_background": "light"
     },
     "output_type": "display_data"
    }
   ],
   "source": [
    "## Scatter Plot of price by sqFeet\n",
    "ax = sns.scatterplot(x=\"sqFeet\", y=\"yprice\", data=train)"
   ]
  },
  {
   "cell_type": "code",
   "execution_count": 7,
   "metadata": {},
   "outputs": [
    {
     "data": {
      "text/html": [
       "<div>\n",
       "<style scoped>\n",
       "    .dataframe tbody tr th:only-of-type {\n",
       "        vertical-align: middle;\n",
       "    }\n",
       "\n",
       "    .dataframe tbody tr th {\n",
       "        vertical-align: top;\n",
       "    }\n",
       "\n",
       "    .dataframe thead th {\n",
       "        text-align: right;\n",
       "    }\n",
       "</style>\n",
       "<table border=\"1\" class=\"dataframe\">\n",
       "  <thead>\n",
       "    <tr style=\"text-align: right;\">\n",
       "      <th></th>\n",
       "      <th>yprice</th>\n",
       "      <th>bathrooms</th>\n",
       "      <th>bedrooms</th>\n",
       "      <th>daysOnMarket</th>\n",
       "      <th>lot</th>\n",
       "      <th>sqFeet</th>\n",
       "      <th>yrBuilt</th>\n",
       "      <th>cul_de_sac_Y</th>\n",
       "      <th>den_Y</th>\n",
       "      <th>diningRoom_Y</th>\n",
       "      <th>laundry_Y</th>\n",
       "    </tr>\n",
       "  </thead>\n",
       "  <tbody>\n",
       "    <tr>\n",
       "      <th>0</th>\n",
       "      <td>239900</td>\n",
       "      <td>3</td>\n",
       "      <td>5</td>\n",
       "      <td>1138</td>\n",
       "      <td>0.12</td>\n",
       "      <td>2833</td>\n",
       "      <td>2004</td>\n",
       "      <td>1</td>\n",
       "      <td>0</td>\n",
       "      <td>1</td>\n",
       "      <td>1</td>\n",
       "    </tr>\n",
       "    <tr>\n",
       "      <th>1</th>\n",
       "      <td>475000</td>\n",
       "      <td>4</td>\n",
       "      <td>6</td>\n",
       "      <td>1098</td>\n",
       "      <td>0.26</td>\n",
       "      <td>3735</td>\n",
       "      <td>2006</td>\n",
       "      <td>0</td>\n",
       "      <td>1</td>\n",
       "      <td>1</td>\n",
       "      <td>1</td>\n",
       "    </tr>\n",
       "    <tr>\n",
       "      <th>2</th>\n",
       "      <td>389400</td>\n",
       "      <td>3</td>\n",
       "      <td>4</td>\n",
       "      <td>1041</td>\n",
       "      <td>0.35</td>\n",
       "      <td>3169</td>\n",
       "      <td>2010</td>\n",
       "      <td>0</td>\n",
       "      <td>1</td>\n",
       "      <td>0</td>\n",
       "      <td>1</td>\n",
       "    </tr>\n",
       "    <tr>\n",
       "      <th>3</th>\n",
       "      <td>259900</td>\n",
       "      <td>2</td>\n",
       "      <td>4</td>\n",
       "      <td>909</td>\n",
       "      <td>0.28</td>\n",
       "      <td>3196</td>\n",
       "      <td>1983</td>\n",
       "      <td>0</td>\n",
       "      <td>1</td>\n",
       "      <td>0</td>\n",
       "      <td>1</td>\n",
       "    </tr>\n",
       "    <tr>\n",
       "      <th>4</th>\n",
       "      <td>270000</td>\n",
       "      <td>4</td>\n",
       "      <td>3</td>\n",
       "      <td>853</td>\n",
       "      <td>0.33</td>\n",
       "      <td>3656</td>\n",
       "      <td>2004</td>\n",
       "      <td>1</td>\n",
       "      <td>1</td>\n",
       "      <td>0</td>\n",
       "      <td>1</td>\n",
       "    </tr>\n",
       "  </tbody>\n",
       "</table>\n",
       "</div>"
      ],
      "text/plain": [
       "   yprice  bathrooms  bedrooms  daysOnMarket   lot  sqFeet  yrBuilt  \\\n",
       "0  239900          3         5          1138  0.12    2833     2004   \n",
       "1  475000          4         6          1098  0.26    3735     2006   \n",
       "2  389400          3         4          1041  0.35    3169     2010   \n",
       "3  259900          2         4           909  0.28    3196     1983   \n",
       "4  270000          4         3           853  0.33    3656     2004   \n",
       "\n",
       "   cul_de_sac_Y  den_Y  diningRoom_Y  laundry_Y  \n",
       "0             1      0             1          1  \n",
       "1             0      1             1          1  \n",
       "2             0      1             0          1  \n",
       "3             0      1             0          1  \n",
       "4             1      1             0          1  "
      ]
     },
     "execution_count": 7,
     "metadata": {},
     "output_type": "execute_result"
    }
   ],
   "source": [
    "import sklearn \n",
    "from sklearn.linear_model import LinearRegression\n",
    "\n",
    "\n",
    "train = pd.get_dummies(train, prefix = ['cul_de_sac', 'den', 'diningRoom', 'laundry'],\n",
    "                      columns = ['cul_de_sac', 'den', 'diningRoom', 'laundry'],\n",
    "                      drop_first=True)\n",
    "train.head()"
   ]
  },
  {
   "cell_type": "code",
   "execution_count": 8,
   "metadata": {},
   "outputs": [],
   "source": [
    "## Create a function to create a heatmap correlation table\n",
    "def CorrelationTable(df, width, height):\n",
    "\n",
    "    # Create Correlation df from source df\n",
    "    corr = df.corr()\n",
    "    # Plot figsize\n",
    "    fig, ax = plt.subplots(figsize=(width, height))\n",
    "    # Drop self-correlations\n",
    "    dropSelf = np.zeros_like(corr)\n",
    "    dropSelf[np.triu_indices_from(dropSelf)] = True \n",
    "\n",
    "    # Generate Heat Map, allow annotations and place floats in map\n",
    "    sns.heatmap(corr, cmap=\"RdBu\", annot=True, fmt=\".2f\", mask=dropSelf, \n",
    "        xticklabels=corr.columns, \n",
    "            yticklabels=corr.columns, ax=ax, linewidths=.5, cbar_kws={\"shrink\": .7},\n",
    "            vmin = -1, vmax=1, center=0)\n",
    "    plt.title('Correlation HeatMap',fontsize=14)\n",
    "    plt.show()  "
   ]
  },
  {
   "cell_type": "code",
   "execution_count": 9,
   "metadata": {},
   "outputs": [
    {
     "data": {
      "image/png": "[encoded data removed]",
      "text/plain": [
       "<Figure size 864x720 with 2 Axes>"
      ]
     },
     "metadata": {
      "needs_background": "light"
     },
     "output_type": "display_data"
    }
   ],
   "source": [
    "CorrelationTable(train,12,10)"
   ]
  },
  {
   "cell_type": "code",
   "execution_count": 10,
   "metadata": {},
   "outputs": [
    {
     "name": "stdout",
     "output_type": "stream",
     "text": [
      "<class 'pandas.core.frame.DataFrame'>\n",
      "<class 'pandas.core.series.Series'>\n"
     ]
    }
   ],
   "source": [
    "x_vars = train.drop(columns = ['yprice'])\n",
    "\n",
    "y_vars= train.yprice\n",
    "\n",
    "print(type(x_vars))\n",
    "print(type(y_vars))"
   ]
  },
  {
   "cell_type": "code",
   "execution_count": 11,
   "metadata": {},
   "outputs": [
    {
     "name": "stdout",
     "output_type": "stream",
     "text": [
      "   bathrooms  bedrooms  daysOnMarket   lot  sqFeet  yrBuilt  cul_de_sac_Y  \\\n",
      "0          3         5          1138  0.12    2833     2004             1   \n",
      "1          4         6          1098  0.26    3735     2006             0   \n",
      "2          3         4          1041  0.35    3169     2010             0   \n",
      "4          4         3           853  0.33    3656     2004             1   \n",
      "5          3         4           803  0.25    2280     2007             1   \n",
      "\n",
      "   den_Y  diningRoom_Y  laundry_Y  \n",
      "0      0             1          1  \n",
      "1      1             1          1  \n",
      "2      1             0          1  \n",
      "4      1             0          1  \n",
      "5      0             1          1  \n",
      "    bathrooms  bedrooms  daysOnMarket   lot  sqFeet  yrBuilt  cul_de_sac_Y  \\\n",
      "3           2         4           909  0.28    3196     1983             0   \n",
      "6           3         6           788  0.21    3254     2003             0   \n",
      "8           3         3           787  0.13    2216     2002             0   \n",
      "9           3         3           743  0.30    3604     2010             0   \n",
      "10          2         4           743  0.22    3500     2011             0   \n",
      "\n",
      "    den_Y  diningRoom_Y  laundry_Y  \n",
      "3       1             0          1  \n",
      "6       1             1          1  \n",
      "8       0             0          1  \n",
      "9       0             1          1  \n",
      "10      0             0          1  \n",
      "0    239900\n",
      "1    475000\n",
      "2    389400\n",
      "4    270000\n",
      "5    184900\n",
      "Name: yprice, dtype: int64\n",
      "3     259900\n",
      "6     265000\n",
      "8     165000\n",
      "9     206900\n",
      "10    194900\n",
      "Name: yprice, dtype: int64\n"
     ]
    }
   ],
   "source": [
    "from sklearn.model_selection import train_test_split\n",
    "\n",
    "# Partition the datasets\n",
    "x_train, x_valid, y_train, y_valid = train_test_split(x_vars, y_vars,\n",
    "                                                     test_size=0.4,\n",
    "                                                     random_state=1)\n",
    "# Create sorted versions\n",
    "x_train = x_train.sort_index()\n",
    "x_valid = x_valid.sort_index()\n",
    "y_train = y_train.sort_index()\n",
    "y_valid = y_valid.sort_index()\n",
    "\n",
    "print(x_train.head())\n",
    "print(x_valid.head())\n",
    "print(y_train.head())\n",
    "print(y_valid.head())"
   ]
  },
  {
   "cell_type": "code",
   "execution_count": 12,
   "metadata": {},
   "outputs": [
    {
     "data": {
      "text/plain": [
       "LinearRegression(copy_X=True, fit_intercept=True, n_jobs=None, normalize=False)"
      ]
     },
     "execution_count": 12,
     "metadata": {},
     "output_type": "execute_result"
    }
   ],
   "source": [
    "# Get linear regression method from library\n",
    "from sklearn.linear_model import LinearRegression\n",
    "\n",
    "# Create multiple linear regression object\n",
    "mlr = LinearRegression()\n",
    "\n",
    "## step 2: fit (train) the linear model with the training data\n",
    "mlr.fit(x_train, y_train)"
   ]
  },
  {
   "cell_type": "code",
   "execution_count": 13,
   "metadata": {},
   "outputs": [
    {
     "name": "stdout",
     "output_type": "stream",
     "text": [
      "Intercept: 560937.288 \n"
     ]
    },
    {
     "data": {
      "text/html": [
       "<div>\n",
       "<style scoped>\n",
       "    .dataframe tbody tr th:only-of-type {\n",
       "        vertical-align: middle;\n",
       "    }\n",
       "\n",
       "    .dataframe tbody tr th {\n",
       "        vertical-align: top;\n",
       "    }\n",
       "\n",
       "    .dataframe thead th {\n",
       "        text-align: right;\n",
       "    }\n",
       "</style>\n",
       "<table border=\"1\" class=\"dataframe\">\n",
       "  <thead>\n",
       "    <tr style=\"text-align: right;\">\n",
       "      <th></th>\n",
       "      <th>Coefficient</th>\n",
       "    </tr>\n",
       "  </thead>\n",
       "  <tbody>\n",
       "    <tr>\n",
       "      <th>bathrooms</th>\n",
       "      <td>14081.790785</td>\n",
       "    </tr>\n",
       "    <tr>\n",
       "      <th>bedrooms</th>\n",
       "      <td>-171.046696</td>\n",
       "    </tr>\n",
       "    <tr>\n",
       "      <th>daysOnMarket</th>\n",
       "      <td>-0.341640</td>\n",
       "    </tr>\n",
       "    <tr>\n",
       "      <th>lot</th>\n",
       "      <td>56405.843185</td>\n",
       "    </tr>\n",
       "    <tr>\n",
       "      <th>sqFeet</th>\n",
       "      <td>53.790459</td>\n",
       "    </tr>\n",
       "    <tr>\n",
       "      <th>yrBuilt</th>\n",
       "      <td>-267.010558</td>\n",
       "    </tr>\n",
       "    <tr>\n",
       "      <th>cul_de_sac_Y</th>\n",
       "      <td>10685.235918</td>\n",
       "    </tr>\n",
       "    <tr>\n",
       "      <th>den_Y</th>\n",
       "      <td>24499.523183</td>\n",
       "    </tr>\n",
       "    <tr>\n",
       "      <th>diningRoom_Y</th>\n",
       "      <td>-506.733085</td>\n",
       "    </tr>\n",
       "    <tr>\n",
       "      <th>laundry_Y</th>\n",
       "      <td>-18364.006529</td>\n",
       "    </tr>\n",
       "  </tbody>\n",
       "</table>\n",
       "</div>"
      ],
      "text/plain": [
       "               Coefficient\n",
       "bathrooms     14081.790785\n",
       "bedrooms       -171.046696\n",
       "daysOnMarket     -0.341640\n",
       "lot           56405.843185\n",
       "sqFeet           53.790459\n",
       "yrBuilt        -267.010558\n",
       "cul_de_sac_Y  10685.235918\n",
       "den_Y         24499.523183\n",
       "diningRoom_Y   -506.733085\n",
       "laundry_Y    -18364.006529"
      ]
     },
     "execution_count": 13,
     "metadata": {},
     "output_type": "execute_result"
    }
   ],
   "source": [
    "# Get the intercept and coefficients for the input variables\n",
    "print(\"Intercept: {0:.3f} \".format(mlr.intercept_))\n",
    "\n",
    "coeff_df = pd.DataFrame(mlr.coef_, x_train.columns, columns=['Coefficient'])\n",
    "coeff_df"
   ]
  },
  {
   "cell_type": "code",
   "execution_count": 15,
   "metadata": {},
   "outputs": [
    {
     "name": "stdout",
     "output_type": "stream",
     "text": [
      "                            OLS Regression Results                            \n",
      "==============================================================================\n",
      "Dep. Variable:                 yprice   R-squared:                       0.558\n",
      "Model:                            OLS   Adj. R-squared:                  0.553\n",
      "Method:                 Least Squares   F-statistic:                     114.9\n",
      "Date:                Sat, 28 Sep 2019   Prob (F-statistic):          9.68e-154\n",
      "Time:                        11:20:14   Log-Likelihood:                -11185.\n",
      "No. Observations:                 920   AIC:                         2.239e+04\n",
      "Df Residuals:                     909   BIC:                         2.245e+04\n",
      "Df Model:                          10                                         \n",
      "Covariance Type:            nonrobust                                         \n",
      "================================================================================\n",
      "                   coef    std err          t      P>|t|      [0.025      0.975]\n",
      "--------------------------------------------------------------------------------\n",
      "const         5.609e+05    3.9e+05      1.439      0.150   -2.04e+05    1.33e+06\n",
      "bathrooms     1.408e+04   2864.840      4.915      0.000    8459.322    1.97e+04\n",
      "bedrooms      -171.0467   1876.567     -0.091      0.927   -3853.954    3511.861\n",
      "daysOnMarket    -0.3416     10.186     -0.034      0.973     -20.333      19.650\n",
      "lot           5.641e+04   9039.967      6.240      0.000    3.87e+04    7.41e+04\n",
      "sqFeet          53.7905      2.580     20.851      0.000      48.728      58.853\n",
      "yrBuilt       -267.0106    193.926     -1.377      0.169    -647.605     113.583\n",
      "cul_de_sac_Y  1.069e+04   4546.560      2.350      0.019    1762.260    1.96e+04\n",
      "den_Y          2.45e+04   3773.003      6.493      0.000    1.71e+04    3.19e+04\n",
      "diningRoom_Y  -506.7331   3102.330     -0.163      0.870   -6595.295    5581.829\n",
      "laundry_Y    -1.836e+04   6920.813     -2.653      0.008   -3.19e+04   -4781.377\n",
      "==============================================================================\n",
      "Omnibus:                      186.016   Durbin-Watson:                   1.893\n",
      "Prob(Omnibus):                  0.000   Jarque-Bera (JB):              578.226\n",
      "Skew:                           0.984   Prob(JB):                    2.75e-126\n",
      "Kurtosis:                       6.349   Cond. No.                     9.88e+05\n",
      "==============================================================================\n",
      "\n",
      "Warnings:\n",
      "[1] Standard Errors assume that the covariance matrix of the errors is correctly specified.\n",
      "[2] The condition number is large, 9.88e+05. This might indicate that there are\n",
      "strong multicollinearity or other numerical problems.\n",
      "const           0.150\n",
      "bathrooms       0.000\n",
      "bedrooms        0.927\n",
      "daysOnMarket    0.973\n",
      "lot             0.000\n",
      "sqFeet          0.000\n",
      "yrBuilt         0.169\n",
      "cul_de_sac_Y    0.019\n",
      "den_Y           0.000\n",
      "diningRoom_Y    0.870\n",
      "laundry_Y       0.008\n",
      "dtype: float64\n"
     ]
    }
   ],
   "source": [
    "# Get the P-value of the coefficients\n",
    "X2 = sm.add_constant(x_train)\n",
    "est = sm.OLS(y_train, X2)\n",
    "est2 = est.fit()\n",
    "print(est2.summary())\n",
    "#print(round(est2.pvalues.astype('float'),3))"
   ]
  },
  {
   "cell_type": "code",
   "execution_count": 16,
   "metadata": {},
   "outputs": [],
   "source": [
    "y_pred = mlr.predict(x_valid)"
   ]
  },
  {
   "cell_type": "code",
   "execution_count": 17,
   "metadata": {},
   "outputs": [
    {
     "data": {
      "text/html": [
       "<div>\n",
       "<style scoped>\n",
       "    .dataframe tbody tr th:only-of-type {\n",
       "        vertical-align: middle;\n",
       "    }\n",
       "\n",
       "    .dataframe tbody tr th {\n",
       "        vertical-align: top;\n",
       "    }\n",
       "\n",
       "    .dataframe thead th {\n",
       "        text-align: right;\n",
       "    }\n",
       "</style>\n",
       "<table border=\"1\" class=\"dataframe\">\n",
       "  <thead>\n",
       "    <tr style=\"text-align: right;\">\n",
       "      <th></th>\n",
       "      <th>Actual</th>\n",
       "      <th>Predicted</th>\n",
       "    </tr>\n",
       "  </thead>\n",
       "  <tbody>\n",
       "    <tr>\n",
       "      <th>3</th>\n",
       "      <td>259900</td>\n",
       "      <td>252467.655188</td>\n",
       "    </tr>\n",
       "    <tr>\n",
       "      <th>6</th>\n",
       "      <td>265000</td>\n",
       "      <td>259573.184338</td>\n",
       "    </tr>\n",
       "    <tr>\n",
       "      <th>8</th>\n",
       "      <td>165000</td>\n",
       "      <td>176013.922858</td>\n",
       "    </tr>\n",
       "    <tr>\n",
       "      <th>9</th>\n",
       "      <td>206900</td>\n",
       "      <td>257636.287587</td>\n",
       "    </tr>\n",
       "    <tr>\n",
       "      <th>10</th>\n",
       "      <td>194900</td>\n",
       "      <td>233516.497465</td>\n",
       "    </tr>\n",
       "  </tbody>\n",
       "</table>\n",
       "</div>"
      ],
      "text/plain": [
       "    Actual      Predicted\n",
       "3   259900  252467.655188\n",
       "6   265000  259573.184338\n",
       "8   165000  176013.922858\n",
       "9   206900  257636.287587\n",
       "10  194900  233516.497465"
      ]
     },
     "execution_count": 17,
     "metadata": {},
     "output_type": "execute_result"
    }
   ],
   "source": [
    "# Create a Datafram to display the results of the actual and the predicted values\n",
    "df = DataFrame({'Actual': y_valid, 'Predicted': y_pred})\n",
    "df.head()"
   ]
  },
  {
   "cell_type": "code",
   "execution_count": 19,
   "metadata": {},
   "outputs": [
    {
     "name": "stdout",
     "output_type": "stream",
     "text": [
      "R2: 0.502 \n",
      "MAE: 34039.3 \n",
      "RMSE: 45858.4 \n"
     ]
    }
   ],
   "source": [
    "# Evaluate the model fit for our model\n",
    "\n",
    "R2 = sklearn.metrics.r2_score(y_valid, y_pred)\n",
    "MAE = sklearn.metrics.mean_absolute_error(y_valid, y_pred)\n",
    "RMSE = np.sqrt(sklearn.metrics.mean_squared_error(y_valid, y_pred))\n",
    "               \n",
    "print(\"R2: {0:.3f} \".format(R2))\n",
    "print(\"MAE: {0:.1f} \".format(MAE))\n",
    "print(\"RMSE: {0:.1f} \".format(RMSE))"
   ]
  },
  {
   "cell_type": "code",
   "execution_count": 20,
   "metadata": {},
   "outputs": [
    {
     "data": {
      "text/html": [
       "<div>\n",
       "<style scoped>\n",
       "    .dataframe tbody tr th:only-of-type {\n",
       "        vertical-align: middle;\n",
       "    }\n",
       "\n",
       "    .dataframe tbody tr th {\n",
       "        vertical-align: top;\n",
       "    }\n",
       "\n",
       "    .dataframe thead th {\n",
       "        text-align: right;\n",
       "    }\n",
       "</style>\n",
       "<table border=\"1\" class=\"dataframe\">\n",
       "  <thead>\n",
       "    <tr style=\"text-align: right;\">\n",
       "      <th></th>\n",
       "      <th>bathrooms</th>\n",
       "      <th>lot</th>\n",
       "      <th>sqFeet</th>\n",
       "      <th>cul_de_sac_Y</th>\n",
       "      <th>den_Y</th>\n",
       "      <th>laundry_Y</th>\n",
       "    </tr>\n",
       "  </thead>\n",
       "  <tbody>\n",
       "    <tr>\n",
       "      <th>0</th>\n",
       "      <td>3</td>\n",
       "      <td>0.12</td>\n",
       "      <td>2833</td>\n",
       "      <td>1</td>\n",
       "      <td>0</td>\n",
       "      <td>1</td>\n",
       "    </tr>\n",
       "    <tr>\n",
       "      <th>1</th>\n",
       "      <td>4</td>\n",
       "      <td>0.26</td>\n",
       "      <td>3735</td>\n",
       "      <td>0</td>\n",
       "      <td>1</td>\n",
       "      <td>1</td>\n",
       "    </tr>\n",
       "    <tr>\n",
       "      <th>2</th>\n",
       "      <td>3</td>\n",
       "      <td>0.35</td>\n",
       "      <td>3169</td>\n",
       "      <td>0</td>\n",
       "      <td>1</td>\n",
       "      <td>1</td>\n",
       "    </tr>\n",
       "    <tr>\n",
       "      <th>4</th>\n",
       "      <td>4</td>\n",
       "      <td>0.33</td>\n",
       "      <td>3656</td>\n",
       "      <td>1</td>\n",
       "      <td>1</td>\n",
       "      <td>1</td>\n",
       "    </tr>\n",
       "    <tr>\n",
       "      <th>5</th>\n",
       "      <td>3</td>\n",
       "      <td>0.25</td>\n",
       "      <td>2280</td>\n",
       "      <td>1</td>\n",
       "      <td>0</td>\n",
       "      <td>1</td>\n",
       "    </tr>\n",
       "  </tbody>\n",
       "</table>\n",
       "</div>"
      ],
      "text/plain": [
       "   bathrooms   lot  sqFeet  cul_de_sac_Y  den_Y  laundry_Y\n",
       "0          3  0.12    2833             1      0          1\n",
       "1          4  0.26    3735             0      1          1\n",
       "2          3  0.35    3169             0      1          1\n",
       "4          4  0.33    3656             1      1          1\n",
       "5          3  0.25    2280             1      0          1"
      ]
     },
     "execution_count": 20,
     "metadata": {},
     "output_type": "execute_result"
    }
   ],
   "source": [
    "# Remove the columns that were not significant predictors of price\n",
    "x_train2 = x_train.drop(columns = ['bedrooms', 'daysOnMarket','yrBuilt','diningRoom_Y'])\n",
    "x_valid2 = x_valid.drop(columns = ['bedrooms', 'daysOnMarket','yrBuilt','diningRoom_Y'])\n",
    "print(x_train2.head())\n",
    "print(x_valid2.head())"
   ]
  },
  {
   "cell_type": "code",
   "execution_count": 22,
   "metadata": {},
   "outputs": [
    {
     "data": {
      "text/plain": [
       "LinearRegression(copy_X=True, fit_intercept=True, n_jobs=None, normalize=False)"
      ]
     },
     "execution_count": 22,
     "metadata": {},
     "output_type": "execute_result"
    }
   ],
   "source": [
    "# Fit the new regression\n",
    "mlr.fit(x_train2, y_train)"
   ]
  },
  {
   "cell_type": "code",
   "execution_count": 23,
   "metadata": {},
   "outputs": [
    {
     "name": "stdout",
     "output_type": "stream",
     "text": [
      "const           0.024\n",
      "bathrooms       0.000\n",
      "lot             0.000\n",
      "sqFeet          0.000\n",
      "cul_de_sac_Y    0.013\n",
      "den_Y           0.000\n",
      "laundry_Y       0.008\n",
      "dtype: float64\n"
     ]
    },
    {
     "name": "stderr",
     "output_type": "stream",
     "text": [
      "C:\\Users\\rdmcl\\Anaconda3.1\\lib\\site-packages\\numpy\\core\\fromnumeric.py:2389: FutureWarning: Method .ptp is deprecated and will be removed in a future version. Use numpy.ptp instead.\n",
      "  return ptp(axis=axis, out=out, **kwargs)\n"
     ]
    }
   ],
   "source": [
    "# Look at the model\n",
    "X2 = sm.add_constant(x_train2)\n",
    "est = sm.OLS(y_train, X2)\n",
    "est2 = est.fit()\n",
    "print(round(est2.pvalues.astype('float'),3))"
   ]
  },
  {
   "cell_type": "code",
   "execution_count": 24,
   "metadata": {},
   "outputs": [
    {
     "name": "stdout",
     "output_type": "stream",
     "text": [
      "Intercept: 24793.800 \n"
     ]
    },
    {
     "data": {
      "text/html": [
       "<div>\n",
       "<style scoped>\n",
       "    .dataframe tbody tr th:only-of-type {\n",
       "        vertical-align: middle;\n",
       "    }\n",
       "\n",
       "    .dataframe tbody tr th {\n",
       "        vertical-align: top;\n",
       "    }\n",
       "\n",
       "    .dataframe thead th {\n",
       "        text-align: right;\n",
       "    }\n",
       "</style>\n",
       "<table border=\"1\" class=\"dataframe\">\n",
       "  <thead>\n",
       "    <tr style=\"text-align: right;\">\n",
       "      <th></th>\n",
       "      <th>Coefficient</th>\n",
       "    </tr>\n",
       "  </thead>\n",
       "  <tbody>\n",
       "    <tr>\n",
       "      <th>bathrooms</th>\n",
       "      <td>14917.076737</td>\n",
       "    </tr>\n",
       "    <tr>\n",
       "      <th>lot</th>\n",
       "      <td>58785.852307</td>\n",
       "    </tr>\n",
       "    <tr>\n",
       "      <th>sqFeet</th>\n",
       "      <td>52.792289</td>\n",
       "    </tr>\n",
       "    <tr>\n",
       "      <th>cul_de_sac_Y</th>\n",
       "      <td>11249.640856</td>\n",
       "    </tr>\n",
       "    <tr>\n",
       "      <th>den_Y</th>\n",
       "      <td>25371.124058</td>\n",
       "    </tr>\n",
       "    <tr>\n",
       "      <th>laundry_Y</th>\n",
       "      <td>-18325.833987</td>\n",
       "    </tr>\n",
       "  </tbody>\n",
       "</table>\n",
       "</div>"
      ],
      "text/plain": [
       "               Coefficient\n",
       "bathrooms     14917.076737\n",
       "lot           58785.852307\n",
       "sqFeet           52.792289\n",
       "cul_de_sac_Y  11249.640856\n",
       "den_Y         25371.124058\n",
       "laundry_Y    -18325.833987"
      ]
     },
     "execution_count": 24,
     "metadata": {},
     "output_type": "execute_result"
    }
   ],
   "source": [
    "# get the intercept and coefficients for the input variables\n",
    "print(\"Intercept: {0:.3f} \".format(mlr.intercept_))\n",
    "\n",
    "coeff_df = pd.DataFrame(mlr.coef_, x_train2.columns, columns=['Coefficient'])\n",
    "coeff_df"
   ]
  },
  {
   "cell_type": "code",
   "execution_count": 25,
   "metadata": {},
   "outputs": [
    {
     "name": "stdout",
     "output_type": "stream",
     "text": [
      "                            OLS Regression Results                            \n",
      "==============================================================================\n",
      "Dep. Variable:                 yprice   R-squared:                       0.557\n",
      "Model:                            OLS   Adj. R-squared:                  0.554\n",
      "Method:                 Least Squares   F-statistic:                     191.5\n",
      "Date:                Sat, 28 Sep 2019   Prob (F-statistic):          1.05e-157\n",
      "Time:                        11:32:32   Log-Likelihood:                -11186.\n",
      "No. Observations:                 920   AIC:                         2.239e+04\n",
      "Df Residuals:                     913   BIC:                         2.242e+04\n",
      "Df Model:                           6                                         \n",
      "Covariance Type:            nonrobust                                         \n",
      "================================================================================\n",
      "                   coef    std err          t      P>|t|      [0.025      0.975]\n",
      "--------------------------------------------------------------------------------\n",
      "const         2.479e+04    1.1e+04      2.258      0.024    3241.996    4.63e+04\n",
      "bathrooms     1.492e+04   2469.086      6.042      0.000    1.01e+04    1.98e+04\n",
      "lot           5.879e+04   8883.788      6.617      0.000    4.14e+04    7.62e+04\n",
      "sqFeet          52.7923      2.484     21.255      0.000      47.918      57.667\n",
      "cul_de_sac_Y  1.125e+04   4521.118      2.488      0.013    2376.649    2.01e+04\n",
      "den_Y         2.537e+04   3720.689      6.819      0.000    1.81e+04    3.27e+04\n",
      "laundry_Y    -1.833e+04   6890.498     -2.660      0.008   -3.18e+04   -4802.778\n",
      "==============================================================================\n",
      "Omnibus:                      193.209   Durbin-Watson:                   1.887\n",
      "Prob(Omnibus):                  0.000   Jarque-Bera (JB):              626.334\n",
      "Skew:                           1.007   Prob(JB):                    9.85e-137\n",
      "Kurtosis:                       6.505   Cond. No.                     2.62e+04\n",
      "==============================================================================\n",
      "\n",
      "Warnings:\n",
      "[1] Standard Errors assume that the covariance matrix of the errors is correctly specified.\n",
      "[2] The condition number is large, 2.62e+04. This might indicate that there are\n",
      "strong multicollinearity or other numerical problems.\n"
     ]
    }
   ],
   "source": [
    "# Get the P-Value of the coefficients\n",
    "X2 = sm.add_constant(x_train2)\n",
    "est = sm.OLS(y_train, X2)\n",
    "est2 = est.fit()\n",
    "print(est2.summary())"
   ]
  },
  {
   "cell_type": "code",
   "execution_count": 26,
   "metadata": {},
   "outputs": [
    {
     "data": {
      "text/html": [
       "<div>\n",
       "<style scoped>\n",
       "    .dataframe tbody tr th:only-of-type {\n",
       "        vertical-align: middle;\n",
       "    }\n",
       "\n",
       "    .dataframe tbody tr th {\n",
       "        vertical-align: top;\n",
       "    }\n",
       "\n",
       "    .dataframe thead th {\n",
       "        text-align: right;\n",
       "    }\n",
       "</style>\n",
       "<table border=\"1\" class=\"dataframe\">\n",
       "  <thead>\n",
       "    <tr style=\"text-align: right;\">\n",
       "      <th></th>\n",
       "      <th>Actual</th>\n",
       "      <th>Predicted</th>\n",
       "    </tr>\n",
       "  </thead>\n",
       "  <tbody>\n",
       "    <tr>\n",
       "      <th>3</th>\n",
       "      <td>259900</td>\n",
       "      <td>246857.438448</td>\n",
       "    </tr>\n",
       "    <tr>\n",
       "      <th>6</th>\n",
       "      <td>265000</td>\n",
       "      <td>260721.458301</td>\n",
       "    </tr>\n",
       "    <tr>\n",
       "      <th>8</th>\n",
       "      <td>165000</td>\n",
       "      <td>175849.069794</td>\n",
       "    </tr>\n",
       "    <tr>\n",
       "      <th>9</th>\n",
       "      <td>206900</td>\n",
       "      <td>259118.362196</td>\n",
       "    </tr>\n",
       "    <tr>\n",
       "      <th>10</th>\n",
       "      <td>194900</td>\n",
       "      <td>234008.019190</td>\n",
       "    </tr>\n",
       "  </tbody>\n",
       "</table>\n",
       "</div>"
      ],
      "text/plain": [
       "    Actual      Predicted\n",
       "3   259900  246857.438448\n",
       "6   265000  260721.458301\n",
       "8   165000  175849.069794\n",
       "9   206900  259118.362196\n",
       "10  194900  234008.019190"
      ]
     },
     "execution_count": 26,
     "metadata": {},
     "output_type": "execute_result"
    }
   ],
   "source": [
    "y_pred = mlr.predict(x_valid2)\n",
    "\n",
    "df = DataFrame({'Actual': y_valid, 'Predicted': y_pred})  \n",
    "\n",
    "df.head()"
   ]
  },
  {
   "cell_type": "code",
   "execution_count": 27,
   "metadata": {},
   "outputs": [
    {
     "name": "stdout",
     "output_type": "stream",
     "text": [
      "R2: 0.508 \n",
      "MAE: 33825.2 \n",
      "RMSE: 45572.0 \n"
     ]
    }
   ],
   "source": [
    "R2 = sklearn.metrics.r2_score(y_valid, y_pred)\n",
    "MAE = sklearn.metrics.mean_absolute_error(y_valid, y_pred)\n",
    "RMSE = np.sqrt(sklearn.metrics.mean_squared_error(y_valid, y_pred))\n",
    "\n",
    "print(\"R2: {0:.3f} \".format(R2))\n",
    "print(\"MAE: {0:.1f} \".format(MAE))\n",
    "print(\"RMSE: {0:.1f} \".format(RMSE)) "
   ]
  },
  {
   "cell_type": "code",
   "execution_count": null,
   "metadata": {},
   "outputs": [],
   "source": []
  }
 ],
 "metadata": {
  "kernelspec": {
   "display_name": "Python 3",
   "language": "python",
   "name": "python3"
  },
  "language_info": {
   "codemirror_mode": {
    "name": "ipython",
    "version": 3
   },
   "file_extension": ".py",
   "mimetype": "text/x-python",
   "name": "python",
   "nbconvert_exporter": "python",
   "pygments_lexer": "ipython3",
   "version": "3.7.3"
  }
 },
 "nbformat": 4,
 "nbformat_minor": 2
}
