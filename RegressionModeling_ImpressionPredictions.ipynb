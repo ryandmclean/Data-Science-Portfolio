{
 "cells": [
  {
   "attachments": {},
   "cell_type": "markdown",
   "id": "homeless-quality",
   "metadata": {
    "id": "bA5ajAmk7XH6"
   },
   "source": [
    "# Impression Predictions\n",
    "\n",
    "### Objective: Listing Impression Predictions\n",
    "\n",
    "Nearly New Nautical is a (fictional) website that allows users to advertise their used boats for sale. When users list their boat, they have to provide a range of information about their boat. Boats that get lots of views bring more traffic to the website, and more potential customers. To boost traffic to the website, the product manager wants to prevent listing boats that do not receive many views.\n",
    "\n",
    "Create a prediction for the number of views a listing will receive based on the boat's features?\n",
    "\n",
    "### Success Criteria\n",
    "Create a model that is, on average, less than 50% off of the true number of views a listing received.\n",
    "\n",
    "\n",
    "### Summary\n",
    "Listings that are more expensive, located in Switzerland, have a larger area, and were built more recently tend to drive website traffic the most\n",
    "\n",
    "Using this algorithm, we can predict within 46% the number of views a listing will have. \n",
    "With this information, we can choose to focus our attention on providing the best options for our consumers. "
   ]
  },
  {
   "cell_type": "markdown",
   "id": "4675d150-a57a-4734-b2fd-c95f0900875e",
   "metadata": {},
   "source": [
    "# Import Packages and Data\n",
    "The imported data contains information from 9,888 boat listings and there are 9 different attributes for each boat"
   ]
  },
  {
   "cell_type": "code",
   "execution_count": 1,
   "id": "dramatic-hampshire",
   "metadata": {
    "scrolled": true
   },
   "outputs": [],
   "source": [
    "# Import packages for analysis and visualization\n",
    "import pandas as pd\n",
    "import matplotlib.pyplot as plt\n",
    "import seaborn as sns\n",
    "import numpy as np"
   ]
  },
  {
   "cell_type": "code",
   "execution_count": 2,
   "id": "6a6dc426-22bb-4d34-ac3d-c9dff6ca3a02",
   "metadata": {},
   "outputs": [
    {
     "name": "stdout",
     "output_type": "stream",
     "text": [
      "The size of the data is: (9888, 10)\n"
     ]
    },
    {
     "data": {
      "application/com.datacamp.data-table.v1+json": {
       "table": {
        "data": [
         {
          "Boat Type": "Motor Yacht",
          "Length": 4,
          "Location": "Switzerland Â» Lake Geneva Â» VÃ©senaz",
          "Manufacturer": "Rigiflex power boats",
          "Material": null,
          "Price": "CHF 3337",
          "Type": "new boat from stock",
          "Views": 226,
          "Width": 1.9,
          "Year Built": 2017,
          "index": 0
         },
         {
          "Boat Type": "Center console boat",
          "Length": 4,
          "Location": "Germany Â» BÃ¶nningstedt",
          "Manufacturer": "Terhi power boats",
          "Material": "Thermoplastic",
          "Price": "EUR 3490",
          "Type": "new boat from stock",
          "Views": 75,
          "Width": 1.5,
          "Year Built": 2020,
          "index": 1
         },
         {
          "Boat Type": "Sport Boat",
          "Length": 3.69,
          "Location": "Switzerland Â» Lake of Zurich Â» StÃ¤fa ZH",
          "Manufacturer": "Marine power boats",
          "Material": "Aluminium",
          "Price": "CHF 3770",
          "Type": "new boat from stock",
          "Views": 124,
          "Width": 1.42,
          "Year Built": 0,
          "index": 2
         },
         {
          "Boat Type": "Sport Boat",
          "Length": 3,
          "Location": "Denmark Â» Svendborg",
          "Manufacturer": "Pioner power boats",
          "Material": null,
          "Price": "DKK 25900",
          "Type": "new boat from stock",
          "Views": 64,
          "Width": 1,
          "Year Built": 2020,
          "index": 3
         },
         {
          "Boat Type": "Fishing Boat",
          "Length": 3.55,
          "Location": "Germany Â» Bayern Â» MÃ¼nchen",
          "Manufacturer": "Linder power boats",
          "Material": "Aluminium",
          "Price": "EUR 3399",
          "Type": "new boat from stock",
          "Views": 58,
          "Width": 1.46,
          "Year Built": 2019,
          "index": 4
         },
         {
          "Boat Type": "Sport Boat",
          "Length": 4.03,
          "Location": "Switzerland Â» Lake Constance Â» Uttwil",
          "Manufacturer": "Linder power boats",
          "Material": "Aluminium",
          "Price": "CHF 3650",
          "Type": "new boat from stock",
          "Views": 132,
          "Width": 1.56,
          "Year Built": 0,
          "index": 5
         },
         {
          "Boat Type": "Catamaran",
          "Length": 6.2,
          "Location": "Switzerland Â» Neuenburgersee Â» Yvonand ",
          "Manufacturer": null,
          "Material": "Aluminium",
          "Price": "CHF 3600",
          "Type": "Used boat,Unleaded",
          "Views": 474,
          "Width": 2.38,
          "Year Built": 1999,
          "index": 6
         },
         {
          "Boat Type": "Sport Boat",
          "Length": 3,
          "Location": "Denmark Â» Svendborg",
          "Manufacturer": null,
          "Material": null,
          "Price": "DKK 24800",
          "Type": "Used boat",
          "Views": 134,
          "Width": null,
          "Year Built": 0,
          "index": 7
         },
         {
          "Boat Type": "Fishing Boat",
          "Length": 3.64,
          "Location": "Germany Â» Bayern Â» Boote+service Oberbayern",
          "Manufacturer": "Crescent power boats",
          "Material": null,
          "Price": "EUR 3333",
          "Type": "new boat from stock",
          "Views": 45,
          "Width": 1.37,
          "Year Built": 2019,
          "index": 8
         },
         {
          "Boat Type": "Pontoon Boat",
          "Length": 4.35,
          "Location": "Italy Â» Dormelletto ",
          "Manufacturer": "Whaly power boats",
          "Material": null,
          "Price": "EUR 3300",
          "Type": "new boat from stock",
          "Views": 180,
          "Width": 1.73,
          "Year Built": 2018,
          "index": 9
         },
         {
          "Boat Type": "Fishing Boat",
          "Length": 4.35,
          "Location": "Switzerland Â» Seengen",
          "Manufacturer": "Terhi power boats",
          "Material": "GRP",
          "Price": "CHF 3500",
          "Type": "Used boat,Electric",
          "Views": 239,
          "Width": 1.75,
          "Year Built": 1987,
          "index": 10
         },
         {
          "Boat Type": "Fishing Boat",
          "Length": 4.13,
          "Location": "Switzerland Â» Lake of Zurich Â» StÃ¤fa am ZÃ¼richsee",
          "Manufacturer": "Marine power boats",
          "Material": "Aluminium",
          "Price": "CHF 3480",
          "Type": "new boat from stock",
          "Views": 145,
          "Width": 1.41,
          "Year Built": 0,
          "index": 11
         },
         {
          "Boat Type": "Sport Boat",
          "Length": 4.7,
          "Location": "Italy Â» Lake Garda Â» Moniga del Garda (BS)",
          "Manufacturer": "GS Nautica power boats",
          "Material": "GRP",
          "Price": "EUR 3500",
          "Type": "Used boat",
          "Views": 69,
          "Width": 2,
          "Year Built": 2004,
          "index": 12
         },
         {
          "Boat Type": "Runabout",
          "Length": 4.4,
          "Location": "Switzerland Â» Zugersee Â» Neuheim",
          "Manufacturer": "Kimple power boats",
          "Material": "Aluminium",
          "Price": "CHF 4600",
          "Type": "new boat from stock",
          "Views": 113,
          "Width": 1.65,
          "Year Built": 2020,
          "index": 13
         },
         {
          "Boat Type": "Fishing Boat",
          "Length": 3.72,
          "Location": "Switzerland Â» VierwaldstÃ¤ttersee Â» 6004",
          "Manufacturer": "Italmarine power boats",
          "Material": "Aluminium",
          "Price": "CHF 4500",
          "Type": "Used boat,Unleaded",
          "Views": 413,
          "Width": 1.33,
          "Year Built": 1997,
          "index": 14
         },
         {
          "Boat Type": "Deck Boat",
          "Length": 3.88,
          "Location": "Switzerland Â» Safenwil",
          "Manufacturer": "Buster power boats",
          "Material": "Aluminium",
          "Price": "CHF 4400",
          "Type": "new boat from stock,Unleaded",
          "Views": 263,
          "Width": 1.49,
          "Year Built": 0,
          "index": 15
         },
         {
          "Boat Type": "Sport Boat",
          "Length": 4.31,
          "Location": "Switzerland Â» Lake Constance Â» Uttwil",
          "Manufacturer": "Linder power boats",
          "Material": "Aluminium",
          "Price": "CHF 4380",
          "Type": "new boat from stock",
          "Views": 462,
          "Width": 1.64,
          "Year Built": 0,
          "index": 16
         },
         {
          "Boat Type": "Sport Boat",
          "Length": 4,
          "Location": "Denmark Â» Svendborg",
          "Manufacturer": null,
          "Material": null,
          "Price": "DKK 30000",
          "Type": "Used boat",
          "Views": 124,
          "Width": 1,
          "Year Built": 1985,
          "index": 17
         },
         {
          "Boat Type": "Pilothouse",
          "Length": 8,
          "Location": "France Â» MARTGUES, MARTIGUES",
          "Manufacturer": "BÃ©nÃ©teau power boats",
          "Material": "PVC",
          "Price": "EUR 4000",
          "Type": "Used boat,Diesel",
          "Views": 265,
          "Width": 2.84,
          "Year Built": 1981,
          "index": 18
         },
         {
          "Boat Type": "Cabin Boat",
          "Length": 6.37,
          "Location": "Germany Â» Bayern Â» Forchheim/Ofr.",
          "Manufacturer": null,
          "Material": "GRP",
          "Price": "EUR 4000",
          "Type": "Used boat,Unleaded",
          "Views": 330,
          "Width": 2.31,
          "Year Built": 2011,
          "index": 19
         }
        ],
        "schema": {
         "fields": [
          {
           "name": "index",
           "type": "integer"
          },
          {
           "name": "Price",
           "type": "string"
          },
          {
           "name": "Boat Type",
           "type": "string"
          },
          {
           "name": "Manufacturer",
           "type": "string"
          },
          {
           "name": "Type",
           "type": "string"
          },
          {
           "name": "Year Built",
           "type": "integer"
          },
          {
           "name": "Length",
           "type": "number"
          },
          {
           "name": "Width",
           "type": "number"
          },
          {
           "name": "Material",
           "type": "string"
          },
          {
           "name": "Location",
           "type": "string"
          },
          {
           "name": "Views",
           "type": "integer"
          }
         ],
         "pandas_version": "1.4.0",
         "primaryKey": [
          "index"
         ]
        }
       },
       "total_rows": 20,
       "truncation_type": null
      },
      "text/html": [
       "<div>\n",
       "<style scoped>\n",
       "    .dataframe tbody tr th:only-of-type {\n",
       "        vertical-align: middle;\n",
       "    }\n",
       "\n",
       "    .dataframe tbody tr th {\n",
       "        vertical-align: top;\n",
       "    }\n",
       "\n",
       "    .dataframe thead th {\n",
       "        text-align: right;\n",
       "    }\n",
       "</style>\n",
       "<table border=\"1\" class=\"dataframe\">\n",
       "  <thead>\n",
       "    <tr style=\"text-align: right;\">\n",
       "      <th></th>\n",
       "      <th>Price</th>\n",
       "      <th>Boat Type</th>\n",
       "      <th>Manufacturer</th>\n",
       "      <th>Type</th>\n",
       "      <th>Year Built</th>\n",
       "      <th>Length</th>\n",
       "      <th>Width</th>\n",
       "      <th>Material</th>\n",
       "      <th>Location</th>\n",
       "      <th>Views</th>\n",
       "    </tr>\n",
       "  </thead>\n",
       "  <tbody>\n",
       "    <tr>\n",
       "      <th>0</th>\n",
       "      <td>CHF 3337</td>\n",
       "      <td>Motor Yacht</td>\n",
       "      <td>Rigiflex power boats</td>\n",
       "      <td>new boat from stock</td>\n",
       "      <td>2017</td>\n",
       "      <td>4.00</td>\n",
       "      <td>1.90</td>\n",
       "      <td>NaN</td>\n",
       "      <td>Switzerland Â» Lake Geneva Â» VÃ©senaz</td>\n",
       "      <td>226</td>\n",
       "    </tr>\n",
       "    <tr>\n",
       "      <th>1</th>\n",
       "      <td>EUR 3490</td>\n",
       "      <td>Center console boat</td>\n",
       "      <td>Terhi power boats</td>\n",
       "      <td>new boat from stock</td>\n",
       "      <td>2020</td>\n",
       "      <td>4.00</td>\n",
       "      <td>1.50</td>\n",
       "      <td>Thermoplastic</td>\n",
       "      <td>Germany Â» BÃ¶nningstedt</td>\n",
       "      <td>75</td>\n",
       "    </tr>\n",
       "    <tr>\n",
       "      <th>2</th>\n",
       "      <td>CHF 3770</td>\n",
       "      <td>Sport Boat</td>\n",
       "      <td>Marine power boats</td>\n",
       "      <td>new boat from stock</td>\n",
       "      <td>0</td>\n",
       "      <td>3.69</td>\n",
       "      <td>1.42</td>\n",
       "      <td>Aluminium</td>\n",
       "      <td>Switzerland Â» Lake of Zurich Â» StÃ¤fa ZH</td>\n",
       "      <td>124</td>\n",
       "    </tr>\n",
       "    <tr>\n",
       "      <th>3</th>\n",
       "      <td>DKK 25900</td>\n",
       "      <td>Sport Boat</td>\n",
       "      <td>Pioner power boats</td>\n",
       "      <td>new boat from stock</td>\n",
       "      <td>2020</td>\n",
       "      <td>3.00</td>\n",
       "      <td>1.00</td>\n",
       "      <td>NaN</td>\n",
       "      <td>Denmark Â» Svendborg</td>\n",
       "      <td>64</td>\n",
       "    </tr>\n",
       "    <tr>\n",
       "      <th>4</th>\n",
       "      <td>EUR 3399</td>\n",
       "      <td>Fishing Boat</td>\n",
       "      <td>Linder power boats</td>\n",
       "      <td>new boat from stock</td>\n",
       "      <td>2019</td>\n",
       "      <td>3.55</td>\n",
       "      <td>1.46</td>\n",
       "      <td>Aluminium</td>\n",
       "      <td>Germany Â» Bayern Â» MÃ¼nchen</td>\n",
       "      <td>58</td>\n",
       "    </tr>\n",
       "    <tr>\n",
       "      <th>5</th>\n",
       "      <td>CHF 3650</td>\n",
       "      <td>Sport Boat</td>\n",
       "      <td>Linder power boats</td>\n",
       "      <td>new boat from stock</td>\n",
       "      <td>0</td>\n",
       "      <td>4.03</td>\n",
       "      <td>1.56</td>\n",
       "      <td>Aluminium</td>\n",
       "      <td>Switzerland Â» Lake Constance Â» Uttwil</td>\n",
       "      <td>132</td>\n",
       "    </tr>\n",
       "    <tr>\n",
       "      <th>6</th>\n",
       "      <td>CHF 3600</td>\n",
       "      <td>Catamaran</td>\n",
       "      <td>NaN</td>\n",
       "      <td>Used boat,Unleaded</td>\n",
       "      <td>1999</td>\n",
       "      <td>6.20</td>\n",
       "      <td>2.38</td>\n",
       "      <td>Aluminium</td>\n",
       "      <td>Switzerland Â» Neuenburgersee Â» Yvonand</td>\n",
       "      <td>474</td>\n",
       "    </tr>\n",
       "    <tr>\n",
       "      <th>7</th>\n",
       "      <td>DKK 24800</td>\n",
       "      <td>Sport Boat</td>\n",
       "      <td>NaN</td>\n",
       "      <td>Used boat</td>\n",
       "      <td>0</td>\n",
       "      <td>3.00</td>\n",
       "      <td>NaN</td>\n",
       "      <td>NaN</td>\n",
       "      <td>Denmark Â» Svendborg</td>\n",
       "      <td>134</td>\n",
       "    </tr>\n",
       "    <tr>\n",
       "      <th>8</th>\n",
       "      <td>EUR 3333</td>\n",
       "      <td>Fishing Boat</td>\n",
       "      <td>Crescent power boats</td>\n",
       "      <td>new boat from stock</td>\n",
       "      <td>2019</td>\n",
       "      <td>3.64</td>\n",
       "      <td>1.37</td>\n",
       "      <td>NaN</td>\n",
       "      <td>Germany Â» Bayern Â» Boote+service Oberbayern</td>\n",
       "      <td>45</td>\n",
       "    </tr>\n",
       "    <tr>\n",
       "      <th>9</th>\n",
       "      <td>EUR 3300</td>\n",
       "      <td>Pontoon Boat</td>\n",
       "      <td>Whaly power boats</td>\n",
       "      <td>new boat from stock</td>\n",
       "      <td>2018</td>\n",
       "      <td>4.35</td>\n",
       "      <td>1.73</td>\n",
       "      <td>NaN</td>\n",
       "      <td>Italy Â» Dormelletto</td>\n",
       "      <td>180</td>\n",
       "    </tr>\n",
       "    <tr>\n",
       "      <th>10</th>\n",
       "      <td>CHF 3500</td>\n",
       "      <td>Fishing Boat</td>\n",
       "      <td>Terhi power boats</td>\n",
       "      <td>Used boat,Electric</td>\n",
       "      <td>1987</td>\n",
       "      <td>4.35</td>\n",
       "      <td>1.75</td>\n",
       "      <td>GRP</td>\n",
       "      <td>Switzerland Â» Seengen</td>\n",
       "      <td>239</td>\n",
       "    </tr>\n",
       "    <tr>\n",
       "      <th>11</th>\n",
       "      <td>CHF 3480</td>\n",
       "      <td>Fishing Boat</td>\n",
       "      <td>Marine power boats</td>\n",
       "      <td>new boat from stock</td>\n",
       "      <td>0</td>\n",
       "      <td>4.13</td>\n",
       "      <td>1.41</td>\n",
       "      <td>Aluminium</td>\n",
       "      <td>Switzerland Â» Lake of Zurich Â» StÃ¤fa am ZÃ¼...</td>\n",
       "      <td>145</td>\n",
       "    </tr>\n",
       "    <tr>\n",
       "      <th>12</th>\n",
       "      <td>EUR 3500</td>\n",
       "      <td>Sport Boat</td>\n",
       "      <td>GS Nautica power boats</td>\n",
       "      <td>Used boat</td>\n",
       "      <td>2004</td>\n",
       "      <td>4.70</td>\n",
       "      <td>2.00</td>\n",
       "      <td>GRP</td>\n",
       "      <td>Italy Â» Lake Garda Â» Moniga del Garda (BS)</td>\n",
       "      <td>69</td>\n",
       "    </tr>\n",
       "    <tr>\n",
       "      <th>13</th>\n",
       "      <td>CHF 4600</td>\n",
       "      <td>Runabout</td>\n",
       "      <td>Kimple power boats</td>\n",
       "      <td>new boat from stock</td>\n",
       "      <td>2020</td>\n",
       "      <td>4.40</td>\n",
       "      <td>1.65</td>\n",
       "      <td>Aluminium</td>\n",
       "      <td>Switzerland Â» Zugersee Â» Neuheim</td>\n",
       "      <td>113</td>\n",
       "    </tr>\n",
       "    <tr>\n",
       "      <th>14</th>\n",
       "      <td>CHF 4500</td>\n",
       "      <td>Fishing Boat</td>\n",
       "      <td>Italmarine power boats</td>\n",
       "      <td>Used boat,Unleaded</td>\n",
       "      <td>1997</td>\n",
       "      <td>3.72</td>\n",
       "      <td>1.33</td>\n",
       "      <td>Aluminium</td>\n",
       "      <td>Switzerland Â» VierwaldstÃ¤ttersee Â» 6004</td>\n",
       "      <td>413</td>\n",
       "    </tr>\n",
       "    <tr>\n",
       "      <th>15</th>\n",
       "      <td>CHF 4400</td>\n",
       "      <td>Deck Boat</td>\n",
       "      <td>Buster power boats</td>\n",
       "      <td>new boat from stock,Unleaded</td>\n",
       "      <td>0</td>\n",
       "      <td>3.88</td>\n",
       "      <td>1.49</td>\n",
       "      <td>Aluminium</td>\n",
       "      <td>Switzerland Â» Safenwil</td>\n",
       "      <td>263</td>\n",
       "    </tr>\n",
       "    <tr>\n",
       "      <th>16</th>\n",
       "      <td>CHF 4380</td>\n",
       "      <td>Sport Boat</td>\n",
       "      <td>Linder power boats</td>\n",
       "      <td>new boat from stock</td>\n",
       "      <td>0</td>\n",
       "      <td>4.31</td>\n",
       "      <td>1.64</td>\n",
       "      <td>Aluminium</td>\n",
       "      <td>Switzerland Â» Lake Constance Â» Uttwil</td>\n",
       "      <td>462</td>\n",
       "    </tr>\n",
       "    <tr>\n",
       "      <th>17</th>\n",
       "      <td>DKK 30000</td>\n",
       "      <td>Sport Boat</td>\n",
       "      <td>NaN</td>\n",
       "      <td>Used boat</td>\n",
       "      <td>1985</td>\n",
       "      <td>4.00</td>\n",
       "      <td>1.00</td>\n",
       "      <td>NaN</td>\n",
       "      <td>Denmark Â» Svendborg</td>\n",
       "      <td>124</td>\n",
       "    </tr>\n",
       "    <tr>\n",
       "      <th>18</th>\n",
       "      <td>EUR 4000</td>\n",
       "      <td>Pilothouse</td>\n",
       "      <td>BÃ©nÃ©teau power boats</td>\n",
       "      <td>Used boat,Diesel</td>\n",
       "      <td>1981</td>\n",
       "      <td>8.00</td>\n",
       "      <td>2.84</td>\n",
       "      <td>PVC</td>\n",
       "      <td>France Â» MARTGUES, MARTIGUES</td>\n",
       "      <td>265</td>\n",
       "    </tr>\n",
       "    <tr>\n",
       "      <th>19</th>\n",
       "      <td>EUR 4000</td>\n",
       "      <td>Cabin Boat</td>\n",
       "      <td>NaN</td>\n",
       "      <td>Used boat,Unleaded</td>\n",
       "      <td>2011</td>\n",
       "      <td>6.37</td>\n",
       "      <td>2.31</td>\n",
       "      <td>GRP</td>\n",
       "      <td>Germany Â» Bayern Â» Forchheim/Ofr.</td>\n",
       "      <td>330</td>\n",
       "    </tr>\n",
       "  </tbody>\n",
       "</table>\n",
       "</div>"
      ],
      "text/plain": [
       "        Price            Boat Type            Manufacturer  \\\n",
       "0    CHF 3337          Motor Yacht    Rigiflex power boats   \n",
       "1    EUR 3490  Center console boat       Terhi power boats   \n",
       "2    CHF 3770           Sport Boat      Marine power boats   \n",
       "3   DKK 25900           Sport Boat      Pioner power boats   \n",
       "4    EUR 3399         Fishing Boat      Linder power boats   \n",
       "5    CHF 3650           Sport Boat      Linder power boats   \n",
       "6    CHF 3600            Catamaran                     NaN   \n",
       "7   DKK 24800           Sport Boat                     NaN   \n",
       "8    EUR 3333         Fishing Boat    Crescent power boats   \n",
       "9    EUR 3300         Pontoon Boat       Whaly power boats   \n",
       "10   CHF 3500         Fishing Boat       Terhi power boats   \n",
       "11   CHF 3480         Fishing Boat      Marine power boats   \n",
       "12   EUR 3500           Sport Boat  GS Nautica power boats   \n",
       "13   CHF 4600             Runabout      Kimple power boats   \n",
       "14   CHF 4500         Fishing Boat  Italmarine power boats   \n",
       "15   CHF 4400            Deck Boat      Buster power boats   \n",
       "16   CHF 4380           Sport Boat      Linder power boats   \n",
       "17  DKK 30000           Sport Boat                     NaN   \n",
       "18   EUR 4000           Pilothouse  BÃ©nÃ©teau power boats   \n",
       "19   EUR 4000           Cabin Boat                     NaN   \n",
       "\n",
       "                            Type  Year Built  Length  Width       Material  \\\n",
       "0            new boat from stock        2017    4.00   1.90            NaN   \n",
       "1            new boat from stock        2020    4.00   1.50  Thermoplastic   \n",
       "2            new boat from stock           0    3.69   1.42      Aluminium   \n",
       "3            new boat from stock        2020    3.00   1.00            NaN   \n",
       "4            new boat from stock        2019    3.55   1.46      Aluminium   \n",
       "5            new boat from stock           0    4.03   1.56      Aluminium   \n",
       "6             Used boat,Unleaded        1999    6.20   2.38      Aluminium   \n",
       "7                      Used boat           0    3.00    NaN            NaN   \n",
       "8            new boat from stock        2019    3.64   1.37            NaN   \n",
       "9            new boat from stock        2018    4.35   1.73            NaN   \n",
       "10            Used boat,Electric        1987    4.35   1.75            GRP   \n",
       "11           new boat from stock           0    4.13   1.41      Aluminium   \n",
       "12                     Used boat        2004    4.70   2.00            GRP   \n",
       "13           new boat from stock        2020    4.40   1.65      Aluminium   \n",
       "14            Used boat,Unleaded        1997    3.72   1.33      Aluminium   \n",
       "15  new boat from stock,Unleaded           0    3.88   1.49      Aluminium   \n",
       "16           new boat from stock           0    4.31   1.64      Aluminium   \n",
       "17                     Used boat        1985    4.00   1.00            NaN   \n",
       "18              Used boat,Diesel        1981    8.00   2.84            PVC   \n",
       "19            Used boat,Unleaded        2011    6.37   2.31            GRP   \n",
       "\n",
       "                                             Location  Views  \n",
       "0              Switzerland Â» Lake Geneva Â» VÃ©senaz    226  \n",
       "1                            Germany Â» BÃ¶nningstedt     75  \n",
       "2          Switzerland Â» Lake of Zurich Â» StÃ¤fa ZH    124  \n",
       "3                                Denmark Â» Svendborg     64  \n",
       "4                       Germany Â» Bayern Â» MÃ¼nchen     58  \n",
       "5             Switzerland Â» Lake Constance Â» Uttwil    132  \n",
       "6           Switzerland Â» Neuenburgersee Â» Yvonand     474  \n",
       "7                                Denmark Â» Svendborg    134  \n",
       "8       Germany Â» Bayern Â» Boote+service Oberbayern     45  \n",
       "9                               Italy Â» Dormelletto     180  \n",
       "10                             Switzerland Â» Seengen    239  \n",
       "11  Switzerland Â» Lake of Zurich Â» StÃ¤fa am ZÃ¼...    145  \n",
       "12       Italy Â» Lake Garda Â» Moniga del Garda (BS)     69  \n",
       "13                 Switzerland Â» Zugersee Â» Neuheim    113  \n",
       "14         Switzerland Â» VierwaldstÃ¤ttersee Â» 6004    413  \n",
       "15                            Switzerland Â» Safenwil    263  \n",
       "16            Switzerland Â» Lake Constance Â» Uttwil    462  \n",
       "17                               Denmark Â» Svendborg    124  \n",
       "18                      France Â» MARTGUES, MARTIGUES    265  \n",
       "19                Germany Â» Bayern Â» Forchheim/Ofr.    330  "
      ]
     },
     "execution_count": 2,
     "metadata": {},
     "output_type": "execute_result"
    }
   ],
   "source": [
    "df_raw = pd.read_csv(\"data/boat_data.csv\")\n",
    "df_raw.rename(columns = {\"Number of views last 7 days\": \"Views\"},inplace = True)\n",
    "print(\"The size of the data is: {}\".format(df_raw.shape))\n",
    "df_raw.head(20)"
   ]
  },
  {
   "cell_type": "markdown",
   "id": "2136c477-77ff-4fbe-b217-98023220a078",
   "metadata": {},
   "source": [
    "# Data Exploration and Feature Engineering\n",
    "\n",
    "### Summary of data changes\n",
    "- Views: Filter 749 outliers using 1.5*interquartile range\n",
    "- Price: Boats are listed in 5 different currencies, for accurate comparison, all currencies were converted to Euros\n",
    "- Boat Type was condensed into top 9 categories plus an other which accounted for the extra 12.5% of listings\n",
    "- Manufacturer: No change but excluded from model because it provided too much noise and wasn't easy to condense\n",
    "- Type was separated into two columns\n",
    "\t- Sale type: Contained information about the listing being new, used, or from a display\n",
    "    - Fuel type: Contained information about the boat running on diesel, unleaded, or another fuel source\n",
    "- Year Built: 551 missing values were tagged as zero and removed because assumed missing\n",
    "- Boat dimensions: Length and Width not changed\n",
    "- Material: not changed\n",
    "- Location: Country was pulled out and condensed into top 9 countries plus an other which accounted for the extra 8.5% of listings\n",
    "\n",
    "\n",
    "See below for more in-depth examination and validation of data"
   ]
  },
  {
   "cell_type": "markdown",
   "id": "5965e0db-cd4f-4f00-8592-d80a2257dca2",
   "metadata": {},
   "source": [
    "## Number of Views\n",
    "\n",
    "Then number of views is the main dependent variable for the model. First, I want to check the distribution of the data to make sure that I will be able to fit a model. Upon review, it appears there are 749 outliers based on 1.5*interquartile range. \n",
    "\n",
    "\n",
    "After filtering out the outliers, the sample size drops from 9,888 to 9,139, a loss of 7.56%. Upon review of the distribution, the data are still skewed but they are much less skewed than before and I will leave them this way because we want our model to reflect the real-world problem and the reality of our business is that the data are skewed. "
   ]
  },
  {
   "cell_type": "code",
   "execution_count": 3,
   "id": "b3f7dfc1-f741-4a4b-bb76-1883f0549248",
   "metadata": {},
   "outputs": [
    {
     "data": {
      "image/png": "[encoded data removed]",
      "text/plain": [
       "<Figure size 640x480 with 1 Axes>"
      ]
     },
     "metadata": {},
     "output_type": "display_data"
    },
    {
     "data": {
      "image/png": "[encoded data removed]",
      "text/plain": [
       "<Figure size 640x480 with 1 Axes>"
      ]
     },
     "metadata": {},
     "output_type": "display_data"
    }
   ],
   "source": [
    "# Visualize the data before filtering out the views. \n",
    "sns.histplot(x = 'Views', data = df_raw,bins = 30)\n",
    "plt.ylabel('Number of Boats')\n",
    "plt.xlabel('Number of Views')\n",
    "plt.show()\n",
    "sns.boxplot(x = 'Views', data = df_raw, showfliers = False)\n",
    "plt.xlabel('Number of Views (without outliers)')\n",
    "plt.show()\n",
    "#sns.displot(df_raw, x= 'Views',stat = 'density')"
   ]
  },
  {
   "cell_type": "code",
   "execution_count": 4,
   "id": "9cc6faca-cc5e-4323-aeaf-0ce2bb7ba4aa",
   "metadata": {},
   "outputs": [
    {
     "data": {
      "text/plain": [
       "count    9888.000000\n",
       "mean      149.160801\n",
       "std       151.819752\n",
       "min        13.000000\n",
       "25%        70.000000\n",
       "50%       108.000000\n",
       "75%       172.000000\n",
       "max      3263.000000\n",
       "Name: Views, dtype: float64"
      ]
     },
     "execution_count": 4,
     "metadata": {},
     "output_type": "execute_result"
    }
   ],
   "source": [
    "# Get sample size as well as metrics for the outlier detection. \n",
    "df_raw['Views'].describe()"
   ]
  },
  {
   "cell_type": "code",
   "execution_count": 5,
   "id": "879b083c-a5a8-47e6-9898-4436e8941bce",
   "metadata": {},
   "outputs": [
    {
     "name": "stdout",
     "output_type": "stream",
     "text": [
      "There are 749 outliers based on website views\n"
     ]
    }
   ],
   "source": [
    "q1=df_raw['Views'].quantile(0.25)\n",
    "q3=df_raw['Views'].quantile(0.75)\n",
    "IQR=q3-q1\n",
    "\n",
    "outliers = df_raw[df_raw['Views'] > (q3 + 1.5*IQR)]\n",
    "print(\"There are {} outliers based on website views\".format(outliers.shape[0]))"
   ]
  },
  {
   "cell_type": "code",
   "execution_count": 6,
   "id": "bd00482a-2103-4d14-8958-0f0d406f308f",
   "metadata": {},
   "outputs": [],
   "source": [
    "# Perform the outlier filter\n",
    "df_raw = df_raw[df_raw['Views'] < (q3 + 1.5*IQR)]"
   ]
  },
  {
   "cell_type": "code",
   "execution_count": 7,
   "id": "3a1f3d26-ba7f-4e16-9bc6-7d89a62e8cac",
   "metadata": {},
   "outputs": [
    {
     "data": {
      "text/plain": [
       "<AxesSubplot:xlabel='Views', ylabel='Count'>"
      ]
     },
     "execution_count": 7,
     "metadata": {},
     "output_type": "execute_result"
    },
    {
     "data": {
      "image/png": "[encoded data removed]",
      "text/plain": [
       "<Figure size 640x480 with 1 Axes>"
      ]
     },
     "metadata": {},
     "output_type": "display_data"
    }
   ],
   "source": [
    "# Plot the new distribution of website views\n",
    "sns.histplot(x = 'Views', data = df_raw,bins = 30)"
   ]
  },
  {
   "cell_type": "markdown",
   "id": "82049a47-158c-401d-94ee-a131ce03c4ee",
   "metadata": {},
   "source": [
    "## Price\n",
    "\n",
    "When thinking about price, it makes the most sense to split the price into two features including 1) the currency and 2) the currency amount. That way, the model can take both of those aspects into account easier. Once it has been split into its currency price and numerical price pieces, I can convert all of the price values into euros so that there is a single standardized metric of boat sale price, that reflects value not country differences.  "
   ]
  },
  {
   "cell_type": "code",
   "execution_count": 8,
   "id": "862ed8bb-c397-41c6-a569-74f94187d772",
   "metadata": {},
   "outputs": [
    {
     "data": {
      "application/com.datacamp.data-table.v1+json": {
       "table": {
        "data": [
         {
          "Currency": "CHF",
          "Price": "CHF 3337",
          "Price_num": 3337,
          "index": 0
         },
         {
          "Currency": "EUR",
          "Price": "EUR 3490",
          "Price_num": 3490,
          "index": 1
         },
         {
          "Currency": "CHF",
          "Price": "CHF 3770",
          "Price_num": 3770,
          "index": 2
         },
         {
          "Currency": "DKK",
          "Price": "DKK 25900",
          "Price_num": 25900,
          "index": 3
         },
         {
          "Currency": "EUR",
          "Price": "EUR 3399",
          "Price_num": 3399,
          "index": 4
         }
        ],
        "schema": {
         "fields": [
          {
           "name": "index",
           "type": "integer"
          },
          {
           "name": "Price",
           "type": "string"
          },
          {
           "name": "Currency",
           "type": "string"
          },
          {
           "name": "Price_num",
           "type": "integer"
          }
         ],
         "pandas_version": "1.4.0",
         "primaryKey": [
          "index"
         ]
        }
       },
       "total_rows": 5,
       "truncation_type": null
      },
      "text/html": [
       "<div>\n",
       "<style scoped>\n",
       "    .dataframe tbody tr th:only-of-type {\n",
       "        vertical-align: middle;\n",
       "    }\n",
       "\n",
       "    .dataframe tbody tr th {\n",
       "        vertical-align: top;\n",
       "    }\n",
       "\n",
       "    .dataframe thead th {\n",
       "        text-align: right;\n",
       "    }\n",
       "</style>\n",
       "<table border=\"1\" class=\"dataframe\">\n",
       "  <thead>\n",
       "    <tr style=\"text-align: right;\">\n",
       "      <th></th>\n",
       "      <th>Price</th>\n",
       "      <th>Currency</th>\n",
       "      <th>Price_num</th>\n",
       "    </tr>\n",
       "  </thead>\n",
       "  <tbody>\n",
       "    <tr>\n",
       "      <th>0</th>\n",
       "      <td>CHF 3337</td>\n",
       "      <td>CHF</td>\n",
       "      <td>3337</td>\n",
       "    </tr>\n",
       "    <tr>\n",
       "      <th>1</th>\n",
       "      <td>EUR 3490</td>\n",
       "      <td>EUR</td>\n",
       "      <td>3490</td>\n",
       "    </tr>\n",
       "    <tr>\n",
       "      <th>2</th>\n",
       "      <td>CHF 3770</td>\n",
       "      <td>CHF</td>\n",
       "      <td>3770</td>\n",
       "    </tr>\n",
       "    <tr>\n",
       "      <th>3</th>\n",
       "      <td>DKK 25900</td>\n",
       "      <td>DKK</td>\n",
       "      <td>25900</td>\n",
       "    </tr>\n",
       "    <tr>\n",
       "      <th>4</th>\n",
       "      <td>EUR 3399</td>\n",
       "      <td>EUR</td>\n",
       "      <td>3399</td>\n",
       "    </tr>\n",
       "  </tbody>\n",
       "</table>\n",
       "</div>"
      ],
      "text/plain": [
       "       Price Currency  Price_num\n",
       "0   CHF 3337      CHF       3337\n",
       "1   EUR 3490      EUR       3490\n",
       "2   CHF 3770      CHF       3770\n",
       "3  DKK 25900      DKK      25900\n",
       "4   EUR 3399      EUR       3399"
      ]
     },
     "execution_count": 8,
     "metadata": {},
     "output_type": "execute_result"
    }
   ],
   "source": [
    "# Split the price into a currency and numerical price\n",
    "df_raw[['Currency','Price_num']] = df_raw['Price'].str.split(' ',expand = True)\n",
    "df_raw['Price_num'] = df_raw['Price_num'].astype(int)\n",
    "df_raw[['Price','Currency','Price_num']].head()"
   ]
  },
  {
   "cell_type": "code",
   "execution_count": 9,
   "id": "5d5cb3d9-f1c4-409e-a4a8-bce0cf7dcf60",
   "metadata": {},
   "outputs": [
    {
     "data": {
      "text/plain": [
       "<seaborn.axisgrid.FacetGrid at 0x7faccf895790>"
      ]
     },
     "execution_count": 9,
     "metadata": {},
     "output_type": "execute_result"
    },
    {
     "data": {
      "image/png": "[encoded data removed]",
      "text/plain": [
       "<Figure size 500x500 with 1 Axes>"
      ]
     },
     "metadata": {},
     "output_type": "display_data"
    }
   ],
   "source": [
    "# Visualize the distribution between of price for each currency\n",
    "sns.catplot(x = \"Currency\",y = \"Price_num\",data = df_raw, kind = 'bar')"
   ]
  },
  {
   "cell_type": "code",
   "execution_count": 10,
   "id": "8521bb86-af56-4a5e-be01-901d3aebd4ac",
   "metadata": {},
   "outputs": [
    {
     "data": {
      "text/plain": [
       "<seaborn.axisgrid.FacetGrid at 0x7fad648c0b80>"
      ]
     },
     "execution_count": 10,
     "metadata": {},
     "output_type": "execute_result"
    },
    {
     "data": {
      "image/png": "[encoded data removed]",
      "text/plain": [
       "<Figure size 500x500 with 1 Axes>"
      ]
     },
     "metadata": {},
     "output_type": "display_data"
    }
   ],
   "source": [
    "# Because some of the currencies are naturally worth more than others, I will standardize all price values into euros for a more standard measure of monetary worth.\n",
    "df_raw['Euros'] = np.where(df_raw['Currency'].str.contains('CHF',case = False),df_raw['Price_num']*1.05,\n",
    "                  np.where(df_raw['Currency'].str.contains('DKK',case = False),df_raw['Price_num']*0.13,\n",
    "                  np.where(df_raw['Currency'].str.contains('Â£', case = False),df_raw['Price_num']*1.14,df_raw['Price_num'])))\n",
    "sns.catplot(x = \"Currency\",y = \"Euros\",data = df_raw, kind = 'bar')"
   ]
  },
  {
   "cell_type": "markdown",
   "id": "6e11341c-d051-4695-8065-1da186eca77c",
   "metadata": {},
   "source": [
    "## Boat Type\n",
    "\n",
    "From the data below, we see that over 50% of the boats belong within the top 3 categories (Motor, Sport, and Flybridge), and almost 90% of the entries are within the top 10 categories. \n",
    "\n",
    "To clean up the boat type, I am going simplify down to the top 9 categories plus an \"Other\", for a total of 10. In looking closer at the data, it seems that some of the boats within those 9 could be recategorized (e.g., \"Classic, Motor Yacht\" --> \"Motor Yacht\") so I will do a big case statement to categorize those top 9 and an other which should catch some of the nuances within the data. Also note, that priority is given for the biggest categories, so if a boat is tagged both as a motor yacht and a sport boat, it is recategorized as a motor yacht."
   ]
  },
  {
   "cell_type": "code",
   "execution_count": 11,
   "id": "dd36b68b-0347-45cd-88a7-7e6a2a7b516f",
   "metadata": {},
   "outputs": [
    {
     "data": {
      "application/com.datacamp.data-table.v1+json": {
       "table": {
        "data": [
         {
          "Boat Type": "Motor Yacht",
          "Cumulative": 0.2839776585,
          "counts": 2593,
          "index": 63
         },
         {
          "Boat Type": "Sport Boat",
          "Cumulative": 0.4216405651,
          "counts": 1257,
          "index": 81
         },
         {
          "Boat Type": "Flybridge",
          "Cumulative": 0.5488993538,
          "counts": 1162,
          "index": 53
         },
         {
          "Boat Type": "Trawler",
          "Cumulative": 0.6219472128,
          "counts": 667,
          "index": 85
         },
         {
          "Boat Type": "Pilothouse",
          "Cumulative": 0.6853575731,
          "counts": 579,
          "index": 74
         },
         {
          "Boat Type": "Hardtop",
          "Cumulative": 0.7389114007,
          "counts": 489,
          "index": 56
         },
         {
          "Boat Type": "Cabin Boat",
          "Cumulative": 0.7923557113,
          "counts": 488,
          "index": 3
         },
         {
          "Boat Type": "Center console boat",
          "Cumulative": 0.8322199102,
          "counts": 364,
          "index": 20
         },
         {
          "Boat Type": "Deck Boat",
          "Cumulative": 0.8624466104,
          "counts": 276,
          "index": 48
         },
         {
          "Boat Type": "Bowrider",
          "Cumulative": 0.8925637937,
          "counts": 275,
          "index": 0
         },
         {
          "Boat Type": "Fishing Boat",
          "Cumulative": 0.9093198992,
          "counts": 153,
          "index": 50
         },
         {
          "Boat Type": "House Boat",
          "Cumulative": 0.9234475961,
          "counts": 129,
          "index": 59
         },
         {
          "Boat Type": "Mega Yacht",
          "Cumulative": 0.934180265,
          "counts": 98,
          "index": 62
         },
         {
          "Boat Type": "Pontoon Boat",
          "Cumulative": 0.9432701785,
          "counts": 83,
          "index": 76
         },
         {
          "Boat Type": "Runabout",
          "Cumulative": 0.9499507173,
          "counts": 61,
          "index": 78
         },
         {
          "Boat Type": "Launch",
          "Cumulative": 0.955974154,
          "counts": 55,
          "index": 61
         },
         {
          "Boat Type": "Classic",
          "Cumulative": 0.9610119374,
          "counts": 46,
          "index": 26
         },
         {
          "Boat Type": "Offshore Boat",
          "Cumulative": 0.9656116526,
          "counts": 42,
          "index": 68
         },
         {
          "Boat Type": "Working Boat",
          "Cumulative": 0.9699923338,
          "counts": 40,
          "index": 89
         },
         {
          "Boat Type": "Classic,Runabout",
          "Cumulative": 0.974263498,
          "counts": 39,
          "index": 40
         },
         {
          "Boat Type": "Passenger boat",
          "Cumulative": 0.97787756,
          "counts": 33,
          "index": 71
         },
         {
          "Boat Type": "Wakeboard/Wakesurf",
          "Cumulative": 0.9813821049,
          "counts": 32,
          "index": 86
         },
         {
          "Boat Type": "Catamaran",
          "Cumulative": 0.9839009966,
          "counts": 23,
          "index": 19
         },
         {
          "Boat Type": "Classic,Motor Yacht",
          "Cumulative": 0.9862008542,
          "counts": 21,
          "index": 35
         },
         {
          "Boat Type": "Classic,Sport Boat",
          "Cumulative": 0.9870769905,
          "counts": 8,
          "index": 43
         },
         {
          "Boat Type": "Water ski",
          "Cumulative": 0.9879531267,
          "counts": 8,
          "index": 88
         },
         {
          "Boat Type": "Cabin Boat,Classic",
          "Cumulative": 0.9887197459,
          "counts": 7,
          "index": 4
         },
         {
          "Boat Type": "Classic,Flybridge",
          "Cumulative": 0.9894863651,
          "counts": 7,
          "index": 30
         },
         {
          "Boat Type": "Classic,Trawler",
          "Cumulative": 0.9900339503,
          "counts": 5,
          "index": 46
         },
         {
          "Boat Type": "Flybridge,Motor Yacht",
          "Cumulative": 0.9905815354,
          "counts": 5,
          "index": 55
         },
         {
          "Boat Type": "Classic,Pontoon Boat",
          "Cumulative": 0.9910196035,
          "counts": 4,
          "index": 38
         },
         {
          "Boat Type": "Classic,Launch",
          "Cumulative": 0.9914576717,
          "counts": 4,
          "index": 33
         },
         {
          "Boat Type": "Cabin Boat,Sport Boat",
          "Cumulative": 0.9917862228,
          "counts": 3,
          "index": 18
         },
         {
          "Boat Type": "Classic,Deck Boat",
          "Cumulative": 0.9921147738,
          "counts": 3,
          "index": 27
         },
         {
          "Boat Type": "Motorsailer",
          "Cumulative": 0.9924433249,
          "counts": 3,
          "index": 67
         },
         {
          "Boat Type": "Motor Yacht,Sport Boat",
          "Cumulative": 0.992771876,
          "counts": 3,
          "index": 64
         },
         {
          "Boat Type": "Cabin Boat,Motor Yacht",
          "Cumulative": 0.9929909101,
          "counts": 2,
          "index": 14
         },
         {
          "Boat Type": "Motor Yacht,Trawler",
          "Cumulative": 0.9932099441,
          "counts": 2,
          "index": 66
         },
         {
          "Boat Type": "Cabin Boat,Hardtop",
          "Cumulative": 0.9934289782,
          "counts": 2,
          "index": 11
         },
         {
          "Boat Type": "Cabin Boat,Flybridge",
          "Cumulative": 0.9936480123,
          "counts": 2,
          "index": 10
         },
         {
          "Boat Type": "Offshore Boat,Sport Boat",
          "Cumulative": 0.9938670463,
          "counts": 2,
          "index": 70
         },
         {
          "Boat Type": "Passenger boat,Working Boat",
          "Cumulative": 0.9940860804,
          "counts": 2,
          "index": 73
         },
         {
          "Boat Type": "Runabout,Sport Boat,Water ski",
          "Cumulative": 0.9943051144,
          "counts": 2,
          "index": 80
         },
         {
          "Boat Type": "Sport Boat,Wakeboard/Wakesurf",
          "Cumulative": 0.9945241485,
          "counts": 2,
          "index": 82
         },
         {
          "Boat Type": "Cabin Boat,Motor Yacht,Sport Boat",
          "Cumulative": 0.9947431826,
          "counts": 2,
          "index": 15
         },
         {
          "Boat Type": "Classic,Sport Boat,Water ski",
          "Cumulative": 0.9949622166,
          "counts": 2,
          "index": 45
         },
         {
          "Boat Type": "Center console boat,Classic",
          "Cumulative": 0.9951812507,
          "counts": 2,
          "index": 21
         },
         {
          "Boat Type": "Center console boat,Sport Boat",
          "Cumulative": 0.9954002847,
          "counts": 2,
          "index": 25
         },
         {
          "Boat Type": "Bowrider,Classic",
          "Cumulative": 0.9955098018,
          "counts": 1,
          "index": 1
         },
         {
          "Boat Type": "Cabin Boat,Classic,Motor Yacht",
          "Cumulative": 0.9956193188,
          "counts": 1,
          "index": 5
         },
         {
          "Boat Type": "Classic,Fishing Boat,Working Boat",
          "Cumulative": 0.9957288358,
          "counts": 1,
          "index": 29
         },
         {
          "Boat Type": "Classic,Fishing Boat",
          "Cumulative": 0.9958383529,
          "counts": 1,
          "index": 28
         },
         {
          "Boat Type": "Passenger boat,Runabout,Sport Boat",
          "Cumulative": 0.9959478699,
          "counts": 1,
          "index": 72
         },
         {
          "Boat Type": "Cabin Boat,Pilothouse",
          "Cumulative": 0.9960573869,
          "counts": 1,
          "index": 17
         },
         {
          "Boat Type": "Cabin Boat,Classic,Trawler",
          "Cumulative": 0.996166904,
          "counts": 1,
          "index": 7
         },
         {
          "Boat Type": "Pilothouse,Sport Boat",
          "Cumulative": 0.996276421,
          "counts": 1,
          "index": 75
         },
         {
          "Boat Type": "Cabin Boat,Classic,Passenger boat",
          "Cumulative": 0.996385938,
          "counts": 1,
          "index": 6
         },
         {
          "Boat Type": "RIB",
          "Cumulative": 0.996495455,
          "counts": 1,
          "index": 77
         },
         {
          "Boat Type": "Runabout,Sport Boat",
          "Cumulative": 0.9966049721,
          "counts": 1,
          "index": 79
         },
         {
          "Boat Type": "Classic,Working Boat",
          "Cumulative": 0.9967144891,
          "counts": 1,
          "index": 47
         },
         {
          "Boat Type": "Center console boat,Fishing Boat,Sport Boat",
          "Cumulative": 0.9968240061,
          "counts": 1,
          "index": 24
         },
         {
          "Boat Type": "Center console boat,Deck Boat,Working Boat",
          "Cumulative": 0.9969335232,
          "counts": 1,
          "index": 23
         },
         {
          "Boat Type": "Sport Boat,Water ski",
          "Cumulative": 0.9970430402,
          "counts": 1,
          "index": 83
         },
         {
          "Boat Type": "Sport Boat,Working Boat",
          "Cumulative": 0.9971525572,
          "counts": 1,
          "index": 84
         },
         {
          "Boat Type": "Bowrider,Sport Boat,Wakeboard/Wakesurf",
          "Cumulative": 0.9972620743,
          "counts": 1,
          "index": 2
         },
         {
          "Boat Type": "Center console boat,Deck Boat,Sport Boat",
          "Cumulative": 0.9973715913,
          "counts": 1,
          "index": 22
         },
         {
          "Boat Type": "Wakeboard/Wakesurf,Water ski",
          "Cumulative": 0.9974811083,
          "counts": 1,
          "index": 87
         },
         {
          "Boat Type": "Offshore Boat,Pilothouse",
          "Cumulative": 0.9975906253,
          "counts": 1,
          "index": 69
         },
         {
          "Boat Type": "Cabin Boat,Fishing Boat",
          "Cumulative": 0.9977001424,
          "counts": 1,
          "index": 8
         },
         {
          "Boat Type": "Classic,Hardtop,Motor Yacht",
          "Cumulative": 0.9978096594,
          "counts": 1,
          "index": 31
         },
         {
          "Boat Type": "Cabin Boat,House Boat",
          "Cumulative": 0.9979191764,
          "counts": 1,
          "index": 13
         },
         {
          "Boat Type": "Cabin Boat,Motor Yacht,Trawler",
          "Cumulative": 0.9980286935,
          "counts": 1,
          "index": 16
         },
         {
          "Boat Type": "Deck Boat,Water ski",
          "Cumulative": 0.9981382105,
          "counts": 1,
          "index": 49
         },
         {
          "Boat Type": "Classic,Sport Boat,Trawler",
          "Cumulative": 0.9982477275,
          "counts": 1,
          "index": 44
         },
         {
          "Boat Type": "Fishing Boat,Pilothouse",
          "Cumulative": 0.9983572446,
          "counts": 1,
          "index": 51
         },
         {
          "Boat Type": "Fishing Boat,Sport Boat",
          "Cumulative": 0.9984667616,
          "counts": 1,
          "index": 52
         },
         {
          "Boat Type": "Classic,Runabout,Trawler",
          "Cumulative": 0.9985762786,
          "counts": 1,
          "index": 42
         },
         {
          "Boat Type": "Classic,Runabout,Sport Boat",
          "Cumulative": 0.9986857956,
          "counts": 1,
          "index": 41
         },
         {
          "Boat Type": "Classic,Pontoon Boat,Trawler",
          "Cumulative": 0.9987953127,
          "counts": 1,
          "index": 39
         },
         {
          "Boat Type": "Hardtop,Motor Yacht",
          "Cumulative": 0.9989048297,
          "counts": 1,
          "index": 57
         },
         {
          "Boat Type": "Classic,House Boat,Passenger boat",
          "Cumulative": 0.9990143467,
          "counts": 1,
          "index": 32
         },
         {
          "Boat Type": "Hardtop,Sport Boat",
          "Cumulative": 0.9991238638,
          "counts": 1,
          "index": 58
         },
         {
          "Boat Type": "Cabin Boat,Hardtop,Motor Yacht",
          "Cumulative": 0.9992333808,
          "counts": 1,
          "index": 12
         },
         {
          "Boat Type": "Ketch",
          "Cumulative": 0.9993428978,
          "counts": 1,
          "index": 60
         },
         {
          "Boat Type": "Classic,Motorsailer",
          "Cumulative": 0.9994524149,
          "counts": 1,
          "index": 37
         },
         {
          "Boat Type": "Classic,Motor Yacht,Passenger boat",
          "Cumulative": 0.9995619319,
          "counts": 1,
          "index": 36
         },
         {
          "Boat Type": "Cabin Boat,Fishing Boat,Pilothouse",
          "Cumulative": 0.9996714489,
          "counts": 1,
          "index": 9
         },
         {
          "Boat Type": "Classic,Mega Yacht",
          "Cumulative": 0.9997809659,
          "counts": 1,
          "index": 34
         },
         {
          "Boat Type": "Motor Yacht,Sport Boat,Water ski",
          "Cumulative": 0.999890483,
          "counts": 1,
          "index": 65
         },
         {
          "Boat Type": "Flybridge,Hardtop,Motor Yacht",
          "Cumulative": 1,
          "counts": 1,
          "index": 54
         }
        ],
        "schema": {
         "fields": [
          {
           "name": "index",
           "type": "integer"
          },
          {
           "name": "Boat Type",
           "type": "string"
          },
          {
           "name": "counts",
           "type": "integer"
          },
          {
           "name": "Cumulative",
           "type": "number"
          }
         ],
         "pandas_version": "1.4.0",
         "primaryKey": [
          "index"
         ]
        }
       },
       "total_rows": 90,
       "truncation_type": null
      },
      "text/html": [
       "<div>\n",
       "<style scoped>\n",
       "    .dataframe tbody tr th:only-of-type {\n",
       "        vertical-align: middle;\n",
       "    }\n",
       "\n",
       "    .dataframe tbody tr th {\n",
       "        vertical-align: top;\n",
       "    }\n",
       "\n",
       "    .dataframe thead th {\n",
       "        text-align: right;\n",
       "    }\n",
       "</style>\n",
       "<table border=\"1\" class=\"dataframe\">\n",
       "  <thead>\n",
       "    <tr style=\"text-align: right;\">\n",
       "      <th></th>\n",
       "      <th>Boat Type</th>\n",
       "      <th>counts</th>\n",
       "      <th>Cumulative</th>\n",
       "    </tr>\n",
       "  </thead>\n",
       "  <tbody>\n",
       "    <tr>\n",
       "      <th>63</th>\n",
       "      <td>Motor Yacht</td>\n",
       "      <td>2593</td>\n",
       "      <td>0.283978</td>\n",
       "    </tr>\n",
       "    <tr>\n",
       "      <th>81</th>\n",
       "      <td>Sport Boat</td>\n",
       "      <td>1257</td>\n",
       "      <td>0.421641</td>\n",
       "    </tr>\n",
       "    <tr>\n",
       "      <th>53</th>\n",
       "      <td>Flybridge</td>\n",
       "      <td>1162</td>\n",
       "      <td>0.548899</td>\n",
       "    </tr>\n",
       "    <tr>\n",
       "      <th>85</th>\n",
       "      <td>Trawler</td>\n",
       "      <td>667</td>\n",
       "      <td>0.621947</td>\n",
       "    </tr>\n",
       "    <tr>\n",
       "      <th>74</th>\n",
       "      <td>Pilothouse</td>\n",
       "      <td>579</td>\n",
       "      <td>0.685358</td>\n",
       "    </tr>\n",
       "    <tr>\n",
       "      <th>...</th>\n",
       "      <td>...</td>\n",
       "      <td>...</td>\n",
       "      <td>...</td>\n",
       "    </tr>\n",
       "    <tr>\n",
       "      <th>36</th>\n",
       "      <td>Classic,Motor Yacht,Passenger boat</td>\n",
       "      <td>1</td>\n",
       "      <td>0.999562</td>\n",
       "    </tr>\n",
       "    <tr>\n",
       "      <th>9</th>\n",
       "      <td>Cabin Boat,Fishing Boat,Pilothouse</td>\n",
       "      <td>1</td>\n",
       "      <td>0.999671</td>\n",
       "    </tr>\n",
       "    <tr>\n",
       "      <th>34</th>\n",
       "      <td>Classic,Mega Yacht</td>\n",
       "      <td>1</td>\n",
       "      <td>0.999781</td>\n",
       "    </tr>\n",
       "    <tr>\n",
       "      <th>65</th>\n",
       "      <td>Motor Yacht,Sport Boat,Water ski</td>\n",
       "      <td>1</td>\n",
       "      <td>0.999890</td>\n",
       "    </tr>\n",
       "    <tr>\n",
       "      <th>54</th>\n",
       "      <td>Flybridge,Hardtop,Motor Yacht</td>\n",
       "      <td>1</td>\n",
       "      <td>1.000000</td>\n",
       "    </tr>\n",
       "  </tbody>\n",
       "</table>\n",
       "<p>90 rows × 3 columns</p>\n",
       "</div>"
      ],
      "text/plain": [
       "                             Boat Type  counts  Cumulative\n",
       "63                         Motor Yacht    2593    0.283978\n",
       "81                          Sport Boat    1257    0.421641\n",
       "53                           Flybridge    1162    0.548899\n",
       "85                             Trawler     667    0.621947\n",
       "74                          Pilothouse     579    0.685358\n",
       "..                                 ...     ...         ...\n",
       "36  Classic,Motor Yacht,Passenger boat       1    0.999562\n",
       "9   Cabin Boat,Fishing Boat,Pilothouse       1    0.999671\n",
       "34                  Classic,Mega Yacht       1    0.999781\n",
       "65    Motor Yacht,Sport Boat,Water ski       1    0.999890\n",
       "54       Flybridge,Hardtop,Motor Yacht       1    1.000000\n",
       "\n",
       "[90 rows x 3 columns]"
      ]
     },
     "execution_count": 11,
     "metadata": {},
     "output_type": "execute_result"
    }
   ],
   "source": [
    "boat_counts = df_raw.groupby(['Boat Type']).size().reset_index(name = 'counts').sort_values(['counts'],ascending = False)\n",
    "boat_counts['Cumulative'] = boat_counts['counts'].cumsum() / df_raw.shape[0]\n",
    "boat_counts"
   ]
  },
  {
   "cell_type": "code",
   "execution_count": 12,
   "id": "bfcd03f5-8a7e-4d03-b76a-a1bea5441e9e",
   "metadata": {},
   "outputs": [],
   "source": [
    "# Condense the boat type into a more simple form to not confuse the later algorithm with noise\n",
    "df_raw['CLEAN Boat Type'] = np.where(df_raw['Boat Type'].str.contains(\"Motor Yacht\"), 'Motor Yacht',\n",
    "                            np.where(df_raw['Boat Type'].str.contains(\"Sport Boat\"), 'Sport Boat',\n",
    "                            np.where(df_raw['Boat Type'].str.contains(\"Flybridge\"), 'Flybridge',\n",
    "                            np.where(df_raw['Boat Type'].str.contains(\"Trawler\"), 'Trawler',\n",
    "                            np.where(df_raw['Boat Type'].str.contains(\"Pilothouse\"), 'Pilothouse',\n",
    "                            np.where(df_raw['Boat Type'].str.contains(\"Cabin Boat\"), 'Cabin Boat',\n",
    "                            np.where(df_raw['Boat Type'].str.contains(\"Hardtop\"), 'Hardtop',\n",
    "                            np.where(df_raw['Boat Type'].str.contains(\"Center console boat\"), 'Center console boat',\n",
    "                            np.where(df_raw['Boat Type'].str.contains(\"Bowrider\"), 'Bowrider','Other')))))))))"
   ]
  },
  {
   "cell_type": "code",
   "execution_count": 13,
   "id": "e123d35b-95e8-4917-a7d4-795e13d70c13",
   "metadata": {},
   "outputs": [
    {
     "data": {
      "application/com.datacamp.data-table.v1+json": {
       "table": {
        "data": [
         {
          "CLEAN Boat Type": "Motor Yacht",
          "Cumulative": 0.2886868908,
          "counts": 2636,
          "index": 5
         },
         {
          "CLEAN Boat Type": "Sport Boat",
          "Cumulative": 0.4299638594,
          "counts": 1290,
          "index": 8
         },
         {
          "CLEAN Boat Type": "Flybridge",
          "Cumulative": 0.5582083014,
          "counts": 1171,
          "index": 3
         },
         {
          "CLEAN Boat Type": "Other",
          "Cumulative": 0.6834957836,
          "counts": 1144,
          "index": 6
         },
         {
          "CLEAN Boat Type": "Trawler",
          "Cumulative": 0.7574197788,
          "counts": 675,
          "index": 9
         },
         {
          "CLEAN Boat Type": "Pilothouse",
          "Cumulative": 0.8212682072,
          "counts": 583,
          "index": 7
         },
         {
          "CLEAN Boat Type": "Cabin Boat",
          "Cumulative": 0.8760267222,
          "counts": 500,
          "index": 1
         },
         {
          "CLEAN Boat Type": "Hardtop",
          "Cumulative": 0.9295805498,
          "counts": 489,
          "index": 4
         },
         {
          "CLEAN Boat Type": "Center console boat",
          "Cumulative": 0.9697732997,
          "counts": 367,
          "index": 2
         },
         {
          "CLEAN Boat Type": "Bowrider",
          "Cumulative": 1,
          "counts": 276,
          "index": 0
         }
        ],
        "schema": {
         "fields": [
          {
           "name": "index",
           "type": "integer"
          },
          {
           "name": "CLEAN Boat Type",
           "type": "string"
          },
          {
           "name": "counts",
           "type": "integer"
          },
          {
           "name": "Cumulative",
           "type": "number"
          }
         ],
         "pandas_version": "1.4.0",
         "primaryKey": [
          "index"
         ]
        }
       },
       "total_rows": 10,
       "truncation_type": null
      },
      "text/html": [
       "<div>\n",
       "<style scoped>\n",
       "    .dataframe tbody tr th:only-of-type {\n",
       "        vertical-align: middle;\n",
       "    }\n",
       "\n",
       "    .dataframe tbody tr th {\n",
       "        vertical-align: top;\n",
       "    }\n",
       "\n",
       "    .dataframe thead th {\n",
       "        text-align: right;\n",
       "    }\n",
       "</style>\n",
       "<table border=\"1\" class=\"dataframe\">\n",
       "  <thead>\n",
       "    <tr style=\"text-align: right;\">\n",
       "      <th></th>\n",
       "      <th>CLEAN Boat Type</th>\n",
       "      <th>counts</th>\n",
       "      <th>Cumulative</th>\n",
       "    </tr>\n",
       "  </thead>\n",
       "  <tbody>\n",
       "    <tr>\n",
       "      <th>5</th>\n",
       "      <td>Motor Yacht</td>\n",
       "      <td>2636</td>\n",
       "      <td>0.288687</td>\n",
       "    </tr>\n",
       "    <tr>\n",
       "      <th>8</th>\n",
       "      <td>Sport Boat</td>\n",
       "      <td>1290</td>\n",
       "      <td>0.429964</td>\n",
       "    </tr>\n",
       "    <tr>\n",
       "      <th>3</th>\n",
       "      <td>Flybridge</td>\n",
       "      <td>1171</td>\n",
       "      <td>0.558208</td>\n",
       "    </tr>\n",
       "    <tr>\n",
       "      <th>6</th>\n",
       "      <td>Other</td>\n",
       "      <td>1144</td>\n",
       "      <td>0.683496</td>\n",
       "    </tr>\n",
       "    <tr>\n",
       "      <th>9</th>\n",
       "      <td>Trawler</td>\n",
       "      <td>675</td>\n",
       "      <td>0.757420</td>\n",
       "    </tr>\n",
       "    <tr>\n",
       "      <th>7</th>\n",
       "      <td>Pilothouse</td>\n",
       "      <td>583</td>\n",
       "      <td>0.821268</td>\n",
       "    </tr>\n",
       "    <tr>\n",
       "      <th>1</th>\n",
       "      <td>Cabin Boat</td>\n",
       "      <td>500</td>\n",
       "      <td>0.876027</td>\n",
       "    </tr>\n",
       "    <tr>\n",
       "      <th>4</th>\n",
       "      <td>Hardtop</td>\n",
       "      <td>489</td>\n",
       "      <td>0.929581</td>\n",
       "    </tr>\n",
       "    <tr>\n",
       "      <th>2</th>\n",
       "      <td>Center console boat</td>\n",
       "      <td>367</td>\n",
       "      <td>0.969773</td>\n",
       "    </tr>\n",
       "    <tr>\n",
       "      <th>0</th>\n",
       "      <td>Bowrider</td>\n",
       "      <td>276</td>\n",
       "      <td>1.000000</td>\n",
       "    </tr>\n",
       "  </tbody>\n",
       "</table>\n",
       "</div>"
      ],
      "text/plain": [
       "       CLEAN Boat Type  counts  Cumulative\n",
       "5          Motor Yacht    2636    0.288687\n",
       "8           Sport Boat    1290    0.429964\n",
       "3            Flybridge    1171    0.558208\n",
       "6                Other    1144    0.683496\n",
       "9              Trawler     675    0.757420\n",
       "7           Pilothouse     583    0.821268\n",
       "1           Cabin Boat     500    0.876027\n",
       "4              Hardtop     489    0.929581\n",
       "2  Center console boat     367    0.969773\n",
       "0             Bowrider     276    1.000000"
      ]
     },
     "execution_count": 13,
     "metadata": {},
     "output_type": "execute_result"
    }
   ],
   "source": [
    "# Show the counts for the condensed boat type\n",
    "clean_boat_counts = df_raw.groupby(['CLEAN Boat Type']).size().reset_index(name = 'counts').sort_values(['counts'],ascending = False)\n",
    "clean_boat_counts['Cumulative'] = clean_boat_counts['counts'].cumsum() / df_raw.shape[0]\n",
    "clean_boat_counts"
   ]
  },
  {
   "cell_type": "markdown",
   "id": "84f85b87-a6fd-47ce-b57e-b20b3ff4112e",
   "metadata": {},
   "source": [
    "### Manufacturer\n",
    "\n",
    "Since there are 852 different manufacturers and none of them are a clear majority producer of the listed boats, I am actually going to exclude this feature from my model. I could leave it as is and then create a dummy-variable with it but I think that it would create too much noise in the model since it doesn't appear to me that any manufacturer is significantly driving views."
   ]
  },
  {
   "cell_type": "code",
   "execution_count": 14,
   "id": "83efbacb-155e-4680-974c-a77fca92e0ab",
   "metadata": {},
   "outputs": [
    {
     "data": {
      "application/com.datacamp.data-table.v1+json": {
       "table": {
        "data": [
         {
          "Manufacturer": "BÃ©nÃ©teau power boats",
          "View_per_listing": 81.3157051282,
          "count": 624,
          "sum": 50741
         },
         {
          "Manufacturer": "Jeanneau power boats",
          "View_per_listing": 84.1870229008,
          "count": 524,
          "sum": 44114
         },
         {
          "Manufacturer": "Sunseeker power boats",
          "View_per_listing": 106.9696132597,
          "count": 362,
          "sum": 38723
         },
         {
          "Manufacturer": "Princess power boats",
          "View_per_listing": 123.4845814978,
          "count": 227,
          "sum": 28031
         },
         {
          "Manufacturer": "Sea Ray power boats",
          "View_per_listing": 126.3382352941,
          "count": 204,
          "sum": 25773
         },
         {
          "Manufacturer": "Bavaria power boats",
          "View_per_listing": 150.2215568862,
          "count": 167,
          "sum": 25087
         },
         {
          "Manufacturer": "Cranchi power boats",
          "View_per_listing": 118.365,
          "count": 200,
          "sum": 23673
         },
         {
          "Manufacturer": "Azimut power boats",
          "View_per_listing": 104.1100478469,
          "count": 209,
          "sum": 21759
         },
         {
          "Manufacturer": "Quicksilver (Brunswick Marine) power boats",
          "View_per_listing": 130.987804878,
          "count": 164,
          "sum": 21482
         },
         {
          "Manufacturer": "Bayliner power boats",
          "View_per_listing": 166.8173913043,
          "count": 115,
          "sum": 19184
         },
         {
          "Manufacturer": "Fairline power boats",
          "View_per_listing": 115.4085365854,
          "count": 164,
          "sum": 18927
         },
         {
          "Manufacturer": "Sessa power boats",
          "View_per_listing": 111.1398601399,
          "count": 143,
          "sum": 15893
         },
         {
          "Manufacturer": "Sealine power boats",
          "View_per_listing": 123.0614035088,
          "count": 114,
          "sum": 14029
         },
         {
          "Manufacturer": "Quicksilver power boats",
          "View_per_listing": 101.3217391304,
          "count": 115,
          "sum": 11652
         },
         {
          "Manufacturer": "Galeon power boats",
          "View_per_listing": 130.7469879518,
          "count": 83,
          "sum": 10852
         },
         {
          "Manufacturer": "Riva power boats",
          "View_per_listing": 166.2131147541,
          "count": 61,
          "sum": 10139
         },
         {
          "Manufacturer": "Regal power boats",
          "View_per_listing": 127.0540540541,
          "count": 74,
          "sum": 9402
         },
         {
          "Manufacturer": "Prestige Yachts power boats",
          "View_per_listing": 86.9906542056,
          "count": 107,
          "sum": 9308
         },
         {
          "Manufacturer": "Linssen power boats",
          "View_per_listing": 132.1290322581,
          "count": 62,
          "sum": 8192
         },
         {
          "Manufacturer": "Windy power boats",
          "View_per_listing": 182,
          "count": 41,
          "sum": 7462
         },
         {
          "Manufacturer": "Boesch power boats",
          "View_per_listing": 203.4285714286,
          "count": 35,
          "sum": 7120
         },
         {
          "Manufacturer": "Nimbus power boats",
          "View_per_listing": 176.5897435897,
          "count": 39,
          "sum": 6887
         },
         {
          "Manufacturer": "Gobbi power boats",
          "View_per_listing": 159.7441860465,
          "count": 43,
          "sum": 6869
         },
         {
          "Manufacturer": "Four Winns power boats",
          "View_per_listing": 141.9777777778,
          "count": 45,
          "sum": 6389
         },
         {
          "Manufacturer": "Pershing power boats",
          "View_per_listing": 117.1698113208,
          "count": 53,
          "sum": 6210
         },
         {
          "Manufacturer": "Invictus power boats",
          "View_per_listing": 163.1315789474,
          "count": 38,
          "sum": 6199
         },
         {
          "Manufacturer": "Saver power boats",
          "View_per_listing": 159.8684210526,
          "count": 38,
          "sum": 6075
         },
         {
          "Manufacturer": "Parker power boats",
          "View_per_listing": 102.3898305085,
          "count": 59,
          "sum": 6041
         },
         {
          "Manufacturer": "Yamarin power boats",
          "View_per_listing": 131.9523809524,
          "count": 42,
          "sum": 5542
         },
         {
          "Manufacturer": "Marinello power boats",
          "View_per_listing": 149.3235294118,
          "count": 34,
          "sum": 5077
         },
         {
          "Manufacturer": "Ferretti power boats",
          "View_per_listing": 79.7301587302,
          "count": 63,
          "sum": 5023
         },
         {
          "Manufacturer": "Chaparral power boats",
          "View_per_listing": 154.59375,
          "count": 32,
          "sum": 4947
         },
         {
          "Manufacturer": "Marex power boats",
          "View_per_listing": 184.4230769231,
          "count": 26,
          "sum": 4795
         },
         {
          "Manufacturer": "Aquador power boats",
          "View_per_listing": 190.7083333333,
          "count": 24,
          "sum": 4577
         },
         {
          "Manufacturer": "Chris Craft power boats",
          "View_per_listing": 158.75,
          "count": 28,
          "sum": 4445
         },
         {
          "Manufacturer": "Boston Whaler power boats",
          "View_per_listing": 110.6153846154,
          "count": 39,
          "sum": 4314
         },
         {
          "Manufacturer": "Viper power boats",
          "View_per_listing": 124.7352941176,
          "count": 34,
          "sum": 4241
         },
         {
          "Manufacturer": "Crownline power boats",
          "View_per_listing": 146.0689655172,
          "count": 29,
          "sum": 4236
         },
         {
          "Manufacturer": "Ranieri International power boats",
          "View_per_listing": 149,
          "count": 27,
          "sum": 4023
         },
         {
          "Manufacturer": "Fjord power boats",
          "View_per_listing": 160.44,
          "count": 25,
          "sum": 4011
         },
         {
          "Manufacturer": "Rhea power boats",
          "View_per_listing": 118.7575757576,
          "count": 33,
          "sum": 3919
         },
         {
          "Manufacturer": "Glastron power boats",
          "View_per_listing": 180.5238095238,
          "count": 21,
          "sum": 3791
         },
         {
          "Manufacturer": "Pedro power boats",
          "View_per_listing": 114.0909090909,
          "count": 33,
          "sum": 3765
         },
         {
          "Manufacturer": "Maxum power boats",
          "View_per_listing": 166.6363636364,
          "count": 22,
          "sum": 3666
         },
         {
          "Manufacturer": "Rinker power boats",
          "View_per_listing": 171.55,
          "count": 20,
          "sum": 3431
         },
         {
          "Manufacturer": "Fiart Mare power boats",
          "View_per_listing": 97.696969697,
          "count": 33,
          "sum": 3224
         },
         {
          "Manufacturer": "Sanlorenzo power boats",
          "View_per_listing": 77.8536585366,
          "count": 41,
          "sum": 3192
         },
         {
          "Manufacturer": "Monterey power boats",
          "View_per_listing": 148.8095238095,
          "count": 21,
          "sum": 3125
         },
         {
          "Manufacturer": "Apreamare power boats",
          "View_per_listing": 105.1379310345,
          "count": 29,
          "sum": 3049
         },
         {
          "Manufacturer": "Astondoa power boats",
          "View_per_listing": 79.9210526316,
          "count": 38,
          "sum": 3037
         },
         {
          "Manufacturer": "Absolute power boats",
          "View_per_listing": 90.6060606061,
          "count": 33,
          "sum": 2990
         },
         {
          "Manufacturer": "Cobalt power boats",
          "View_per_listing": 149.25,
          "count": 20,
          "sum": 2985
         },
         {
          "Manufacturer": "Greenline power boats",
          "View_per_listing": 119.24,
          "count": 25,
          "sum": 2981
         },
         {
          "Manufacturer": "Atlantis power boats",
          "View_per_listing": 78.8918918919,
          "count": 37,
          "sum": 2919
         },
         {
          "Manufacturer": "Menorquin power boats",
          "View_per_listing": 86.696969697,
          "count": 33,
          "sum": 2861
         },
         {
          "Manufacturer": "Galia power boats",
          "View_per_listing": 178.4375,
          "count": 16,
          "sum": 2855
         },
         {
          "Manufacturer": "Airon Marine power boats",
          "View_per_listing": 101.5357142857,
          "count": 28,
          "sum": 2843
         },
         {
          "Manufacturer": "AMT power boats",
          "View_per_listing": 145.2105263158,
          "count": 19,
          "sum": 2759
         },
         {
          "Manufacturer": "Rodman power boats",
          "View_per_listing": 68.075,
          "count": 40,
          "sum": 2723
         },
         {
          "Manufacturer": "Campion power boats",
          "View_per_listing": 88.4,
          "count": 30,
          "sum": 2652
         },
         {
          "Manufacturer": "Innovazioni e Progetti power boats",
          "View_per_listing": 107.125,
          "count": 24,
          "sum": 2571
         },
         {
          "Manufacturer": "Drago Boats power boats",
          "View_per_listing": 106.75,
          "count": 24,
          "sum": 2562
         },
         {
          "Manufacturer": "AXOPAR power boats",
          "View_per_listing": 196.6923076923,
          "count": 13,
          "sum": 2557
         },
         {
          "Manufacturer": "Bella power boats",
          "View_per_listing": 210.0833333333,
          "count": 12,
          "sum": 2521
         },
         {
          "Manufacturer": "Buster power boats",
          "View_per_listing": 125.4,
          "count": 20,
          "sum": 2508
         },
         {
          "Manufacturer": "Grand Banks power boats",
          "View_per_listing": 136.6111111111,
          "count": 18,
          "sum": 2459
         },
         {
          "Manufacturer": "Draco power boats",
          "View_per_listing": 201.9166666667,
          "count": 12,
          "sum": 2423
         },
         {
          "Manufacturer": "Formula power boats",
          "View_per_listing": 134.1111111111,
          "count": 18,
          "sum": 2414
         },
         {
          "Manufacturer": "Terhi power boats",
          "View_per_listing": 179.7692307692,
          "count": 13,
          "sum": 2337
         },
         {
          "Manufacturer": "Raffaelli power boats",
          "View_per_listing": 91.84,
          "count": 25,
          "sum": 2296
         },
         {
          "Manufacturer": "Karnic power boats",
          "View_per_listing": 142.25,
          "count": 16,
          "sum": 2276
         },
         {
          "Manufacturer": "Elan power boats",
          "View_per_listing": 188.4166666667,
          "count": 12,
          "sum": 2261
         },
         {
          "Manufacturer": "Neptunus power boats",
          "View_per_listing": 116.9473684211,
          "count": 19,
          "sum": 2222
         },
         {
          "Manufacturer": "Storebro power boats",
          "View_per_listing": 170.8461538462,
          "count": 13,
          "sum": 2221
         },
         {
          "Manufacturer": "Linder power boats",
          "View_per_listing": 120.6666666667,
          "count": 18,
          "sum": 2172
         },
         {
          "Manufacturer": "Nordkapp power boats",
          "View_per_listing": 152.2142857143,
          "count": 14,
          "sum": 2131
         },
         {
          "Manufacturer": "Ocqueteau power boats",
          "View_per_listing": 96.6363636364,
          "count": 22,
          "sum": 2126
         },
         {
          "Manufacturer": "Flipper power boats",
          "View_per_listing": 160.8461538462,
          "count": 13,
          "sum": 2091
         },
         {
          "Manufacturer": "Majesty Yachts power boats",
          "View_per_listing": 121.5294117647,
          "count": 17,
          "sum": 2066
         },
         {
          "Manufacturer": "Mochi Craft power boats",
          "View_per_listing": 96.8571428571,
          "count": 21,
          "sum": 2034
         },
         {
          "Manufacturer": "Colombo power boats",
          "View_per_listing": 165.5,
          "count": 12,
          "sum": 1986
         },
         {
          "Manufacturer": "MasterCraft power boats",
          "View_per_listing": 176.6363636364,
          "count": 11,
          "sum": 1943
         },
         {
          "Manufacturer": "Faeton power boats",
          "View_per_listing": 95.8,
          "count": 20,
          "sum": 1916
         },
         {
          "Manufacturer": "Ganz Boats power boats",
          "View_per_listing": 136,
          "count": 14,
          "sum": 1904
         },
         {
          "Manufacturer": "Rio power boats",
          "View_per_listing": 105.6666666667,
          "count": 18,
          "sum": 1902
         },
         {
          "Manufacturer": "Bruno Abbate power boats",
          "View_per_listing": 172.8181818182,
          "count": 11,
          "sum": 1901
         },
         {
          "Manufacturer": "Frauscher power boats",
          "View_per_listing": 156.8333333333,
          "count": 12,
          "sum": 1882
         },
         {
          "Manufacturer": "Cruisers Yachts power boats",
          "View_per_listing": 98.7894736842,
          "count": 19,
          "sum": 1877
         },
         {
          "Manufacturer": "Dellapasqua power boats",
          "View_per_listing": 89.3333333333,
          "count": 21,
          "sum": 1876
         },
         {
          "Manufacturer": "B2 Marine power boats",
          "View_per_listing": 133.6428571429,
          "count": 14,
          "sum": 1871
         },
         {
          "Manufacturer": "VBoats power boats",
          "View_per_listing": 206.8888888889,
          "count": 9,
          "sum": 1862
         },
         {
          "Manufacturer": "Larson power boats",
          "View_per_listing": 154.75,
          "count": 12,
          "sum": 1857
         },
         {
          "Manufacturer": "Pioner power boats",
          "View_per_listing": 139.7692307692,
          "count": 13,
          "sum": 1817
         },
         {
          "Manufacturer": "XO Boats power boats",
          "View_per_listing": 181.2,
          "count": 10,
          "sum": 1812
         },
         {
          "Manufacturer": "Performance power boats",
          "View_per_listing": 150.75,
          "count": 12,
          "sum": 1809
         },
         {
          "Manufacturer": "Eolo power boats",
          "View_per_listing": 120.2,
          "count": 15,
          "sum": 1803
         },
         {
          "Manufacturer": "Ilver power boats",
          "View_per_listing": 137.3846153846,
          "count": 13,
          "sum": 1786
         },
         {
          "Manufacturer": "De Boarnstream power boats",
          "View_per_listing": 172.2,
          "count": 10,
          "sum": 1722
         },
         {
          "Manufacturer": "Nautique power boats",
          "View_per_listing": 119.6428571429,
          "count": 14,
          "sum": 1675
         },
         {
          "Manufacturer": "Succes power boats",
          "View_per_listing": 113.9285714286,
          "count": 14,
          "sum": 1595
         },
         {
          "Manufacturer": "Salpa power boats",
          "View_per_listing": 142.3636363636,
          "count": 11,
          "sum": 1566
         },
         {
          "Manufacturer": "Comitti power boats",
          "View_per_listing": 221.1428571429,
          "count": 7,
          "sum": 1548
         },
         {
          "Manufacturer": "Conam power boats",
          "View_per_listing": 127.1666666667,
          "count": 12,
          "sum": 1526
         },
         {
          "Manufacturer": "Crescent power boats",
          "View_per_listing": 101.4666666667,
          "count": 15,
          "sum": 1522
         },
         {
          "Manufacturer": "Finnmaster power boats",
          "View_per_listing": 108.5,
          "count": 14,
          "sum": 1519
         },
         {
          "Manufacturer": "MÃ¤ndli power boats",
          "View_per_listing": 216.4285714286,
          "count": 7,
          "sum": 1515
         },
         {
          "Manufacturer": "Scand power boats",
          "View_per_listing": 212.4285714286,
          "count": 7,
          "sum": 1487
         },
         {
          "Manufacturer": "Gruno power boats",
          "View_per_listing": 131.2727272727,
          "count": 11,
          "sum": 1444
         },
         {
          "Manufacturer": "Allegra power boats",
          "View_per_listing": 144,
          "count": 10,
          "sum": 1440
         },
         {
          "Manufacturer": "Doral power boats",
          "View_per_listing": 158.5555555556,
          "count": 9,
          "sum": 1427
         },
         {
          "Manufacturer": "Viking power boats",
          "View_per_listing": 156.2222222222,
          "count": 9,
          "sum": 1406
         },
         {
          "Manufacturer": "Capelli power boats",
          "View_per_listing": 115.9166666667,
          "count": 12,
          "sum": 1391
         },
         {
          "Manufacturer": "Baglietto power boats",
          "View_per_listing": 196.5714285714,
          "count": 7,
          "sum": 1376
         },
         {
          "Manufacturer": "Selection Boats power boats",
          "View_per_listing": 152.6666666667,
          "count": 9,
          "sum": 1374
         },
         {
          "Manufacturer": "DarekCo power boats",
          "View_per_listing": 166.625,
          "count": 8,
          "sum": 1333
         },
         {
          "Manufacturer": "Super van Craft power boats",
          "View_per_listing": 131.8,
          "count": 10,
          "sum": 1318
         },
         {
          "Manufacturer": "Marine power boats",
          "View_per_listing": 163,
          "count": 8,
          "sum": 1304
         },
         {
          "Manufacturer": "Broom power boats",
          "View_per_listing": 129.9,
          "count": 10,
          "sum": 1299
         },
         {
          "Manufacturer": "BlueCraft power boats",
          "View_per_listing": 216.1666666667,
          "count": 6,
          "sum": 1297
         },
         {
          "Manufacturer": "Baia power boats",
          "View_per_listing": 92.3571428571,
          "count": 14,
          "sum": 1293
         },
         {
          "Manufacturer": "Wellcraft power boats",
          "View_per_listing": 107.3333333333,
          "count": 12,
          "sum": 1288
         },
         {
          "Manufacturer": "ManÃ² power boats",
          "View_per_listing": 78.75,
          "count": 16,
          "sum": 1260
         },
         {
          "Manufacturer": "Smelne power boats",
          "View_per_listing": 73.9411764706,
          "count": 17,
          "sum": 1257
         },
         {
          "Manufacturer": "De Antonio Yachts power boats",
          "View_per_listing": 208.8333333333,
          "count": 6,
          "sum": 1253
         },
         {
          "Manufacturer": "Correct Craft power boats",
          "View_per_listing": 207.3333333333,
          "count": 6,
          "sum": 1244
         },
         {
          "Manufacturer": "AluForce power boats",
          "View_per_listing": 135.6666666667,
          "count": 9,
          "sum": 1221
         },
         {
          "Manufacturer": "Sting power boats",
          "View_per_listing": 120.8,
          "count": 10,
          "sum": 1208
         },
         {
          "Manufacturer": "Carver power boats",
          "View_per_listing": 133.8888888889,
          "count": 9,
          "sum": 1205
         },
         {
          "Manufacturer": "Valkkruiser power boats",
          "View_per_listing": 100.3333333333,
          "count": 12,
          "sum": 1204
         },
         {
          "Manufacturer": "Cayman power boats",
          "View_per_listing": 57.2857142857,
          "count": 21,
          "sum": 1203
         },
         {
          "Manufacturer": "Nidelv power boats",
          "View_per_listing": 200.3333333333,
          "count": 6,
          "sum": 1202
         },
         {
          "Manufacturer": "Italmar power boats",
          "View_per_listing": 132.5555555556,
          "count": 9,
          "sum": 1193
         },
         {
          "Manufacturer": "Mangusta power boats",
          "View_per_listing": 168.8571428571,
          "count": 7,
          "sum": 1182
         },
         {
          "Manufacturer": "A. Mostes power boats",
          "View_per_listing": 236.2,
          "count": 5,
          "sum": 1181
         },
         {
          "Manufacturer": "Smartliner power boats",
          "View_per_listing": 196.1666666667,
          "count": 6,
          "sum": 1177
         },
         {
          "Manufacturer": "Proficiat power boats",
          "View_per_listing": 130.6666666667,
          "count": 9,
          "sum": 1176
         },
         {
          "Manufacturer": "Corsiva power boats",
          "View_per_listing": 195.1666666667,
          "count": 6,
          "sum": 1171
         },
         {
          "Manufacturer": "Balt Yacht power boats",
          "View_per_listing": 194.3333333333,
          "count": 6,
          "sum": 1166
         },
         {
          "Manufacturer": "Fountaine Pajot power boats",
          "View_per_listing": 116.2,
          "count": 10,
          "sum": 1162
         },
         {
          "Manufacturer": "Orkney power boats",
          "View_per_listing": 232.4,
          "count": 5,
          "sum": 1162
         },
         {
          "Manufacturer": "Rizzardi power boats",
          "View_per_listing": 75.7333333333,
          "count": 15,
          "sum": 1136
         },
         {
          "Manufacturer": "Bandido Yachts power boats",
          "View_per_listing": 141.75,
          "count": 8,
          "sum": 1134
         },
         {
          "Manufacturer": "Ranieri power boats",
          "View_per_listing": 141.375,
          "count": 8,
          "sum": 1131
         },
         {
          "Manufacturer": "Aquanaut power boats",
          "View_per_listing": 123.5555555556,
          "count": 9,
          "sum": 1112
         },
         {
          "Manufacturer": "Piantoni (IT) power boats",
          "View_per_listing": 92.5,
          "count": 12,
          "sum": 1110
         },
         {
          "Manufacturer": "VanDutch power boats",
          "View_per_listing": 123.1111111111,
          "count": 9,
          "sum": 1108
         },
         {
          "Manufacturer": "Rapsody power boats",
          "View_per_listing": 122.6666666667,
          "count": 9,
          "sum": 1104
         },
         {
          "Manufacturer": "Pedrazzini power boats",
          "View_per_listing": 219.6,
          "count": 5,
          "sum": 1098
         },
         {
          "Manufacturer": "Edership power boats",
          "View_per_listing": 121.4444444444,
          "count": 9,
          "sum": 1093
         },
         {
          "Manufacturer": "Cigarette power boats",
          "View_per_listing": 216.4,
          "count": 5,
          "sum": 1082
         },
         {
          "Manufacturer": "Tecnorib power boats",
          "View_per_listing": 212.8,
          "count": 5,
          "sum": 1064
         },
         {
          "Manufacturer": "Inter power boats",
          "View_per_listing": 174.5,
          "count": 6,
          "sum": 1047
         },
         {
          "Manufacturer": "Master power boats",
          "View_per_listing": 115.7777777778,
          "count": 9,
          "sum": 1042
         },
         {
          "Manufacturer": "Dominator power boats",
          "View_per_listing": 65,
          "count": 16,
          "sum": 1040
         },
         {
          "Manufacturer": "Leopard power boats",
          "View_per_listing": 129.125,
          "count": 8,
          "sum": 1033
         },
         {
          "Manufacturer": "Riviera power boats",
          "View_per_listing": 79.3076923077,
          "count": 13,
          "sum": 1031
         },
         {
          "Manufacturer": "Vri-Jon power boats",
          "View_per_listing": 114.1111111111,
          "count": 9,
          "sum": 1027
         },
         {
          "Manufacturer": "Aicon power boats",
          "View_per_listing": 68.2,
          "count": 15,
          "sum": 1023
         },
         {
          "Manufacturer": "Grandezza power boats",
          "View_per_listing": 127.375,
          "count": 8,
          "sum": 1019
         },
         {
          "Manufacturer": "Canados power boats",
          "View_per_listing": 101.6,
          "count": 10,
          "sum": 1016
         },
         {
          "Manufacturer": "Kelt power boats",
          "View_per_listing": 92.1818181818,
          "count": 11,
          "sum": 1014
         },
         {
          "Manufacturer": "Uniesse power boats",
          "View_per_listing": 72.4285714286,
          "count": 14,
          "sum": 1014
         },
         {
          "Manufacturer": "van der Heijden power boats",
          "View_per_listing": 112.4444444444,
          "count": 9,
          "sum": 1012
         },
         {
          "Manufacturer": "Intermare power boats",
          "View_per_listing": 77.0769230769,
          "count": 13,
          "sum": 1002
         },
         {
          "Manufacturer": "Mingolla power boats",
          "View_per_listing": 166.5,
          "count": 6,
          "sum": 999
         },
         {
          "Manufacturer": "ACM Dufour power boats",
          "View_per_listing": 109.4444444444,
          "count": 9,
          "sum": 985
         },
         {
          "Manufacturer": "Tullio Abbate power boats",
          "View_per_listing": 196.4,
          "count": 5,
          "sum": 982
         },
         {
          "Manufacturer": "Selva power boats",
          "View_per_listing": 195.4,
          "count": 5,
          "sum": 977
         },
         {
          "Manufacturer": "Carnevali power boats",
          "View_per_listing": 65,
          "count": 15,
          "sum": 975
         },
         {
          "Manufacturer": "Baikal power boats",
          "View_per_listing": 234.75,
          "count": 4,
          "sum": 939
         },
         {
          "Manufacturer": "Silver power boats",
          "View_per_listing": 155.8333333333,
          "count": 6,
          "sum": 935
         },
         {
          "Manufacturer": "Arvor power boats",
          "View_per_listing": 154.6666666667,
          "count": 6,
          "sum": 928
         },
         {
          "Manufacturer": "Cantieri Estensi power boats",
          "View_per_listing": 77.0833333333,
          "count": 12,
          "sum": 925
         },
         {
          "Manufacturer": "President power boats",
          "View_per_listing": 129.4285714286,
          "count": 7,
          "sum": 906
         },
         {
          "Manufacturer": "Valk power boats",
          "View_per_listing": 90.5,
          "count": 10,
          "sum": 905
         },
         {
          "Manufacturer": "Olympic power boats",
          "View_per_listing": 112.375,
          "count": 8,
          "sum": 899
         },
         {
          "Manufacturer": "Itama power boats",
          "View_per_listing": 98.8888888889,
          "count": 9,
          "sum": 890
         },
         {
          "Manufacturer": "Centurion power boats",
          "View_per_listing": 295.6666666667,
          "count": 3,
          "sum": 887
         },
         {
          "Manufacturer": "Italcraft power boats",
          "View_per_listing": 108.375,
          "count": 8,
          "sum": 867
         },
         {
          "Manufacturer": "Maiora power boats",
          "View_per_listing": 78.6363636364,
          "count": 11,
          "sum": 865
         },
         {
          "Manufacturer": "Sunchaser power boats",
          "View_per_listing": 123.2857142857,
          "count": 7,
          "sum": 863
         },
         {
          "Manufacturer": "AS Marine power boats",
          "View_per_listing": 172.2,
          "count": 5,
          "sum": 861
         },
         {
          "Manufacturer": "Polaris power boats",
          "View_per_listing": 171.4,
          "count": 5,
          "sum": 857
         },
         {
          "Manufacturer": "Stingray power boats",
          "View_per_listing": 213.5,
          "count": 4,
          "sum": 854
         },
         {
          "Manufacturer": "Benetti power boats",
          "View_per_listing": 106,
          "count": 8,
          "sum": 848
         },
         {
          "Manufacturer": "Biam power boats",
          "View_per_listing": 210.75,
          "count": 4,
          "sum": 843
         },
         {
          "Manufacturer": "Tecnomar power boats",
          "View_per_listing": 100.75,
          "count": 8,
          "sum": 806
         },
         {
          "Manufacturer": "Elling power boats",
          "View_per_listing": 114,
          "count": 7,
          "sum": 798
         },
         {
          "Manufacturer": "Cantieri di Pisa power boats",
          "View_per_listing": 197.5,
          "count": 4,
          "sum": 790
         },
         {
          "Manufacturer": "Cytra power boats",
          "View_per_listing": 196.5,
          "count": 4,
          "sum": 786
         },
         {
          "Manufacturer": "Supra power boats",
          "View_per_listing": 260.6666666667,
          "count": 3,
          "sum": 782
         },
         {
          "Manufacturer": "Hatteras power boats",
          "View_per_listing": 59.8461538462,
          "count": 13,
          "sum": 778
         },
         {
          "Manufacturer": "Rand Boats power boats",
          "View_per_listing": 194.5,
          "count": 4,
          "sum": 778
         },
         {
          "Manufacturer": "Sciallino power boats",
          "View_per_listing": 128.5,
          "count": 6,
          "sum": 771
         },
         {
          "Manufacturer": "Saxdor power boats",
          "View_per_listing": 109.8571428571,
          "count": 7,
          "sum": 769
         },
         {
          "Manufacturer": "Hilter power boats",
          "View_per_listing": 152.4,
          "count": 5,
          "sum": 762
         },
         {
          "Manufacturer": "Clear power boats",
          "View_per_listing": 108.4285714286,
          "count": 7,
          "sum": 759
         },
         {
          "Manufacturer": "Alfastreet Marine power boats",
          "View_per_listing": 151.6,
          "count": 5,
          "sum": 758
         },
         {
          "Manufacturer": "Pirelli power boats",
          "View_per_listing": 106.8571428571,
          "count": 7,
          "sum": 748
         },
         {
          "Manufacturer": "Cobrey power boats",
          "View_per_listing": 248.3333333333,
          "count": 3,
          "sum": 745
         },
         {
          "Manufacturer": "Altena power boats",
          "View_per_listing": 92.75,
          "count": 8,
          "sum": 742
         },
         {
          "Manufacturer": "Pursuit power boats",
          "View_per_listing": 74.2,
          "count": 10,
          "sum": 742
         },
         {
          "Manufacturer": "Cormate power boats",
          "View_per_listing": 184,
          "count": 4,
          "sum": 736
         },
         {
          "Manufacturer": "Saga power boats",
          "View_per_listing": 245.3333333333,
          "count": 3,
          "sum": 736
         },
         {
          "Manufacturer": "Tiara power boats",
          "View_per_listing": 56.4615384615,
          "count": 13,
          "sum": 734
         },
         {
          "Manufacturer": "Integrity power boats",
          "View_per_listing": 66.5454545455,
          "count": 11,
          "sum": 732
         },
         {
          "Manufacturer": "Hollandia power boats",
          "View_per_listing": 121,
          "count": 6,
          "sum": 726
         },
         {
          "Manufacturer": "Solcio power boats",
          "View_per_listing": 144.6,
          "count": 5,
          "sum": 723
         },
         {
          "Manufacturer": "Posillipo power boats",
          "View_per_listing": 80.3333333333,
          "count": 9,
          "sum": 723
         },
         {
          "Manufacturer": "Huber power boats",
          "View_per_listing": 178.75,
          "count": 4,
          "sum": 715
         },
         {
          "Manufacturer": "Moomba power boats",
          "View_per_listing": 238,
          "count": 3,
          "sum": 714
         },
         {
          "Manufacturer": "Overmarine power boats",
          "View_per_listing": 140.4,
          "count": 5,
          "sum": 702
         },
         {
          "Manufacturer": "Bertram Yacht power boats",
          "View_per_listing": 62.9090909091,
          "count": 11,
          "sum": 692
         },
         {
          "Manufacturer": "Ultramar power boats",
          "View_per_listing": 173,
          "count": 4,
          "sum": 692
         },
         {
          "Manufacturer": "Sunreef power boats",
          "View_per_listing": 138.2,
          "count": 5,
          "sum": 691
         },
         {
          "Manufacturer": "Lema power boats",
          "View_per_listing": 138,
          "count": 5,
          "sum": 690
         },
         {
          "Manufacturer": "Birchwood power boats",
          "View_per_listing": 113.8333333333,
          "count": 6,
          "sum": 683
         },
         {
          "Manufacturer": "Brabus power boats",
          "View_per_listing": 169.5,
          "count": 4,
          "sum": 678
         },
         {
          "Manufacturer": "Baja power boats",
          "View_per_listing": 223.6666666667,
          "count": 3,
          "sum": 671
         },
         {
          "Manufacturer": "MCY power boats",
          "View_per_listing": 74.4444444444,
          "count": 9,
          "sum": 670
         },
         {
          "Manufacturer": "Zijlmans power boats",
          "View_per_listing": 111.3333333333,
          "count": 6,
          "sum": 668
         },
         {
          "Manufacturer": "Cramar power boats",
          "View_per_listing": 220.6666666667,
          "count": 3,
          "sum": 662
         },
         {
          "Manufacturer": "Kaiser Bootsmanufaktur power boats",
          "View_per_listing": 220.3333333333,
          "count": 3,
          "sum": 661
         },
         {
          "Manufacturer": "Marine Projects power boats",
          "View_per_listing": 162.75,
          "count": 4,
          "sum": 651
         },
         {
          "Manufacturer": "Maxima power boats",
          "View_per_listing": 216,
          "count": 3,
          "sum": 648
         },
         {
          "Manufacturer": "Tornado power boats",
          "View_per_listing": 92.1428571429,
          "count": 7,
          "sum": 645
         },
         {
          "Manufacturer": "FÃ¼llemann power boats",
          "View_per_listing": 160.25,
          "count": 4,
          "sum": 641
         },
         {
          "Manufacturer": "Selene power boats",
          "View_per_listing": 79.25,
          "count": 8,
          "sum": 634
         },
         {
          "Manufacturer": "Starfisher power boats",
          "View_per_listing": 79.125,
          "count": 8,
          "sum": 633
         },
         {
          "Manufacturer": "EdgeWater power boats",
          "View_per_listing": 157.5,
          "count": 4,
          "sum": 630
         },
         {
          "Manufacturer": "Wim van der Valk power boats",
          "View_per_listing": 125.4,
          "count": 5,
          "sum": 627
         },
         {
          "Manufacturer": "Mirakul power boats",
          "View_per_listing": 208,
          "count": 3,
          "sum": 624
         },
         {
          "Manufacturer": "Swiss Craft power boats",
          "View_per_listing": 204,
          "count": 3,
          "sum": 612
         },
         {
          "Manufacturer": "Arcoa power boats",
          "View_per_listing": 101.8333333333,
          "count": 6,
          "sum": 611
         },
         {
          "Manufacturer": "Safter Marine power boats",
          "View_per_listing": 201.3333333333,
          "count": 3,
          "sum": 604
         },
         {
          "Manufacturer": "Whaly power boats",
          "View_per_listing": 200.6666666667,
          "count": 3,
          "sum": 602
         },
         {
          "Manufacturer": "Polar Boats power boats",
          "View_per_listing": 198.3333333333,
          "count": 3,
          "sum": 595
         },
         {
          "Manufacturer": "Atlantic Marine power boats",
          "View_per_listing": 197.6666666667,
          "count": 3,
          "sum": 593
         },
         {
          "Manufacturer": "Cantieri Nautici Ferrario power boats",
          "View_per_listing": 98,
          "count": 6,
          "sum": 588
         },
         {
          "Manufacturer": "Trimarchi  power boats",
          "View_per_listing": 191.3333333333,
          "count": 3,
          "sum": 574
         },
         {
          "Manufacturer": "Hellwig power boats",
          "View_per_listing": 285.5,
          "count": 2,
          "sum": 571
         },
         {
          "Manufacturer": "Staempfli power boats",
          "View_per_listing": 283,
          "count": 2,
          "sum": 566
         },
         {
          "Manufacturer": "Veha power boats",
          "View_per_listing": 188.6666666667,
          "count": 3,
          "sum": 566
         },
         {
          "Manufacturer": "Bertram power boats",
          "View_per_listing": 80.5714285714,
          "count": 7,
          "sum": 564
         },
         {
          "Manufacturer": "Coronet power boats",
          "View_per_listing": 279.5,
          "count": 2,
          "sum": 559
         },
         {
          "Manufacturer": "Schweizer power boats",
          "View_per_listing": 279,
          "count": 2,
          "sum": 558
         },
         {
          "Manufacturer": "De Groot power boats",
          "View_per_listing": 138.75,
          "count": 4,
          "sum": 555
         },
         {
          "Manufacturer": "Hille power boats",
          "View_per_listing": 181.6666666667,
          "count": 3,
          "sum": 545
         },
         {
          "Manufacturer": "IRON power boats",
          "View_per_listing": 77.7142857143,
          "count": 7,
          "sum": 544
         },
         {
          "Manufacturer": "Scarani power boats",
          "View_per_listing": 269.5,
          "count": 2,
          "sum": 539
         },
         {
          "Manufacturer": "Brizo Yachts power boats",
          "View_per_listing": 107.2,
          "count": 5,
          "sum": 536
         },
         {
          "Manufacturer": "Yaretti power boats",
          "View_per_listing": 107,
          "count": 5,
          "sum": 535
         },
         {
          "Manufacturer": "Primatist power boats",
          "View_per_listing": 88.6666666667,
          "count": 6,
          "sum": 532
         },
         {
          "Manufacturer": "Viking Marin power boats",
          "View_per_listing": 265,
          "count": 2,
          "sum": 530
         },
         {
          "Manufacturer": "Alalunga power boats",
          "View_per_listing": 175,
          "count": 3,
          "sum": 525
         },
         {
          "Manufacturer": "Delphia power boats",
          "View_per_listing": 85.6666666667,
          "count": 6,
          "sum": 514
         },
         {
          "Manufacturer": "Uttern power boats",
          "View_per_listing": 168.6666666667,
          "count": 3,
          "sum": 506
         },
         {
          "Manufacturer": "AICON Yachts power boats",
          "View_per_listing": 99.8,
          "count": 5,
          "sum": 499
         },
         {
          "Manufacturer": "Guy Couach power boats",
          "View_per_listing": 99.2,
          "count": 5,
          "sum": 496
         },
         {
          "Manufacturer": "Coverline power boats",
          "View_per_listing": 164,
          "count": 3,
          "sum": 492
         },
         {
          "Manufacturer": "Nordic power boats",
          "View_per_listing": 244.5,
          "count": 2,
          "sum": 489
         },
         {
          "Manufacturer": "Elegance power boats",
          "View_per_listing": 61.125,
          "count": 8,
          "sum": 489
         },
         {
          "Manufacturer": "Brandsma power boats",
          "View_per_listing": 96.2,
          "count": 5,
          "sum": 481
         },
         {
          "Manufacturer": "Morningstar power boats",
          "View_per_listing": 160,
          "count": 3,
          "sum": 480
         },
         {
          "Manufacturer": "Beekmann power boats",
          "View_per_listing": 240,
          "count": 2,
          "sum": 480
         },
         {
          "Manufacturer": "Gianetti power boats",
          "View_per_listing": 95.4,
          "count": 5,
          "sum": 477
         },
         {
          "Manufacturer": "NUVA Yachts power boats",
          "View_per_listing": 116.5,
          "count": 4,
          "sum": 466
         },
         {
          "Manufacturer": "Vizion power boats",
          "View_per_listing": 91.4,
          "count": 5,
          "sum": 457
         },
         {
          "Manufacturer": "Lund Boats power boats",
          "View_per_listing": 228,
          "count": 2,
          "sum": 456
         },
         {
          "Manufacturer": "Sarins power boats",
          "View_per_listing": 150.6666666667,
          "count": 3,
          "sum": 452
         },
         {
          "Manufacturer": "Cantieri di Sarnico power boats",
          "View_per_listing": 75.3333333333,
          "count": 6,
          "sum": 452
         },
         {
          "Manufacturer": "Stickl power boats",
          "View_per_listing": 112.5,
          "count": 4,
          "sum": 450
         },
         {
          "Manufacturer": "Sarnico power boats",
          "View_per_listing": 89.8,
          "count": 5,
          "sum": 449
         },
         {
          "Manufacturer": "Giudecca power boats",
          "View_per_listing": 223,
          "count": 2,
          "sum": 446
         },
         {
          "Manufacturer": "Mazury power boats",
          "View_per_listing": 222,
          "count": 2,
          "sum": 444
         },
         {
          "Manufacturer": "Seaswirl power boats",
          "View_per_listing": 146.6666666667,
          "count": 3,
          "sum": 440
         },
         {
          "Manufacturer": "Viko power boats",
          "View_per_listing": 217,
          "count": 2,
          "sum": 434
         },
         {
          "Manufacturer": "FFW Sealver power boats",
          "View_per_listing": 216,
          "count": 2,
          "sum": 432
         },
         {
          "Manufacturer": "Pikmeerkruiser power boats",
          "View_per_listing": 86,
          "count": 5,
          "sum": 430
         },
         {
          "Manufacturer": "Gibert Marine power boats",
          "View_per_listing": 214.5,
          "count": 2,
          "sum": 429
         },
         {
          "Manufacturer": "Gillissen power boats",
          "View_per_listing": 105,
          "count": 4,
          "sum": 420
         },
         {
          "Manufacturer": "Moonday power boats",
          "View_per_listing": 59.5714285714,
          "count": 7,
          "sum": 417
         },
         {
          "Manufacturer": "HT Houseboats power boats",
          "View_per_listing": 208,
          "count": 2,
          "sum": 416
         },
         {
          "Manufacturer": "Tecnomarine power boats",
          "View_per_listing": 207,
          "count": 2,
          "sum": 414
         },
         {
          "Manufacturer": "BMA power boats",
          "View_per_listing": 103.25,
          "count": 4,
          "sum": 413
         },
         {
          "Manufacturer": "SAS-Vektor power boats",
          "View_per_listing": 102.75,
          "count": 4,
          "sum": 411
         },
         {
          "Manufacturer": "Funcraft power boats",
          "View_per_listing": 137,
          "count": 3,
          "sum": 411
         },
         {
          "Manufacturer": "Scarab power boats",
          "View_per_listing": 68.5,
          "count": 6,
          "sum": 411
         },
         {
          "Manufacturer": "Europe Marine power boats",
          "View_per_listing": 205,
          "count": 2,
          "sum": 410
         },
         {
          "Manufacturer": "Monte Carlo power boats",
          "View_per_listing": 102.5,
          "count": 4,
          "sum": 410
         },
         {
          "Manufacturer": "Nordson power boats",
          "View_per_listing": 204,
          "count": 2,
          "sum": 408
         },
         {
          "Manufacturer": "Dalla Pieta power boats",
          "View_per_listing": 58.1428571429,
          "count": 7,
          "sum": 407
         },
         {
          "Manufacturer": "Thoma power boats",
          "View_per_listing": 203,
          "count": 2,
          "sum": 406
         },
         {
          "Manufacturer": "Seaway power boats",
          "View_per_listing": 101,
          "count": 4,
          "sum": 404
         },
         {
          "Manufacturer": "Heyday power boats",
          "View_per_listing": 101,
          "count": 4,
          "sum": 404
         },
         {
          "Manufacturer": "Ijlstervlet power boats",
          "View_per_listing": 80.4,
          "count": 5,
          "sum": 402
         },
         {
          "Manufacturer": "Tahoe power boats",
          "View_per_listing": 199.5,
          "count": 2,
          "sum": 399
         },
         {
          "Manufacturer": "Sagemar power boats",
          "View_per_listing": 99.75,
          "count": 4,
          "sum": 399
         },
         {
          "Manufacturer": "Giorgi power boats",
          "View_per_listing": 79.4,
          "count": 5,
          "sum": 397
         },
         {
          "Manufacturer": "Rio Iberica power boats",
          "View_per_listing": 198.5,
          "count": 2,
          "sum": 397
         },
         {
          "Manufacturer": "Ocean Master (US) power boats",
          "View_per_listing": 131.6666666667,
          "count": 3,
          "sum": 395
         },
         {
          "Manufacturer": "Alpa power boats",
          "View_per_listing": 131.3333333333,
          "count": 3,
          "sum": 394
         },
         {
          "Manufacturer": "Fletcher power boats",
          "View_per_listing": 197,
          "count": 2,
          "sum": 394
         },
         {
          "Manufacturer": "Pacific power boats",
          "View_per_listing": 78.6,
          "count": 5,
          "sum": 393
         },
         {
          "Manufacturer": "Albin power boats",
          "View_per_listing": 196,
          "count": 2,
          "sum": 392
         },
         {
          "Manufacturer": "Altair power boats",
          "View_per_listing": 129.3333333333,
          "count": 3,
          "sum": 388
         },
         {
          "Manufacturer": "AW power boats",
          "View_per_listing": 193.5,
          "count": 2,
          "sum": 387
         },
         {
          "Manufacturer": "Tristan power boats",
          "View_per_listing": 193,
          "count": 2,
          "sum": 386
         },
         {
          "Manufacturer": "Thermo Yacht power boats",
          "View_per_listing": 191.5,
          "count": 2,
          "sum": 383
         },
         {
          "Manufacturer": "Idea Marine power boats",
          "View_per_listing": 188.5,
          "count": 2,
          "sum": 377
         },
         {
          "Manufacturer": "Holland Boat power boats",
          "View_per_listing": 187,
          "count": 2,
          "sum": 374
         },
         {
          "Manufacturer": "Nord Star power boats",
          "View_per_listing": 74.6,
          "count": 5,
          "sum": 373
         },
         {
          "Manufacturer": "Heesen Yachts power boats",
          "View_per_listing": 185.5,
          "count": 2,
          "sum": 371
         },
         {
          "Manufacturer": "Ocean Bay power boats",
          "View_per_listing": 184,
          "count": 2,
          "sum": 368
         },
         {
          "Manufacturer": "Delta Powerboats power boats",
          "View_per_listing": 183,
          "count": 2,
          "sum": 366
         },
         {
          "Manufacturer": "Gallart power boats",
          "View_per_listing": 182.5,
          "count": 2,
          "sum": 365
         },
         {
          "Manufacturer": "Remus power boats",
          "View_per_listing": 182,
          "count": 2,
          "sum": 364
         },
         {
          "Manufacturer": "Nordmaster power boats",
          "View_per_listing": 91,
          "count": 4,
          "sum": 364
         },
         {
          "Manufacturer": "Makma power boats",
          "View_per_listing": 120.3333333333,
          "count": 3,
          "sum": 361
         },
         {
          "Manufacturer": "NorthMaster power boats",
          "View_per_listing": 177,
          "count": 2,
          "sum": 354
         },
         {
          "Manufacturer": "Hiltergerke power boats",
          "View_per_listing": 118,
          "count": 3,
          "sum": 354
         },
         {
          "Manufacturer": "Marino power boats",
          "View_per_listing": 176,
          "count": 2,
          "sum": 352
         },
         {
          "Manufacturer": "Sea-Doo power boats",
          "View_per_listing": 175.5,
          "count": 2,
          "sum": 351
         },
         {
          "Manufacturer": "Katwijker power boats",
          "View_per_listing": 116.3333333333,
          "count": 3,
          "sum": 349
         },
         {
          "Manufacturer": "Mira power boats",
          "View_per_listing": 116.3333333333,
          "count": 3,
          "sum": 349
         },
         {
          "Manufacturer": "Doqueve power boats",
          "View_per_listing": 43.25,
          "count": 8,
          "sum": 346
         },
         {
          "Manufacturer": "Abacus power boats",
          "View_per_listing": 86.5,
          "count": 4,
          "sum": 346
         },
         {
          "Manufacturer": "Sensation power boats",
          "View_per_listing": 57.6666666667,
          "count": 6,
          "sum": 346
         },
         {
          "Manufacturer": "Linex power boats",
          "View_per_listing": 114.6666666667,
          "count": 3,
          "sum": 344
         },
         {
          "Manufacturer": "Ibiza Boats power boats",
          "View_per_listing": 172,
          "count": 2,
          "sum": 344
         },
         {
          "Manufacturer": "MBK power boats",
          "View_per_listing": 170.5,
          "count": 2,
          "sum": 341
         },
         {
          "Manufacturer": "Magnum power boats",
          "View_per_listing": 168,
          "count": 2,
          "sum": 336
         },
         {
          "Manufacturer": "Hock power boats",
          "View_per_listing": 83.75,
          "count": 4,
          "sum": 335
         },
         {
          "Manufacturer": "Bryant Boats power boats",
          "View_per_listing": 167,
          "count": 2,
          "sum": 334
         },
         {
          "Manufacturer": "Waterland power boats",
          "View_per_listing": 167,
          "count": 2,
          "sum": 334
         },
         {
          "Manufacturer": "Damor power boats",
          "View_per_listing": 83.25,
          "count": 4,
          "sum": 333
         },
         {
          "Manufacturer": "Aquastar power boats",
          "View_per_listing": 83,
          "count": 4,
          "sum": 332
         },
         {
          "Manufacturer": "Jacabo power boats",
          "View_per_listing": 109.3333333333,
          "count": 3,
          "sum": 328
         },
         {
          "Manufacturer": "Wicabo power boats",
          "View_per_listing": 163.5,
          "count": 2,
          "sum": 327
         },
         {
          "Manufacturer": "Hardy Marine power boats",
          "View_per_listing": 108.3333333333,
          "count": 3,
          "sum": 325
         },
         {
          "Manufacturer": "Invader power boats",
          "View_per_listing": 324,
          "count": 1,
          "sum": 324
         },
         {
          "Manufacturer": "AM Yacht power boats",
          "View_per_listing": 162,
          "count": 2,
          "sum": 324
         },
         {
          "Manufacturer": "Blohm + Voss power boats",
          "View_per_listing": 324,
          "count": 1,
          "sum": 324
         },
         {
          "Manufacturer": "HI-Star power boats",
          "View_per_listing": 323,
          "count": 1,
          "sum": 323
         },
         {
          "Manufacturer": "Kramer power boats",
          "View_per_listing": 160.5,
          "count": 2,
          "sum": 321
         },
         {
          "Manufacturer": "Gouwerok power boats",
          "View_per_listing": 160.5,
          "count": 2,
          "sum": 321
         },
         {
          "Manufacturer": "Pacific Craft power boats",
          "View_per_listing": 80.25,
          "count": 4,
          "sum": 321
         },
         {
          "Manufacturer": "Skibsplast power boats",
          "View_per_listing": 320,
          "count": 1,
          "sum": 320
         },
         {
          "Manufacturer": "Majoni power boats",
          "View_per_listing": 79.5,
          "count": 4,
          "sum": 318
         },
         {
          "Manufacturer": "Jetten power boats",
          "View_per_listing": 105.6666666667,
          "count": 3,
          "sum": 317
         },
         {
          "Manufacturer": "BLUEGAME power boats",
          "View_per_listing": 79.25,
          "count": 4,
          "sum": 317
         },
         {
          "Manufacturer": "Beachcraft power boats",
          "View_per_listing": 158.5,
          "count": 2,
          "sum": 317
         },
         {
          "Manufacturer": "Hellingskip power boats",
          "View_per_listing": 158,
          "count": 2,
          "sum": 316
         },
         {
          "Manufacturer": "Super Kaagkruiser power boats",
          "View_per_listing": 315,
          "count": 1,
          "sum": 315
         },
         {
          "Manufacturer": "Vismara power boats",
          "View_per_listing": 105,
          "count": 3,
          "sum": 315
         },
         {
          "Manufacturer": "2 emme marine power boats",
          "View_per_listing": 314,
          "count": 1,
          "sum": 314
         },
         {
          "Manufacturer": "Malibu power boats",
          "View_per_listing": 314,
          "count": 1,
          "sum": 314
         },
         {
          "Manufacturer": "Admiral power boats",
          "View_per_listing": 157,
          "count": 2,
          "sum": 314
         },
         {
          "Manufacturer": "Pfeil power boats",
          "View_per_listing": 78.25,
          "count": 4,
          "sum": 313
         },
         {
          "Manufacturer": "Sport Craft power boats",
          "View_per_listing": 156,
          "count": 2,
          "sum": 312
         },
         {
          "Manufacturer": "Lunde power boats",
          "View_per_listing": 312,
          "count": 1,
          "sum": 312
         },
         {
          "Manufacturer": "LÃ¼rssen Yachts power boats",
          "View_per_listing": 311,
          "count": 1,
          "sum": 311
         },
         {
          "Manufacturer": "SkilsÃ¶ power boats",
          "View_per_listing": 311,
          "count": 1,
          "sum": 311
         },
         {
          "Manufacturer": "Albemarle power boats",
          "View_per_listing": 62.2,
          "count": 5,
          "sum": 311
         },
         {
          "Manufacturer": "Intrepid power boats",
          "View_per_listing": 155.5,
          "count": 2,
          "sum": 311
         },
         {
          "Manufacturer": "Barkas power boats",
          "View_per_listing": 103,
          "count": 3,
          "sum": 309
         },
         {
          "Manufacturer": "Treffer power boats",
          "View_per_listing": 76.5,
          "count": 4,
          "sum": 306
         },
         {
          "Manufacturer": "Abeking & Rasmussen power boats",
          "View_per_listing": 304,
          "count": 1,
          "sum": 304
         },
         {
          "Manufacturer": "Saphire power boats",
          "View_per_listing": 303,
          "count": 1,
          "sum": 303
         },
         {
          "Manufacturer": "Heinrich power boats",
          "View_per_listing": 149.5,
          "count": 2,
          "sum": 299
         },
         {
          "Manufacturer": "Haines Marine power boats",
          "View_per_listing": 149,
          "count": 2,
          "sum": 298
         },
         {
          "Manufacturer": "Cantieri Navali di Livorno power boats",
          "View_per_listing": 149,
          "count": 2,
          "sum": 298
         },
         {
          "Manufacturer": "Triton power boats",
          "View_per_listing": 149,
          "count": 2,
          "sum": 298
         },
         {
          "Manufacturer": "Prinz power boats",
          "View_per_listing": 99.3333333333,
          "count": 3,
          "sum": 298
         },
         {
          "Manufacturer": "Tuccoli power boats",
          "View_per_listing": 59.6,
          "count": 5,
          "sum": 298
         },
         {
          "Manufacturer": "Minor power boats",
          "View_per_listing": 148,
          "count": 2,
          "sum": 296
         },
         {
          "Manufacturer": "Astor power boats",
          "View_per_listing": 98.3333333333,
          "count": 3,
          "sum": 295
         },
         {
          "Manufacturer": "Babro power boats",
          "View_per_listing": 98.3333333333,
          "count": 3,
          "sum": 295
         },
         {
          "Manufacturer": "Viking (GB) power boats",
          "View_per_listing": 147,
          "count": 2,
          "sum": 294
         },
         {
          "Manufacturer": "Thompson power boats",
          "View_per_listing": 294,
          "count": 1,
          "sum": 294
         },
         {
          "Manufacturer": "Smartboat power boats",
          "View_per_listing": 292,
          "count": 1,
          "sum": 292
         },
         {
          "Manufacturer": "Bege power boats",
          "View_per_listing": 97,
          "count": 3,
          "sum": 291
         },
         {
          "Manufacturer": "Century power boats",
          "View_per_listing": 145,
          "count": 2,
          "sum": 290
         },
         {
          "Manufacturer": "Comar power boats",
          "View_per_listing": 145,
          "count": 2,
          "sum": 290
         },
         {
          "Manufacturer": "Viksund power boats",
          "View_per_listing": 290,
          "count": 1,
          "sum": 290
         },
         {
          "Manufacturer": "Dawncraft power boats",
          "View_per_listing": 289,
          "count": 1,
          "sum": 289
         },
         {
          "Manufacturer": "Reinell power boats",
          "View_per_listing": 288,
          "count": 1,
          "sum": 288
         },
         {
          "Manufacturer": "Stama power boats",
          "View_per_listing": 143.5,
          "count": 2,
          "sum": 287
         },
         {
          "Manufacturer": "Romar power boats",
          "View_per_listing": 285,
          "count": 1,
          "sum": 285
         },
         {
          "Manufacturer": "Atlantic Motor Yachts power boats",
          "View_per_listing": 71.25,
          "count": 4,
          "sum": 285
         },
         {
          "Manufacturer": "Skagerrak power boats",
          "View_per_listing": 94.6666666667,
          "count": 3,
          "sum": 284
         },
         {
          "Manufacturer": "Schneiter power boats",
          "View_per_listing": 284,
          "count": 1,
          "sum": 284
         },
         {
          "Manufacturer": "Costruzioni Navali Srl power boats",
          "View_per_listing": 142,
          "count": 2,
          "sum": 284
         },
         {
          "Manufacturer": "Kiel Classic power boats",
          "View_per_listing": 283,
          "count": 1,
          "sum": 283
         },
         {
          "Manufacturer": "Q-Yachts power boats",
          "View_per_listing": 280,
          "count": 1,
          "sum": 280
         },
         {
          "Manufacturer": "Antaris power boats",
          "View_per_listing": 69.75,
          "count": 4,
          "sum": 279
         },
         {
          "Manufacturer": "Super Lauwersmeer power boats",
          "View_per_listing": 139.5,
          "count": 2,
          "sum": 279
         },
         {
          "Manufacturer": "Horizon Yacht power boats",
          "View_per_listing": 139,
          "count": 2,
          "sum": 278
         },
         {
          "Manufacturer": "La Mare power boats",
          "View_per_listing": 138,
          "count": 2,
          "sum": 276
         },
         {
          "Manufacturer": "Grginic power boats",
          "View_per_listing": 137.5,
          "count": 2,
          "sum": 275
         },
         {
          "Manufacturer": "Off-Course power boats",
          "View_per_listing": 274,
          "count": 1,
          "sum": 274
         },
         {
          "Manufacturer": "Nireus power boats",
          "View_per_listing": 274,
          "count": 1,
          "sum": 274
         },
         {
          "Manufacturer": "Yacht Service SP. z o.o.  power boats",
          "View_per_listing": 273,
          "count": 1,
          "sum": 273
         },
         {
          "Manufacturer": "Marino Costruzioni Nautiche power boats",
          "View_per_listing": 273,
          "count": 1,
          "sum": 273
         },
         {
          "Manufacturer": "Tresfjord power boats",
          "View_per_listing": 272,
          "count": 1,
          "sum": 272
         },
         {
          "Manufacturer": "Northshore Yachts power boats",
          "View_per_listing": 270,
          "count": 1,
          "sum": 270
         },
         {
          "Manufacturer": "Grady White Boats power boats",
          "View_per_listing": 89.6666666667,
          "count": 3,
          "sum": 269
         },
         {
          "Manufacturer": "Flying Shark power boats",
          "View_per_listing": 267,
          "count": 1,
          "sum": 267
         },
         {
          "Manufacturer": "Albatro power boats",
          "View_per_listing": 88.6666666667,
          "count": 3,
          "sum": 266
         },
         {
          "Manufacturer": "Gropp power boats",
          "View_per_listing": 132.5,
          "count": 2,
          "sum": 265
         },
         {
          "Manufacturer": "Futuro power boats",
          "View_per_listing": 132.5,
          "count": 2,
          "sum": 265
         },
         {
          "Manufacturer": "MP Watersport power boats",
          "View_per_listing": 131.5,
          "count": 2,
          "sum": 263
         },
         {
          "Manufacturer": "Titanium power boats",
          "View_per_listing": 263,
          "count": 1,
          "sum": 263
         },
         {
          "Manufacturer": "Portofino Marine power boats",
          "View_per_listing": 52.4,
          "count": 5,
          "sum": 262
         },
         {
          "Manufacturer": "Tauscheck power boats",
          "View_per_listing": 260,
          "count": 1,
          "sum": 260
         },
         {
          "Manufacturer": "Neptunus Yachts power boats",
          "View_per_listing": 130,
          "count": 2,
          "sum": 260
         },
         {
          "Manufacturer": "AW Yachts power boats",
          "View_per_listing": 258,
          "count": 1,
          "sum": 258
         },
         {
          "Manufacturer": "HervÃ© power boats",
          "View_per_listing": 257,
          "count": 1,
          "sum": 257
         },
         {
          "Manufacturer": "ZAR Formenti power boats",
          "View_per_listing": 128,
          "count": 2,
          "sum": 256
         },
         {
          "Manufacturer": "Belliure power boats",
          "View_per_listing": 64,
          "count": 4,
          "sum": 256
         },
         {
          "Manufacturer": "Loon power boats",
          "View_per_listing": 127.5,
          "count": 2,
          "sum": 255
         },
         {
          "Manufacturer": "Nor-Dan power boats",
          "View_per_listing": 254,
          "count": 1,
          "sum": 254
         },
         {
          "Manufacturer": "Hoekstra power boats",
          "View_per_listing": 253,
          "count": 1,
          "sum": 253
         },
         {
          "Manufacturer": "Blumar power boats",
          "View_per_listing": 253,
          "count": 1,
          "sum": 253
         },
         {
          "Manufacturer": "Atlanta power boats",
          "View_per_listing": 125.5,
          "count": 2,
          "sum": 251
         },
         {
          "Manufacturer": "Z-Yacht power boats",
          "View_per_listing": 251,
          "count": 1,
          "sum": 251
         },
         {
          "Manufacturer": "Sasga Yachts power boats",
          "View_per_listing": 125.5,
          "count": 2,
          "sum": 251
         },
         {
          "Manufacturer": "Celebrity power boats",
          "View_per_listing": 251,
          "count": 1,
          "sum": 251
         },
         {
          "Manufacturer": "Spertini power boats",
          "View_per_listing": 124.5,
          "count": 2,
          "sum": 249
         },
         {
          "Manufacturer": "Zodiac power boats",
          "View_per_listing": 248,
          "count": 1,
          "sum": 248
         },
         {
          "Manufacturer": "Marian power boats",
          "View_per_listing": 248,
          "count": 1,
          "sum": 248
         },
         {
          "Manufacturer": "Faul power boats",
          "View_per_listing": 247,
          "count": 1,
          "sum": 247
         },
         {
          "Manufacturer": "WeiBo power boats",
          "View_per_listing": 123.5,
          "count": 2,
          "sum": 247
         },
         {
          "Manufacturer": "Mariah power boats",
          "View_per_listing": 247,
          "count": 1,
          "sum": 247
         },
         {
          "Manufacturer": "Chung Hwa power boats",
          "View_per_listing": 82,
          "count": 3,
          "sum": 246
         },
         {
          "Manufacturer": "Arkos power boats",
          "View_per_listing": 81.6666666667,
          "count": 3,
          "sum": 245
         },
         {
          "Manufacturer": "Hitzler-Werft Regensburg power boats",
          "View_per_listing": 245,
          "count": 1,
          "sum": 245
         },
         {
          "Manufacturer": "Poca power boats",
          "View_per_listing": 245,
          "count": 1,
          "sum": 245
         },
         {
          "Manufacturer": "Ãchsner power boats",
          "View_per_listing": 244,
          "count": 1,
          "sum": 244
         },
         {
          "Manufacturer": "Motocraft power boats",
          "View_per_listing": 243,
          "count": 1,
          "sum": 243
         },
         {
          "Manufacturer": "Ocea power boats",
          "View_per_listing": 243,
          "count": 1,
          "sum": 243
         },
         {
          "Manufacturer": "Ernst Riss  power boats",
          "View_per_listing": 242,
          "count": 1,
          "sum": 242
         },
         {
          "Manufacturer": "Piculjan Marine power boats",
          "View_per_listing": 80.6666666667,
          "count": 3,
          "sum": 242
         },
         {
          "Manufacturer": "Pro-Line power boats",
          "View_per_listing": 40,
          "count": 6,
          "sum": 240
         },
         {
          "Manufacturer": "Symbol Yachts power boats",
          "View_per_listing": 120,
          "count": 2,
          "sum": 240
         },
         {
          "Manufacturer": "Bienchen  power boats",
          "View_per_listing": 238,
          "count": 1,
          "sum": 238
         },
         {
          "Manufacturer": "Steiner power boats",
          "View_per_listing": 238,
          "count": 1,
          "sum": 238
         },
         {
          "Manufacturer": "Gulf Craft power boats",
          "View_per_listing": 118.5,
          "count": 2,
          "sum": 237
         },
         {
          "Manufacturer": "Alfamarine power boats",
          "View_per_listing": 79,
          "count": 3,
          "sum": 237
         },
         {
          "Manufacturer": "Yamaha power boats",
          "View_per_listing": 118.5,
          "count": 2,
          "sum": 237
         },
         {
          "Manufacturer": "Feltz power boats",
          "View_per_listing": 236,
          "count": 1,
          "sum": 236
         },
         {
          "Manufacturer": "Orca power boats",
          "View_per_listing": 236,
          "count": 1,
          "sum": 236
         },
         {
          "Manufacturer": "Mery Nautic power boats",
          "View_per_listing": 118,
          "count": 2,
          "sum": 236
         },
         {
          "Manufacturer": "Schlosswerft power boats",
          "View_per_listing": 235,
          "count": 1,
          "sum": 235
         },
         {
          "Manufacturer": "Innovazione&Progetti power boats",
          "View_per_listing": 78.3333333333,
          "count": 3,
          "sum": 235
         },
         {
          "Manufacturer": "Bootbau Frei power boats",
          "View_per_listing": 234,
          "count": 1,
          "sum": 234
         },
         {
          "Manufacturer": "Marquis power boats",
          "View_per_listing": 58.25,
          "count": 4,
          "sum": 233
         },
         {
          "Manufacturer": "De Wiel power boats",
          "View_per_listing": 233,
          "count": 1,
          "sum": 233
         },
         {
          "Manufacturer": "HoWa power boats",
          "View_per_listing": 233,
          "count": 1,
          "sum": 233
         },
         {
          "Manufacturer": "Bond Yachts power boats",
          "View_per_listing": 233,
          "count": 1,
          "sum": 233
         },
         {
          "Manufacturer": "C.N. Tigullio power boats",
          "View_per_listing": 232,
          "count": 1,
          "sum": 232
         },
         {
          "Manufacturer": "Starweld power boats",
          "View_per_listing": 229,
          "count": 1,
          "sum": 229
         },
         {
          "Manufacturer": "Ecoline power boats",
          "View_per_listing": 114,
          "count": 2,
          "sum": 228
         },
         {
          "Manufacturer": "Tony Giugliano power boats",
          "View_per_listing": 227,
          "count": 1,
          "sum": 227
         },
         {
          "Manufacturer": "Rigiflex power boats",
          "View_per_listing": 226,
          "count": 1,
          "sum": 226
         },
         {
          "Manufacturer": "Westwind power boats",
          "View_per_listing": 225,
          "count": 1,
          "sum": 225
         },
         {
          "Manufacturer": "Pantera power boats",
          "View_per_listing": 222,
          "count": 1,
          "sum": 222
         },
         {
          "Manufacturer": "Finnlineboats power boats",
          "View_per_listing": 222,
          "count": 1,
          "sum": 222
         },
         {
          "Manufacturer": "White Shark power boats",
          "View_per_listing": 110.5,
          "count": 2,
          "sum": 221
         },
         {
          "Manufacturer": "Salmeri Boote power boats",
          "View_per_listing": 221,
          "count": 1,
          "sum": 221
         },
         {
          "Manufacturer": "Donzi power boats",
          "View_per_listing": 220,
          "count": 1,
          "sum": 220
         },
         {
          "Manufacturer": "Starcraft power boats",
          "View_per_listing": 109.5,
          "count": 2,
          "sum": 219
         },
         {
          "Manufacturer": "Monachus power boats",
          "View_per_listing": 109,
          "count": 2,
          "sum": 218
         },
         {
          "Manufacturer": "Lagoon power boats",
          "View_per_listing": 72.6666666667,
          "count": 3,
          "sum": 218
         },
         {
          "Manufacturer": "Viko Yachts power boats",
          "View_per_listing": 218,
          "count": 1,
          "sum": 218
         },
         {
          "Manufacturer": "Agder power boats",
          "View_per_listing": 217,
          "count": 1,
          "sum": 217
         },
         {
          "Manufacturer": "Overblue power boats",
          "View_per_listing": 108.5,
          "count": 2,
          "sum": 217
         },
         {
          "Manufacturer": "Viknes power boats",
          "View_per_listing": 108.5,
          "count": 2,
          "sum": 217
         },
         {
          "Manufacturer": "Armee Suisse power boats",
          "View_per_listing": 217,
          "count": 1,
          "sum": 217
         },
         {
          "Manufacturer": "Fiberline power boats",
          "View_per_listing": 72,
          "count": 3,
          "sum": 216
         },
         {
          "Manufacturer": "Axis power boats",
          "View_per_listing": 216,
          "count": 1,
          "sum": 216
         },
         {
          "Manufacturer": "Nicols power boats",
          "View_per_listing": 108,
          "count": 2,
          "sum": 216
         },
         {
          "Manufacturer": "Moonen power boats",
          "View_per_listing": 108,
          "count": 2,
          "sum": 216
         },
         {
          "Manufacturer": "Hustler power boats",
          "View_per_listing": 107.5,
          "count": 2,
          "sum": 215
         },
         {
          "Manufacturer": "Polar power boats",
          "View_per_listing": 106.5,
          "count": 2,
          "sum": 213
         },
         {
          "Manufacturer": "ReLine power boats",
          "View_per_listing": 53.25,
          "count": 4,
          "sum": 213
         },
         {
          "Manufacturer": "Kimple power boats",
          "View_per_listing": 106,
          "count": 2,
          "sum": 212
         },
         {
          "Manufacturer": "ST power boats",
          "View_per_listing": 53,
          "count": 4,
          "sum": 212
         },
         {
          "Manufacturer": "Biot power boats",
          "View_per_listing": 212,
          "count": 1,
          "sum": 212
         },
         {
          "Manufacturer": "Cap Ferret power boats",
          "View_per_listing": 210,
          "count": 1,
          "sum": 210
         },
         {
          "Manufacturer": "Dufour power boats",
          "View_per_listing": 104.5,
          "count": 2,
          "sum": 209
         },
         {
          "Manufacturer": "BLULINE (IT) power boats",
          "View_per_listing": 208,
          "count": 1,
          "sum": 208
         },
         {
          "Manufacturer": "Poldijk Jachtbouw B.V. power boats",
          "View_per_listing": 208,
          "count": 1,
          "sum": 208
         },
         {
          "Manufacturer": "Silverline power boats",
          "View_per_listing": 207,
          "count": 1,
          "sum": 207
         },
         {
          "Manufacturer": "Italmarine power boats",
          "View_per_listing": 205,
          "count": 1,
          "sum": 205
         },
         {
          "Manufacturer": "Checkmate power boats",
          "View_per_listing": 204,
          "count": 1,
          "sum": 204
         },
         {
          "Manufacturer": "Nussbaumer power boats",
          "View_per_listing": 203,
          "count": 1,
          "sum": 203
         },
         {
          "Manufacturer": "Perini Navi Spa power boats",
          "View_per_listing": 203,
          "count": 1,
          "sum": 203
         },
         {
          "Manufacturer": "Kempala (NL) power boats",
          "View_per_listing": 202,
          "count": 1,
          "sum": 202
         },
         {
          "Manufacturer": "Doggersbank power boats",
          "View_per_listing": 67.3333333333,
          "count": 3,
          "sum": 202
         },
         {
          "Manufacturer": "BSC power boats",
          "View_per_listing": 201,
          "count": 1,
          "sum": 201
         },
         {
          "Manufacturer": "Gagliotta power boats",
          "View_per_listing": 50.25,
          "count": 4,
          "sum": 201
         },
         {
          "Manufacturer": "Milan  power boats",
          "View_per_listing": 201,
          "count": 1,
          "sum": 201
         },
         {
          "Manufacturer": "Moonraker power boats",
          "View_per_listing": 200,
          "count": 1,
          "sum": 200
         },
         {
          "Manufacturer": "Anytec Boats power boats",
          "View_per_listing": 200,
          "count": 1,
          "sum": 200
         },
         {
          "Manufacturer": "Pegazus power boats",
          "View_per_listing": 200,
          "count": 1,
          "sum": 200
         },
         {
          "Manufacturer": "Cantieri Nautici Solcio power boats",
          "View_per_listing": 200,
          "count": 1,
          "sum": 200
         },
         {
          "Manufacturer": "Scout Boats power boats",
          "View_per_listing": 199,
          "count": 1,
          "sum": 199
         },
         {
          "Manufacturer": "LÃ¼tje power boats",
          "View_per_listing": 198,
          "count": 1,
          "sum": 198
         },
         {
          "Manufacturer": "Stilecatalini power boats",
          "View_per_listing": 99,
          "count": 2,
          "sum": 198
         },
         {
          "Manufacturer": "American Marine power boats",
          "View_per_listing": 198,
          "count": 1,
          "sum": 198
         },
         {
          "Manufacturer": "ERC power boats",
          "View_per_listing": 198,
          "count": 1,
          "sum": 198
         },
         {
          "Manufacturer": "Richard Dunston power boats",
          "View_per_listing": 197,
          "count": 1,
          "sum": 197
         },
         {
          "Manufacturer": "Hooveld power boats",
          "View_per_listing": 98.5,
          "count": 2,
          "sum": 197
         },
         {
          "Manufacturer": "Rijo Kruiser power boats",
          "View_per_listing": 197,
          "count": 1,
          "sum": 197
         },
         {
          "Manufacturer": "Motomar power boats",
          "View_per_listing": 49.25,
          "count": 4,
          "sum": 197
         },
         {
          "Manufacturer": "Koopmans power boats",
          "View_per_listing": 98,
          "count": 2,
          "sum": 196
         },
         {
          "Manufacturer": "Rayglass power boats",
          "View_per_listing": 195,
          "count": 1,
          "sum": 195
         },
         {
          "Manufacturer": "Trophy power boats",
          "View_per_listing": 195,
          "count": 1,
          "sum": 195
         },
         {
          "Manufacturer": "Arp-Werft  power boats",
          "View_per_listing": 194,
          "count": 1,
          "sum": 194
         },
         {
          "Manufacturer": "Johnson Yachts power boats",
          "View_per_listing": 194,
          "count": 1,
          "sum": 194
         },
         {
          "Manufacturer": "Maril power boats",
          "View_per_listing": 96.5,
          "count": 2,
          "sum": 193
         },
         {
          "Manufacturer": "Marieholm power boats",
          "View_per_listing": 192,
          "count": 1,
          "sum": 192
         },
         {
          "Manufacturer": "Fountain power boats",
          "View_per_listing": 192,
          "count": 1,
          "sum": 192
         },
         {
          "Manufacturer": "Sylvan Marine power boats",
          "View_per_listing": 190,
          "count": 1,
          "sum": 190
         },
         {
          "Manufacturer": "Tryvia power boats",
          "View_per_listing": 94.5,
          "count": 2,
          "sum": 189
         },
         {
          "Manufacturer": "Numarine power boats",
          "View_per_listing": 94.5,
          "count": 2,
          "sum": 189
         },
         {
          "Manufacturer": "Nautica Esposito power boats",
          "View_per_listing": 63,
          "count": 3,
          "sum": 189
         },
         {
          "Manufacturer": "Yachting France power boats",
          "View_per_listing": 189,
          "count": 1,
          "sum": 189
         },
         {
          "Manufacturer": "Falcon Yachts power boats",
          "View_per_listing": 94,
          "count": 2,
          "sum": 188
         },
         {
          "Manufacturer": "Oost power boats",
          "View_per_listing": 187,
          "count": 1,
          "sum": 187
         },
         {
          "Manufacturer": "KaasbÃ¸ll power boats",
          "View_per_listing": 187,
          "count": 1,
          "sum": 187
         },
         {
          "Manufacturer": "Kirie power boats",
          "View_per_listing": 185,
          "count": 1,
          "sum": 185
         },
         {
          "Manufacturer": "Robalo power boats",
          "View_per_listing": 61.6666666667,
          "count": 3,
          "sum": 185
         },
         {
          "Manufacturer": "de Ruiter power boats",
          "View_per_listing": 92.5,
          "count": 2,
          "sum": 185
         },
         {
          "Manufacturer": "Cigala & Bertinetti power boats",
          "View_per_listing": 185,
          "count": 1,
          "sum": 185
         },
         {
          "Manufacturer": "Rijnkruiser power boats",
          "View_per_listing": 184,
          "count": 1,
          "sum": 184
         },
         {
          "Manufacturer": "Vacance power boats",
          "View_per_listing": 61,
          "count": 3,
          "sum": 183
         },
         {
          "Manufacturer": "Brig power boats",
          "View_per_listing": 183,
          "count": 1,
          "sum": 183
         },
         {
          "Manufacturer": "Ocean Alexander power boats",
          "View_per_listing": 91,
          "count": 2,
          "sum": 182
         },
         {
          "Manufacturer": "Leidi power boats",
          "View_per_listing": 182,
          "count": 1,
          "sum": 182
         },
         {
          "Manufacturer": "Egon Bredgaard power boats",
          "View_per_listing": 181,
          "count": 1,
          "sum": 181
         },
         {
          "Manufacturer": "SAY power boats",
          "View_per_listing": 59.6666666667,
          "count": 3,
          "sum": 179
         },
         {
          "Manufacturer": "Tjeukemer power boats",
          "View_per_listing": 179,
          "count": 1,
          "sum": 179
         },
         {
          "Manufacturer": "Garin power boats",
          "View_per_listing": 89,
          "count": 2,
          "sum": 178
         },
         {
          "Manufacturer": "Riva Bertram power boats",
          "View_per_listing": 178,
          "count": 1,
          "sum": 178
         },
         {
          "Manufacturer": "Holland StahlverdrÃ¤nger power boats",
          "View_per_listing": 177,
          "count": 1,
          "sum": 177
         },
         {
          "Manufacturer": "Walser power boats",
          "View_per_listing": 174,
          "count": 1,
          "sum": 174
         },
         {
          "Manufacturer": "Schachner power boats",
          "View_per_listing": 174,
          "count": 1,
          "sum": 174
         },
         {
          "Manufacturer": "Hemiksem power boats",
          "View_per_listing": 174,
          "count": 1,
          "sum": 174
         },
         {
          "Manufacturer": "Janmor power boats",
          "View_per_listing": 173,
          "count": 1,
          "sum": 173
         },
         {
          "Manufacturer": "GioMare power boats",
          "View_per_listing": 172,
          "count": 1,
          "sum": 172
         },
         {
          "Manufacturer": "Waltjen power boats",
          "View_per_listing": 171,
          "count": 1,
          "sum": 171
         },
         {
          "Manufacturer": "Johnson power boats",
          "View_per_listing": 84.5,
          "count": 2,
          "sum": 169
         },
         {
          "Manufacturer": "Seacode power boats",
          "View_per_listing": 169,
          "count": 1,
          "sum": 169
         },
         {
          "Manufacturer": "Permare power boats",
          "View_per_listing": 56.3333333333,
          "count": 3,
          "sum": 169
         },
         {
          "Manufacturer": "Marine Pro power boats",
          "View_per_listing": 169,
          "count": 1,
          "sum": 169
         },
         {
          "Manufacturer": "Filippetti power boats",
          "View_per_listing": 42,
          "count": 4,
          "sum": 168
         },
         {
          "Manufacturer": "Adec power boats",
          "View_per_listing": 168,
          "count": 1,
          "sum": 168
         },
         {
          "Manufacturer": "Ancora power boats",
          "View_per_listing": 167,
          "count": 1,
          "sum": 167
         },
         {
          "Manufacturer": "Escape Sloepen power boats",
          "View_per_listing": 166,
          "count": 1,
          "sum": 166
         },
         {
          "Manufacturer": "Mainship power boats",
          "View_per_listing": 82.5,
          "count": 2,
          "sum": 165
         },
         {
          "Manufacturer": "Compromis power boats",
          "View_per_listing": 165,
          "count": 1,
          "sum": 165
         },
         {
          "Manufacturer": "Sunbird power boats",
          "View_per_listing": 82.5,
          "count": 2,
          "sum": 165
         },
         {
          "Manufacturer": "Argo power boats",
          "View_per_listing": 82.5,
          "count": 2,
          "sum": 165
         },
         {
          "Manufacturer": "Kempers power boats",
          "View_per_listing": 164,
          "count": 1,
          "sum": 164
         },
         {
          "Manufacturer": "Cascaruda power boats",
          "View_per_listing": 164,
          "count": 1,
          "sum": 164
         },
         {
          "Manufacturer": "Amer power boats",
          "View_per_listing": 82,
          "count": 2,
          "sum": 164
         },
         {
          "Manufacturer": "Hanto power boats",
          "View_per_listing": 164,
          "count": 1,
          "sum": 164
         },
         {
          "Manufacturer": "Calcagno power boats",
          "View_per_listing": 163,
          "count": 1,
          "sum": 163
         },
         {
          "Manufacturer": "Amberg power boats",
          "View_per_listing": 81.5,
          "count": 2,
          "sum": 163
         },
         {
          "Manufacturer": "Teltow Werft power boats",
          "View_per_listing": 163,
          "count": 1,
          "sum": 163
         },
         {
          "Manufacturer": "Winga power boats",
          "View_per_listing": 162,
          "count": 1,
          "sum": 162
         },
         {
          "Manufacturer": "Cox Marine power boats",
          "View_per_listing": 162,
          "count": 1,
          "sum": 162
         },
         {
          "Manufacturer": "Suncamper power boats",
          "View_per_listing": 162,
          "count": 1,
          "sum": 162
         },
         {
          "Manufacturer": "Numo power boats",
          "View_per_listing": 161,
          "count": 1,
          "sum": 161
         },
         {
          "Manufacturer": "Bucher power boats",
          "View_per_listing": 160,
          "count": 1,
          "sum": 160
         },
         {
          "Manufacturer": "Statement Marine power boats",
          "View_per_listing": 159,
          "count": 1,
          "sum": 159
         },
         {
          "Manufacturer": "Cobra Yachts power boats",
          "View_per_listing": 159,
          "count": 1,
          "sum": 159
         },
         {
          "Manufacturer": "Eurobanker power boats",
          "View_per_listing": 79.5,
          "count": 2,
          "sum": 159
         },
         {
          "Manufacturer": "TigÃ© power boats",
          "View_per_listing": 158,
          "count": 1,
          "sum": 158
         },
         {
          "Manufacturer": "Hans A. Deerberg power boats",
          "View_per_listing": 158,
          "count": 1,
          "sum": 158
         },
         {
          "Manufacturer": "Doerak Sneek power boats",
          "View_per_listing": 157,
          "count": 1,
          "sum": 157
         },
         {
          "Manufacturer": "Bimax power boats",
          "View_per_listing": 78.5,
          "count": 2,
          "sum": 157
         },
         {
          "Manufacturer": "Euroship power boats",
          "View_per_listing": 78.5,
          "count": 2,
          "sum": 157
         },
         {
          "Manufacturer": "Palmer Johnson power boats",
          "View_per_listing": 157,
          "count": 1,
          "sum": 157
         },
         {
          "Manufacturer": "SACS power boats",
          "View_per_listing": 157,
          "count": 1,
          "sum": 157
         },
         {
          "Manufacturer": "Waddenkruiser power boats",
          "View_per_listing": 156,
          "count": 1,
          "sum": 156
         },
         {
          "Manufacturer": "Adventure power boats",
          "View_per_listing": 155,
          "count": 1,
          "sum": 155
         },
         {
          "Manufacturer": "Di Donna power boats",
          "View_per_listing": 38.75,
          "count": 4,
          "sum": 155
         },
         {
          "Manufacturer": "Coaster power boats",
          "View_per_listing": 155,
          "count": 1,
          "sum": 155
         },
         {
          "Manufacturer": "Blu Martin power boats",
          "View_per_listing": 77,
          "count": 2,
          "sum": 154
         },
         {
          "Manufacturer": "Terra Nauta power boats",
          "View_per_listing": 77,
          "count": 2,
          "sum": 154
         },
         {
          "Manufacturer": "Couach power boats",
          "View_per_listing": 153,
          "count": 1,
          "sum": 153
         },
         {
          "Manufacturer": "Egemar power boats",
          "View_per_listing": 76,
          "count": 2,
          "sum": 152
         },
         {
          "Manufacturer": "Bering Yachts power boats",
          "View_per_listing": 152,
          "count": 1,
          "sum": 152
         },
         {
          "Manufacturer": "Zetacraft power boats",
          "View_per_listing": 152,
          "count": 1,
          "sum": 152
         },
         {
          "Manufacturer": "Fratelli Aprea power boats",
          "View_per_listing": 76,
          "count": 2,
          "sum": 152
         },
         {
          "Manufacturer": "Ala Blu power boats",
          "View_per_listing": 50.6666666667,
          "count": 3,
          "sum": 152
         },
         {
          "Manufacturer": "Bugari power boats",
          "View_per_listing": 75.5,
          "count": 2,
          "sum": 151
         },
         {
          "Manufacturer": "Aquabat power boats",
          "View_per_listing": 151,
          "count": 1,
          "sum": 151
         },
         {
          "Manufacturer": "Marina Brodersby power boats",
          "View_per_listing": 75.5,
          "count": 2,
          "sum": 151
         },
         {
          "Manufacturer": "Seagull power boats",
          "View_per_listing": 151,
          "count": 1,
          "sum": 151
         },
         {
          "Manufacturer": "Nor Star power boats",
          "View_per_listing": 148,
          "count": 1,
          "sum": 148
         },
         {
          "Manufacturer": "San Remo power boats",
          "View_per_listing": 74,
          "count": 2,
          "sum": 148
         },
         {
          "Manufacturer": "Scanner power boats",
          "View_per_listing": 73,
          "count": 2,
          "sum": 146
         },
         {
          "Manufacturer": "Witti power boats",
          "View_per_listing": 146,
          "count": 1,
          "sum": 146
         },
         {
          "Manufacturer": "Rancraft power boats",
          "View_per_listing": 146,
          "count": 1,
          "sum": 146
         },
         {
          "Manufacturer": "Lex Boats power boats",
          "View_per_listing": 146,
          "count": 1,
          "sum": 146
         },
         {
          "Manufacturer": "Rohn power boats",
          "View_per_listing": 146,
          "count": 1,
          "sum": 146
         },
         {
          "Manufacturer": "Platinum power boats",
          "View_per_listing": 145,
          "count": 1,
          "sum": 145
         },
         {
          "Manufacturer": "J2J Service power boats",
          "View_per_listing": 145,
          "count": 1,
          "sum": 145
         },
         {
          "Manufacturer": "Crestliner power boats",
          "View_per_listing": 144,
          "count": 1,
          "sum": 144
         },
         {
          "Manufacturer": "Slepsk power boats",
          "View_per_listing": 144,
          "count": 1,
          "sum": 144
         },
         {
          "Manufacturer": "Fibramar power boats",
          "View_per_listing": 144,
          "count": 1,
          "sum": 144
         },
         {
          "Manufacturer": "Valiant power boats",
          "View_per_listing": 144,
          "count": 1,
          "sum": 144
         },
         {
          "Manufacturer": "BM Nautica SRL power boats",
          "View_per_listing": 144,
          "count": 1,
          "sum": 144
         },
         {
          "Manufacturer": "Ten Broeke power boats",
          "View_per_listing": 144,
          "count": 1,
          "sum": 144
         },
         {
          "Manufacturer": "Piantoni power boats",
          "View_per_listing": 143,
          "count": 1,
          "sum": 143
         },
         {
          "Manufacturer": "ARS Mare power boats",
          "View_per_listing": 71.5,
          "count": 2,
          "sum": 143
         },
         {
          "Manufacturer": "Blom power boats",
          "View_per_listing": 142,
          "count": 1,
          "sum": 142
         },
         {
          "Manufacturer": "Myabca power boats",
          "View_per_listing": 142,
          "count": 1,
          "sum": 142
         },
         {
          "Manufacturer": "Ses Yachts power boats",
          "View_per_listing": 141,
          "count": 1,
          "sum": 141
         },
         {
          "Manufacturer": "Bombardier power boats",
          "View_per_listing": 141,
          "count": 1,
          "sum": 141
         },
         {
          "Manufacturer": "Klase A power boats",
          "View_per_listing": 141,
          "count": 1,
          "sum": 141
         },
         {
          "Manufacturer": "Skilso power boats",
          "View_per_listing": 141,
          "count": 1,
          "sum": 141
         },
         {
          "Manufacturer": "ISA Yachts power boats",
          "View_per_listing": 140,
          "count": 1,
          "sum": 140
         },
         {
          "Manufacturer": "Pearl power boats",
          "View_per_listing": 70,
          "count": 2,
          "sum": 140
         },
         {
          "Manufacturer": "Formula Cruisers power boats",
          "View_per_listing": 138,
          "count": 1,
          "sum": 138
         },
         {
          "Manufacturer": "Shiren power boats",
          "View_per_listing": 69,
          "count": 2,
          "sum": 138
         },
         {
          "Manufacturer": "Tracker Marine power boats",
          "View_per_listing": 137,
          "count": 1,
          "sum": 137
         },
         {
          "Manufacturer": "Acroplast power boats",
          "View_per_listing": 137,
          "count": 1,
          "sum": 137
         },
         {
          "Manufacturer": "Magic Yachts power boats",
          "View_per_listing": 137,
          "count": 1,
          "sum": 137
         },
         {
          "Manufacturer": "Haines power boats",
          "View_per_listing": 68,
          "count": 2,
          "sum": 136
         },
         {
          "Manufacturer": "Adagio Yachts power boats",
          "View_per_listing": 67.5,
          "count": 2,
          "sum": 135
         },
         {
          "Manufacturer": "Cabo power boats",
          "View_per_listing": 44.3333333333,
          "count": 3,
          "sum": 133
         },
         {
          "Manufacturer": "Ibis power boats",
          "View_per_listing": 133,
          "count": 1,
          "sum": 133
         },
         {
          "Manufacturer": "Curvelle power boats",
          "View_per_listing": 133,
          "count": 1,
          "sum": 133
         },
         {
          "Manufacturer": "Privateer power boats",
          "View_per_listing": 66,
          "count": 2,
          "sum": 132
         },
         {
          "Manufacturer": "Bluline power boats",
          "View_per_listing": 132,
          "count": 1,
          "sum": 132
         },
         {
          "Manufacturer": "Cantiere delle Marche power boats",
          "View_per_listing": 132,
          "count": 1,
          "sum": 132
         },
         {
          "Manufacturer": "Colvic power boats",
          "View_per_listing": 131,
          "count": 1,
          "sum": 131
         },
         {
          "Manufacturer": "West Bay power boats",
          "View_per_listing": 131,
          "count": 1,
          "sum": 131
         },
         {
          "Manufacturer": "Marhen power boats",
          "View_per_listing": 65.5,
          "count": 2,
          "sum": 131
         },
         {
          "Manufacturer": "QErre power boats",
          "View_per_listing": 131,
          "count": 1,
          "sum": 131
         },
         {
          "Manufacturer": "Freedom power boats",
          "View_per_listing": 130,
          "count": 1,
          "sum": 130
         },
         {
          "Manufacturer": "Franchini power boats",
          "View_per_listing": 130,
          "count": 1,
          "sum": 130
         },
         {
          "Manufacturer": "Ayros power boats",
          "View_per_listing": 130,
          "count": 1,
          "sum": 130
         },
         {
          "Manufacturer": "Windy Oceancraft power boats",
          "View_per_listing": 130,
          "count": 1,
          "sum": 130
         },
         {
          "Manufacturer": "Saura power boats",
          "View_per_listing": 129,
          "count": 1,
          "sum": 129
         },
         {
          "Manufacturer": "Allround power boats",
          "View_per_listing": 129,
          "count": 1,
          "sum": 129
         },
         {
          "Manufacturer": "Nasbo power boats",
          "View_per_listing": 129,
          "count": 1,
          "sum": 129
         },
         {
          "Manufacturer": "Osprey power boats",
          "View_per_listing": 128,
          "count": 1,
          "sum": 128
         },
         {
          "Manufacturer": "Interster power boats",
          "View_per_listing": 127,
          "count": 1,
          "sum": 127
         },
         {
          "Manufacturer": "Aqualum power boats",
          "View_per_listing": 126,
          "count": 1,
          "sum": 126
         },
         {
          "Manufacturer": "Chrysler power boats",
          "View_per_listing": 125,
          "count": 1,
          "sum": 125
         },
         {
          "Manufacturer": "Quicksilver Inflatables power boats",
          "View_per_listing": 125,
          "count": 1,
          "sum": 125
         },
         {
          "Manufacturer": "Orskov Skibsvaerft power boats",
          "View_per_listing": 125,
          "count": 1,
          "sum": 125
         },
         {
          "Manufacturer": "Fjord Plast power boats",
          "View_per_listing": 125,
          "count": 1,
          "sum": 125
         },
         {
          "Manufacturer": "Alen Yacht power boats",
          "View_per_listing": 124,
          "count": 1,
          "sum": 124
         },
         {
          "Manufacturer": "Moschini power boats",
          "View_per_listing": 124,
          "count": 1,
          "sum": 124
         },
         {
          "Manufacturer": "UMS-Boat power boats",
          "View_per_listing": 124,
          "count": 1,
          "sum": 124
         },
         {
          "Manufacturer": "Technus power boats",
          "View_per_listing": 124,
          "count": 1,
          "sum": 124
         },
         {
          "Manufacturer": "Camuffo power boats",
          "View_per_listing": 61.5,
          "count": 2,
          "sum": 123
         },
         {
          "Manufacturer": "Corvette Cruisers power boats",
          "View_per_listing": 61.5,
          "count": 2,
          "sum": 123
         },
         {
          "Manufacturer": "Scandinavia power boats",
          "View_per_listing": 123,
          "count": 1,
          "sum": 123
         },
         {
          "Manufacturer": "Victoria power boats",
          "View_per_listing": 123,
          "count": 1,
          "sum": 123
         },
         {
          "Manufacturer": "Zuiderzee power boats",
          "View_per_listing": 123,
          "count": 1,
          "sum": 123
         },
         {
          "Manufacturer": "Acquaviva (IT) power boats",
          "View_per_listing": 121,
          "count": 1,
          "sum": 121
         },
         {
          "Manufacturer": "Renken power boats",
          "View_per_listing": 121,
          "count": 1,
          "sum": 121
         },
         {
          "Manufacturer": "Moonfleet power boats",
          "View_per_listing": 121,
          "count": 1,
          "sum": 121
         },
         {
          "Manufacturer": "Fartes power boats",
          "View_per_listing": 120,
          "count": 1,
          "sum": 120
         },
         {
          "Manufacturer": "Diano power boats",
          "View_per_listing": 59.5,
          "count": 2,
          "sum": 119
         },
         {
          "Manufacturer": "Ebbtide power boats",
          "View_per_listing": 119,
          "count": 1,
          "sum": 119
         },
         {
          "Manufacturer": "Pollini power boats",
          "View_per_listing": 119,
          "count": 1,
          "sum": 119
         },
         {
          "Manufacturer": "Vitech power boats",
          "View_per_listing": 117,
          "count": 1,
          "sum": 117
         },
         {
          "Manufacturer": "Dynasty power boats",
          "View_per_listing": 117,
          "count": 1,
          "sum": 117
         },
         {
          "Manufacturer": "Enterprise Marine power boats",
          "View_per_listing": 58.5,
          "count": 2,
          "sum": 117
         },
         {
          "Manufacturer": "Cipax AS power boats",
          "View_per_listing": 117,
          "count": 1,
          "sum": 117
         },
         {
          "Manufacturer": "Zeeland Jachtbouw power boats",
          "View_per_listing": 117,
          "count": 1,
          "sum": 117
         },
         {
          "Manufacturer": "D-Boat power boats",
          "View_per_listing": 117,
          "count": 1,
          "sum": 117
         },
         {
          "Manufacturer": "Northern Marine power boats",
          "View_per_listing": 115,
          "count": 1,
          "sum": 115
         },
         {
          "Manufacturer": "Prins van Oranje power boats",
          "View_per_listing": 114,
          "count": 1,
          "sum": 114
         },
         {
          "Manufacturer": "PR Marine power boats",
          "View_per_listing": 114,
          "count": 1,
          "sum": 114
         },
         {
          "Manufacturer": "Nord West power boats",
          "View_per_listing": 114,
          "count": 1,
          "sum": 114
         },
         {
          "Manufacturer": "Calafuria power boats",
          "View_per_listing": 112,
          "count": 1,
          "sum": 112
         },
         {
          "Manufacturer": "Drettmann power boats",
          "View_per_listing": 112,
          "count": 1,
          "sum": 112
         },
         {
          "Manufacturer": "Adex Nautica power boats",
          "View_per_listing": 112,
          "count": 1,
          "sum": 112
         },
         {
          "Manufacturer": "Vedette power boats",
          "View_per_listing": 111,
          "count": 1,
          "sum": 111
         },
         {
          "Manufacturer": "XL Marine power boats",
          "View_per_listing": 37,
          "count": 3,
          "sum": 111
         },
         {
          "Manufacturer": "Martin power boats",
          "View_per_listing": 111,
          "count": 1,
          "sum": 111
         },
         {
          "Manufacturer": "Eurocrown power boats",
          "View_per_listing": 111,
          "count": 1,
          "sum": 111
         },
         {
          "Manufacturer": "Fipa Italiana power boats",
          "View_per_listing": 37,
          "count": 3,
          "sum": 111
         },
         {
          "Manufacturer": "Hagenah power boats",
          "View_per_listing": 110,
          "count": 1,
          "sum": 110
         },
         {
          "Manufacturer": "Marine Offshore power boats",
          "View_per_listing": 55,
          "count": 2,
          "sum": 110
         },
         {
          "Manufacturer": "Knierim Yachtbau power boats",
          "View_per_listing": 110,
          "count": 1,
          "sum": 110
         },
         {
          "Manufacturer": "Ta Yang power boats",
          "View_per_listing": 110,
          "count": 1,
          "sum": 110
         },
         {
          "Manufacturer": "Striker power boats",
          "View_per_listing": 109,
          "count": 1,
          "sum": 109
         },
         {
          "Manufacturer": "Anytec power boats",
          "View_per_listing": 109,
          "count": 1,
          "sum": 109
         },
         {
          "Manufacturer": "VICEM power boats",
          "View_per_listing": 54.5,
          "count": 2,
          "sum": 109
         },
         {
          "Manufacturer": "Trader Motor Yachts power boats",
          "View_per_listing": 109,
          "count": 1,
          "sum": 109
         },
         {
          "Manufacturer": "Hatecke power boats",
          "View_per_listing": 108,
          "count": 1,
          "sum": 108
         },
         {
          "Manufacturer": "Thunderbird power boats",
          "View_per_listing": 108,
          "count": 1,
          "sum": 108
         },
         {
          "Manufacturer": "Marco Yachts power boats",
          "View_per_listing": 108,
          "count": 1,
          "sum": 108
         },
         {
          "Manufacturer": "Barro power boats",
          "View_per_listing": 107,
          "count": 1,
          "sum": 107
         },
         {
          "Manufacturer": "Premiere Yacht power boats",
          "View_per_listing": 53.5,
          "count": 2,
          "sum": 107
         },
         {
          "Manufacturer": "Stormer power boats",
          "View_per_listing": 107,
          "count": 1,
          "sum": 107
         },
         {
          "Manufacturer": "Kronborg Marine power boats",
          "View_per_listing": 107,
          "count": 1,
          "sum": 107
         },
         {
          "Manufacturer": "Akerboom power boats",
          "View_per_listing": 106,
          "count": 1,
          "sum": 106
         },
         {
          "Manufacturer": "Pearlsea Yachts power boats",
          "View_per_listing": 106,
          "count": 1,
          "sum": 106
         },
         {
          "Manufacturer": "Blackfin power boats",
          "View_per_listing": 53,
          "count": 2,
          "sum": 106
         },
         {
          "Manufacturer": "Envision power boats",
          "View_per_listing": 105,
          "count": 1,
          "sum": 105
         },
         {
          "Manufacturer": "Cantieri Navali Arno power boats",
          "View_per_listing": 104,
          "count": 1,
          "sum": 104
         },
         {
          "Manufacturer": "Trawler power boats",
          "View_per_listing": 52,
          "count": 2,
          "sum": 104
         },
         {
          "Manufacturer": "Amerglass power boats",
          "View_per_listing": 104,
          "count": 1,
          "sum": 104
         },
         {
          "Manufacturer": "Waterdream power boats",
          "View_per_listing": 104,
          "count": 1,
          "sum": 104
         },
         {
          "Manufacturer": "Buetzfleth power boats",
          "View_per_listing": 104,
          "count": 1,
          "sum": 104
         },
         {
          "Manufacturer": "Schottel power boats",
          "View_per_listing": 103,
          "count": 1,
          "sum": 103
         },
         {
          "Manufacturer": "Vrijbuiter power boats",
          "View_per_listing": 102,
          "count": 1,
          "sum": 102
         },
         {
          "Manufacturer": "Haber power boats",
          "View_per_listing": 102,
          "count": 1,
          "sum": 102
         },
         {
          "Manufacturer": "CAD Marine power boats",
          "View_per_listing": 101,
          "count": 1,
          "sum": 101
         },
         {
          "Manufacturer": "Sealver power boats",
          "View_per_listing": 101,
          "count": 1,
          "sum": 101
         },
         {
          "Manufacturer": "Technohull power boats",
          "View_per_listing": 100,
          "count": 1,
          "sum": 100
         },
         {
          "Manufacturer": "Royal Denship power boats",
          "View_per_listing": 100,
          "count": 1,
          "sum": 100
         },
         {
          "Manufacturer": "VEB power boats",
          "View_per_listing": 100,
          "count": 1,
          "sum": 100
         },
         {
          "Manufacturer": "Interboat DE power boats",
          "View_per_listing": 99,
          "count": 1,
          "sum": 99
         },
         {
          "Manufacturer": "Suncoast power boats",
          "View_per_listing": 99,
          "count": 1,
          "sum": 99
         },
         {
          "Manufacturer": "Trojan power boats",
          "View_per_listing": 99,
          "count": 1,
          "sum": 99
         },
         {
          "Manufacturer": "Kammin power boats",
          "View_per_listing": 98,
          "count": 1,
          "sum": 98
         },
         {
          "Manufacturer": "Stalder power boats",
          "View_per_listing": 98,
          "count": 1,
          "sum": 98
         },
         {
          "Manufacturer": "Cantieri Nautici Dalla Pieta power boats",
          "View_per_listing": 97,
          "count": 1,
          "sum": 97
         },
         {
          "Manufacturer": "Amel power boats",
          "View_per_listing": 97,
          "count": 1,
          "sum": 97
         },
         {
          "Manufacturer": "VTS Boats power boats",
          "View_per_listing": 96,
          "count": 1,
          "sum": 96
         },
         {
          "Manufacturer": "Pollard power boats",
          "View_per_listing": 95,
          "count": 1,
          "sum": 95
         },
         {
          "Manufacturer": "Concordia power boats",
          "View_per_listing": 95,
          "count": 1,
          "sum": 95
         },
         {
          "Manufacturer": "Skagen power boats",
          "View_per_listing": 47.5,
          "count": 2,
          "sum": 95
         },
         {
          "Manufacturer": "V2 Boats  power boats",
          "View_per_listing": 95,
          "count": 1,
          "sum": 95
         },
         {
          "Manufacturer": "Queens Yachts power boats",
          "View_per_listing": 95,
          "count": 1,
          "sum": 95
         },
         {
          "Manufacturer": "Mirage power boats",
          "View_per_listing": 94,
          "count": 1,
          "sum": 94
         },
         {
          "Manufacturer": "Skarpnes power boats",
          "View_per_listing": 94,
          "count": 1,
          "sum": 94
         },
         {
          "Manufacturer": "Nordmanns power boats",
          "View_per_listing": 94,
          "count": 1,
          "sum": 94
         },
         {
          "Manufacturer": "Weidling power boats",
          "View_per_listing": 94,
          "count": 1,
          "sum": 94
         },
         {
          "Manufacturer": "AB Yachts power boats",
          "View_per_listing": 94,
          "count": 1,
          "sum": 94
         },
         {
          "Manufacturer": "Ott Werft power boats",
          "View_per_listing": 93,
          "count": 1,
          "sum": 93
         },
         {
          "Manufacturer": "Vertens power boats",
          "View_per_listing": 93,
          "count": 1,
          "sum": 93
         },
         {
          "Manufacturer": "Verhoeven power boats",
          "View_per_listing": 93,
          "count": 1,
          "sum": 93
         },
         {
          "Manufacturer": "Lengers power boats",
          "View_per_listing": 93,
          "count": 1,
          "sum": 93
         },
         {
          "Manufacturer": "De Vries power boats",
          "View_per_listing": 93,
          "count": 1,
          "sum": 93
         },
         {
          "Manufacturer": "BWA power boats",
          "View_per_listing": 91,
          "count": 1,
          "sum": 91
         },
         {
          "Manufacturer": "Hunton power boats",
          "View_per_listing": 91,
          "count": 1,
          "sum": 91
         },
         {
          "Manufacturer": "Navalplastica power boats",
          "View_per_listing": 91,
          "count": 1,
          "sum": 91
         },
         {
          "Manufacturer": "Center Craft power boats",
          "View_per_listing": 45.5,
          "count": 2,
          "sum": 91
         },
         {
          "Manufacturer": "Steilsteven power boats",
          "View_per_listing": 90,
          "count": 1,
          "sum": 90
         },
         {
          "Manufacturer": "Aquarius power boats",
          "View_per_listing": 90,
          "count": 1,
          "sum": 90
         },
         {
          "Manufacturer": "Sonic power boats",
          "View_per_listing": 90,
          "count": 1,
          "sum": 90
         },
         {
          "Manufacturer": "Condor Yachting power boats",
          "View_per_listing": 88,
          "count": 1,
          "sum": 88
         },
         {
          "Manufacturer": "Vizianello power boats",
          "View_per_listing": 44,
          "count": 2,
          "sum": 88
         },
         {
          "Manufacturer": "AGA-Marine power boats",
          "View_per_listing": 87,
          "count": 1,
          "sum": 87
         },
         {
          "Manufacturer": "Hunter power boats",
          "View_per_listing": 87,
          "count": 1,
          "sum": 87
         },
         {
          "Manufacturer": "Jaguar power boats",
          "View_per_listing": 87,
          "count": 1,
          "sum": 87
         },
         {
          "Manufacturer": "Wake power boats",
          "View_per_listing": 87,
          "count": 1,
          "sum": 87
         },
         {
          "Manufacturer": "Aluminiumjon power boats",
          "View_per_listing": 86,
          "count": 1,
          "sum": 86
         },
         {
          "Manufacturer": "Hoya power boats",
          "View_per_listing": 86,
          "count": 1,
          "sum": 86
         },
         {
          "Manufacturer": "Burger power boats",
          "View_per_listing": 86,
          "count": 1,
          "sum": 86
         },
         {
          "Manufacturer": "Kapiteinssloep power boats",
          "View_per_listing": 86,
          "count": 1,
          "sum": 86
         },
         {
          "Manufacturer": "Blue Sailors power boats",
          "View_per_listing": 85,
          "count": 1,
          "sum": 85
         },
         {
          "Manufacturer": "MAS power boats",
          "View_per_listing": 85,
          "count": 1,
          "sum": 85
         },
         {
          "Manufacturer": "Novurania power boats",
          "View_per_listing": 84,
          "count": 1,
          "sum": 84
         },
         {
          "Manufacturer": "IMP Boats power boats",
          "View_per_listing": 84,
          "count": 1,
          "sum": 84
         },
         {
          "Manufacturer": "Techno Yachts power boats",
          "View_per_listing": 84,
          "count": 1,
          "sum": 84
         },
         {
          "Manufacturer": "Searider power boats",
          "View_per_listing": 82,
          "count": 1,
          "sum": 82
         },
         {
          "Manufacturer": "Ranger power boats",
          "View_per_listing": 82,
          "count": 1,
          "sum": 82
         },
         {
          "Manufacturer": "Schaefer power boats",
          "View_per_listing": 82,
          "count": 1,
          "sum": 82
         },
         {
          "Manufacturer": "Tarquin power boats",
          "View_per_listing": 82,
          "count": 1,
          "sum": 82
         },
         {
          "Manufacturer": "Jan Van Gent power boats",
          "View_per_listing": 82,
          "count": 1,
          "sum": 82
         },
         {
          "Manufacturer": "Wajer power boats",
          "View_per_listing": 81,
          "count": 1,
          "sum": 81
         },
         {
          "Manufacturer": "Boatbuilding Academy Dorset power boats",
          "View_per_listing": 81,
          "count": 1,
          "sum": 81
         },
         {
          "Manufacturer": "Primeur power boats",
          "View_per_listing": 81,
          "count": 1,
          "sum": 81
         },
         {
          "Manufacturer": "AYROS power boats",
          "View_per_listing": 81,
          "count": 1,
          "sum": 81
         },
         {
          "Manufacturer": "Ocean Yachts power boats",
          "View_per_listing": 81,
          "count": 1,
          "sum": 81
         },
         {
          "Manufacturer": "Catarsi power boats",
          "View_per_listing": 40,
          "count": 2,
          "sum": 80
         },
         {
          "Manufacturer": "Monte Fino power boats",
          "View_per_listing": 40,
          "count": 2,
          "sum": 80
         },
         {
          "Manufacturer": "Targa power boats",
          "View_per_listing": 80,
          "count": 1,
          "sum": 80
         },
         {
          "Manufacturer": "Rampage power boats",
          "View_per_listing": 79,
          "count": 1,
          "sum": 79
         },
         {
          "Manufacturer": "MMS power boats",
          "View_per_listing": 78,
          "count": 1,
          "sum": 78
         },
         {
          "Manufacturer": "KOK power boats",
          "View_per_listing": 78,
          "count": 1,
          "sum": 78
         },
         {
          "Manufacturer": "Joda power boats",
          "View_per_listing": 78,
          "count": 1,
          "sum": 78
         },
         {
          "Manufacturer": "3B Craft power boats",
          "View_per_listing": 38.5,
          "count": 2,
          "sum": 77
         },
         {
          "Manufacturer": "Carolina Classic power boats",
          "View_per_listing": 75,
          "count": 1,
          "sum": 75
         },
         {
          "Manufacturer": "Fincantieri Yachts power boats",
          "View_per_listing": 75,
          "count": 1,
          "sum": 75
         },
         {
          "Manufacturer": "Blue Navy power boats",
          "View_per_listing": 75,
          "count": 1,
          "sum": 75
         },
         {
          "Manufacturer": "Flevo power boats",
          "View_per_listing": 74,
          "count": 1,
          "sum": 74
         },
         {
          "Manufacturer": "Swordsman power boats",
          "View_per_listing": 74,
          "count": 1,
          "sum": 74
         },
         {
          "Manufacturer": "Nuova Jolly power boats",
          "View_per_listing": 74,
          "count": 1,
          "sum": 74
         },
         {
          "Manufacturer": "Sea Pro power boats",
          "View_per_listing": 74,
          "count": 1,
          "sum": 74
         },
         {
          "Manufacturer": "Catfish power boats",
          "View_per_listing": 74,
          "count": 1,
          "sum": 74
         },
         {
          "Manufacturer": "Motiva power boats",
          "View_per_listing": 73,
          "count": 1,
          "sum": 73
         },
         {
          "Manufacturer": "Italversil power boats",
          "View_per_listing": 71,
          "count": 1,
          "sum": 71
         },
         {
          "Manufacturer": "Sossego power boats",
          "View_per_listing": 71,
          "count": 1,
          "sum": 71
         },
         {
          "Manufacturer": "Brunnert-Grimm power boats",
          "View_per_listing": 70,
          "count": 1,
          "sum": 70
         },
         {
          "Manufacturer": "Island Gypsy power boats",
          "View_per_listing": 69,
          "count": 1,
          "sum": 69
         },
         {
          "Manufacturer": "GS Nautica power boats",
          "View_per_listing": 69,
          "count": 1,
          "sum": 69
         },
         {
          "Manufacturer": "Back Cove power boats",
          "View_per_listing": 69,
          "count": 1,
          "sum": 69
         },
         {
          "Manufacturer": "Meridian Yachts power boats",
          "View_per_listing": 69,
          "count": 1,
          "sum": 69
         },
         {
          "Manufacturer": "AluVenture power boats",
          "View_per_listing": 69,
          "count": 1,
          "sum": 69
         },
         {
          "Manufacturer": "Bellcraft power boats",
          "View_per_listing": 68,
          "count": 1,
          "sum": 68
         },
         {
          "Manufacturer": "EVO power boats",
          "View_per_listing": 68,
          "count": 1,
          "sum": 68
         },
         {
          "Manufacturer": "Zeta Group power boats",
          "View_per_listing": 67,
          "count": 1,
          "sum": 67
         },
         {
          "Manufacturer": "Explorer power boats",
          "View_per_listing": 66,
          "count": 1,
          "sum": 66
         },
         {
          "Manufacturer": "Blue Ocean power boats",
          "View_per_listing": 65,
          "count": 1,
          "sum": 65
         },
         {
          "Manufacturer": "Austin Parker power boats",
          "View_per_listing": 64,
          "count": 1,
          "sum": 64
         },
         {
          "Manufacturer": "Kraps power boats",
          "View_per_listing": 62,
          "count": 1,
          "sum": 62
         },
         {
          "Manufacturer": "Siemer power boats",
          "View_per_listing": 61,
          "count": 1,
          "sum": 61
         },
         {
          "Manufacturer": "Bombard power boats",
          "View_per_listing": 61,
          "count": 1,
          "sum": 61
         },
         {
          "Manufacturer": "Maxi Dolphin power boats",
          "View_per_listing": 60,
          "count": 1,
          "sum": 60
         },
         {
          "Manufacturer": "Navalia power boats",
          "View_per_listing": 60,
          "count": 1,
          "sum": 60
         },
         {
          "Manufacturer": "SBM power boats",
          "View_per_listing": 58,
          "count": 1,
          "sum": 58
         },
         {
          "Manufacturer": "Liberty power boats",
          "View_per_listing": 56,
          "count": 1,
          "sum": 56
         },
         {
          "Manufacturer": "Oyster power boats",
          "View_per_listing": 56,
          "count": 1,
          "sum": 56
         },
         {
          "Manufacturer": "Momenta power boats",
          "View_per_listing": 55,
          "count": 1,
          "sum": 55
         },
         {
          "Manufacturer": "Glacer power boats",
          "View_per_listing": 55,
          "count": 1,
          "sum": 55
         },
         {
          "Manufacturer": "AL Custom power boats",
          "View_per_listing": 53,
          "count": 1,
          "sum": 53
         },
         {
          "Manufacturer": "Astinor power boats",
          "View_per_listing": 53,
          "count": 1,
          "sum": 53
         },
         {
          "Manufacturer": "Jans power boats",
          "View_per_listing": 52,
          "count": 1,
          "sum": 52
         },
         {
          "Manufacturer": "Tegernseer Bootsbau power boats",
          "View_per_listing": 51,
          "count": 1,
          "sum": 51
         },
         {
          "Manufacturer": "Graso power boats",
          "View_per_listing": 51,
          "count": 1,
          "sum": 51
         },
         {
          "Manufacturer": "Azzurro power boats",
          "View_per_listing": 50,
          "count": 1,
          "sum": 50
         },
         {
          "Manufacturer": "Recla power boats",
          "View_per_listing": 50,
          "count": 1,
          "sum": 50
         },
         {
          "Manufacturer": "Parente power boats",
          "View_per_listing": 50,
          "count": 1,
          "sum": 50
         },
         {
          "Manufacturer": "Williams power boats",
          "View_per_listing": 49,
          "count": 1,
          "sum": 49
         },
         {
          "Manufacturer": "Mako Boats power boats",
          "View_per_listing": 49,
          "count": 1,
          "sum": 49
         },
         {
          "Manufacturer": "Javazzo power boats",
          "View_per_listing": 49,
          "count": 1,
          "sum": 49
         },
         {
          "Manufacturer": "Wider power boats",
          "View_per_listing": 48,
          "count": 1,
          "sum": 48
         },
         {
          "Manufacturer": "Marine Yachting power boats",
          "View_per_listing": 47,
          "count": 1,
          "sum": 47
         },
         {
          "Manufacturer": "Blauwe Hand power boats",
          "View_per_listing": 47,
          "count": 1,
          "sum": 47
         },
         {
          "Manufacturer": "Unica Yacht power boats",
          "View_per_listing": 46,
          "count": 1,
          "sum": 46
         },
         {
          "Manufacturer": "Premier power boats",
          "View_per_listing": 45,
          "count": 1,
          "sum": 45
         },
         {
          "Manufacturer": "Jongert power boats",
          "View_per_listing": 44,
          "count": 1,
          "sum": 44
         },
         {
          "Manufacturer": "Rivers and Tides power boats",
          "View_per_listing": 44,
          "count": 1,
          "sum": 44
         },
         {
          "Manufacturer": "Baltic power boats",
          "View_per_listing": 43,
          "count": 1,
          "sum": 43
         },
         {
          "Manufacturer": "Sabre power boats",
          "View_per_listing": 42,
          "count": 1,
          "sum": 42
         },
         {
          "Manufacturer": "Linden power boats",
          "View_per_listing": 42,
          "count": 1,
          "sum": 42
         },
         {
          "Manufacturer": "Abati Yachts power boats",
          "View_per_listing": 41,
          "count": 1,
          "sum": 41
         },
         {
          "Manufacturer": "Rose Island power boats",
          "View_per_listing": 39,
          "count": 1,
          "sum": 39
         },
         {
          "Manufacturer": "Luhrs power boats",
          "View_per_listing": 39,
          "count": 1,
          "sum": 39
         },
         {
          "Manufacturer": "Solare power boats",
          "View_per_listing": 37,
          "count": 1,
          "sum": 37
         },
         {
          "Manufacturer": "Topaz power boats",
          "View_per_listing": 36,
          "count": 1,
          "sum": 36
         },
         {
          "Manufacturer": "Nautica power boats",
          "View_per_listing": 35,
          "count": 1,
          "sum": 35
         },
         {
          "Manufacturer": "Ventus power boats",
          "View_per_listing": 34,
          "count": 1,
          "sum": 34
         },
         {
          "Manufacturer": "Suzuki power boats",
          "View_per_listing": 33,
          "count": 1,
          "sum": 33
         },
         {
          "Manufacturer": "Gavazzi Luciano power boats",
          "View_per_listing": 31,
          "count": 1,
          "sum": 31
         },
         {
          "Manufacturer": "Lamor power boats",
          "View_per_listing": 20,
          "count": 1,
          "sum": 20
         }
        ],
        "schema": {
         "fields": [
          {
           "name": "Manufacturer",
           "type": "string"
          },
          {
           "name": "count",
           "type": "integer"
          },
          {
           "name": "sum",
           "type": "integer"
          },
          {
           "name": "View_per_listing",
           "type": "number"
          }
         ],
         "pandas_version": "1.4.0",
         "primaryKey": [
          "Manufacturer"
         ]
        }
       },
       "total_rows": 852,
       "truncation_type": null
      },
      "text/html": [
       "<div>\n",
       "<style scoped>\n",
       "    .dataframe tbody tr th:only-of-type {\n",
       "        vertical-align: middle;\n",
       "    }\n",
       "\n",
       "    .dataframe tbody tr th {\n",
       "        vertical-align: top;\n",
       "    }\n",
       "\n",
       "    .dataframe thead th {\n",
       "        text-align: right;\n",
       "    }\n",
       "</style>\n",
       "<table border=\"1\" class=\"dataframe\">\n",
       "  <thead>\n",
       "    <tr style=\"text-align: right;\">\n",
       "      <th></th>\n",
       "      <th>count</th>\n",
       "      <th>sum</th>\n",
       "      <th>View_per_listing</th>\n",
       "    </tr>\n",
       "    <tr>\n",
       "      <th>Manufacturer</th>\n",
       "      <th></th>\n",
       "      <th></th>\n",
       "      <th></th>\n",
       "    </tr>\n",
       "  </thead>\n",
       "  <tbody>\n",
       "    <tr>\n",
       "      <th>BÃ©nÃ©teau power boats</th>\n",
       "      <td>624</td>\n",
       "      <td>50741</td>\n",
       "      <td>81.315705</td>\n",
       "    </tr>\n",
       "    <tr>\n",
       "      <th>Jeanneau power boats</th>\n",
       "      <td>524</td>\n",
       "      <td>44114</td>\n",
       "      <td>84.187023</td>\n",
       "    </tr>\n",
       "    <tr>\n",
       "      <th>Sunseeker power boats</th>\n",
       "      <td>362</td>\n",
       "      <td>38723</td>\n",
       "      <td>106.969613</td>\n",
       "    </tr>\n",
       "    <tr>\n",
       "      <th>Princess power boats</th>\n",
       "      <td>227</td>\n",
       "      <td>28031</td>\n",
       "      <td>123.484581</td>\n",
       "    </tr>\n",
       "    <tr>\n",
       "      <th>Sea Ray power boats</th>\n",
       "      <td>204</td>\n",
       "      <td>25773</td>\n",
       "      <td>126.338235</td>\n",
       "    </tr>\n",
       "    <tr>\n",
       "      <th>...</th>\n",
       "      <td>...</td>\n",
       "      <td>...</td>\n",
       "      <td>...</td>\n",
       "    </tr>\n",
       "    <tr>\n",
       "      <th>Nautica power boats</th>\n",
       "      <td>1</td>\n",
       "      <td>35</td>\n",
       "      <td>35.000000</td>\n",
       "    </tr>\n",
       "    <tr>\n",
       "      <th>Ventus power boats</th>\n",
       "      <td>1</td>\n",
       "      <td>34</td>\n",
       "      <td>34.000000</td>\n",
       "    </tr>\n",
       "    <tr>\n",
       "      <th>Suzuki power boats</th>\n",
       "      <td>1</td>\n",
       "      <td>33</td>\n",
       "      <td>33.000000</td>\n",
       "    </tr>\n",
       "    <tr>\n",
       "      <th>Gavazzi Luciano power boats</th>\n",
       "      <td>1</td>\n",
       "      <td>31</td>\n",
       "      <td>31.000000</td>\n",
       "    </tr>\n",
       "    <tr>\n",
       "      <th>Lamor power boats</th>\n",
       "      <td>1</td>\n",
       "      <td>20</td>\n",
       "      <td>20.000000</td>\n",
       "    </tr>\n",
       "  </tbody>\n",
       "</table>\n",
       "<p>852 rows × 3 columns</p>\n",
       "</div>"
      ],
      "text/plain": [
       "                             count    sum  View_per_listing\n",
       "Manufacturer                                               \n",
       "BÃ©nÃ©teau power boats         624  50741         81.315705\n",
       "Jeanneau power boats           524  44114         84.187023\n",
       "Sunseeker power boats          362  38723        106.969613\n",
       "Princess power boats           227  28031        123.484581\n",
       "Sea Ray power boats            204  25773        126.338235\n",
       "...                            ...    ...               ...\n",
       "Nautica power boats              1     35         35.000000\n",
       "Ventus power boats               1     34         34.000000\n",
       "Suzuki power boats               1     33         33.000000\n",
       "Gavazzi Luciano power boats      1     31         31.000000\n",
       "Lamor power boats                1     20         20.000000\n",
       "\n",
       "[852 rows x 3 columns]"
      ]
     },
     "execution_count": 14,
     "metadata": {},
     "output_type": "execute_result"
    }
   ],
   "source": [
    "#mfg_counts = df_raw.groupby(['Manufacturer']).size().reset_index(name = 'counts').sort_values(['counts'],ascending = False)\n",
    "#mfg_counts['Cumulative'] = mfg_counts['counts'].cumsum() / df_raw.shape[0]\n",
    "#mfg_counts\n",
    "\n",
    "\n",
    "mfg_counts = df_raw.groupby(['Manufacturer'])['Views'].agg(['count','sum'])\n",
    "mfg_counts['View_per_listing'] = mfg_counts['sum'] / mfg_counts['count']\n",
    "mfg_counts.sort_values(['sum'],ascending = False)\n",
    "# Count is the number of listings, and sum is the number of views"
   ]
  },
  {
   "cell_type": "markdown",
   "id": "c33495fa-5b09-4c7b-83e7-390f6c29417d",
   "metadata": {},
   "source": [
    "## Type\n",
    "\n",
    "From data exploration, it seems that there are two different metrics within the boat type. First is whether the boat is new, used, or a display model and second is the fuel type such as diesel, unleaded, propane, hybrid or electric so I am going to separate this boat type into two different columns to better capture that nuance in my model.\n",
    "\n",
    "Unfortunately, a large number of gas types were not specified, so I will leave these as blank and I will assess missing value counts later on. "
   ]
  },
  {
   "cell_type": "code",
   "execution_count": 15,
   "id": "ad4cce47-c32a-4f8d-9d1d-e3a39c434ae4",
   "metadata": {},
   "outputs": [
    {
     "data": {
      "application/com.datacamp.data-table.v1+json": {
       "table": {
        "data": [
         {
          "Cumulative": 0.4304019275,
          "Type": "Used boat,Diesel",
          "counts": 3930,
          "index": 9
         },
         {
          "Cumulative": 0.5842733545,
          "Type": "Used boat",
          "counts": 1405,
          "index": 8
         },
         {
          "Cumulative": 0.7266454934,
          "Type": "Used boat,Unleaded",
          "counts": 1300,
          "index": 14
         },
         {
          "Cumulative": 0.8439382324,
          "Type": "new boat from stock,Unleaded",
          "counts": 1071,
          "index": 19
         },
         {
          "Cumulative": 0.9147957507,
          "Type": "new boat from stock",
          "counts": 647,
          "index": 15
         },
         {
          "Cumulative": 0.944912934,
          "Type": "new boat from stock,Diesel",
          "counts": 275,
          "index": 16
         },
         {
          "Cumulative": 0.9611214544,
          "Type": "new boat on order,Unleaded",
          "counts": 148,
          "index": 22
         },
         {
          "Cumulative": 0.9686781294,
          "Type": "Display Model,Unleaded",
          "counts": 69,
          "index": 5
         },
         {
          "Cumulative": 0.9749206002,
          "Type": "new boat on order",
          "counts": 57,
          "index": 20
         },
         {
          "Cumulative": 0.9810535538,
          "Type": "Diesel",
          "counts": 56,
          "index": 0
         },
         {
          "Cumulative": 0.9870769905,
          "Type": "new boat on order,Diesel",
          "counts": 55,
          "index": 21
         },
         {
          "Cumulative": 0.9897053992,
          "Type": "Used boat,Electric",
          "counts": 24,
          "index": 10
         },
         {
          "Cumulative": 0.9918957398,
          "Type": "Unleaded",
          "counts": 20,
          "index": 7
         },
         {
          "Cumulative": 0.9938670463,
          "Type": "Display Model,Diesel",
          "counts": 18,
          "index": 2
         },
         {
          "Cumulative": 0.9956193188,
          "Type": "new boat from stock,Electric",
          "counts": 16,
          "index": 17
         },
         {
          "Cumulative": 0.9971525572,
          "Type": "Display Model",
          "counts": 14,
          "index": 1
         },
         {
          "Cumulative": 0.9981382105,
          "Type": "Used boat,Gas",
          "counts": 9,
          "index": 11
         },
         {
          "Cumulative": 0.9987953127,
          "Type": "Display Model,Electric",
          "counts": 6,
          "index": 3
         },
         {
          "Cumulative": 0.9990143467,
          "Type": "new boat from stock,Gas",
          "counts": 2,
          "index": 18
         },
         {
          "Cumulative": 0.9991238638,
          "Type": "Used boat,Hybrid",
          "counts": 1,
          "index": 12
         },
         {
          "Cumulative": 0.9992333808,
          "Type": "Used boat,Propane",
          "counts": 1,
          "index": 13
         },
         {
          "Cumulative": 0.9993428978,
          "Type": "Electric",
          "counts": 1,
          "index": 6
         },
         {
          "Cumulative": 0.9994524149,
          "Type": "Display Model,Gas",
          "counts": 1,
          "index": 4
         }
        ],
        "schema": {
         "fields": [
          {
           "name": "index",
           "type": "integer"
          },
          {
           "name": "Type",
           "type": "string"
          },
          {
           "name": "counts",
           "type": "integer"
          },
          {
           "name": "Cumulative",
           "type": "number"
          }
         ],
         "pandas_version": "1.4.0",
         "primaryKey": [
          "index"
         ]
        }
       },
       "total_rows": 23,
       "truncation_type": null
      },
      "text/html": [
       "<div>\n",
       "<style scoped>\n",
       "    .dataframe tbody tr th:only-of-type {\n",
       "        vertical-align: middle;\n",
       "    }\n",
       "\n",
       "    .dataframe tbody tr th {\n",
       "        vertical-align: top;\n",
       "    }\n",
       "\n",
       "    .dataframe thead th {\n",
       "        text-align: right;\n",
       "    }\n",
       "</style>\n",
       "<table border=\"1\" class=\"dataframe\">\n",
       "  <thead>\n",
       "    <tr style=\"text-align: right;\">\n",
       "      <th></th>\n",
       "      <th>Type</th>\n",
       "      <th>counts</th>\n",
       "      <th>Cumulative</th>\n",
       "    </tr>\n",
       "  </thead>\n",
       "  <tbody>\n",
       "    <tr>\n",
       "      <th>9</th>\n",
       "      <td>Used boat,Diesel</td>\n",
       "      <td>3930</td>\n",
       "      <td>0.430402</td>\n",
       "    </tr>\n",
       "    <tr>\n",
       "      <th>8</th>\n",
       "      <td>Used boat</td>\n",
       "      <td>1405</td>\n",
       "      <td>0.584273</td>\n",
       "    </tr>\n",
       "    <tr>\n",
       "      <th>14</th>\n",
       "      <td>Used boat,Unleaded</td>\n",
       "      <td>1300</td>\n",
       "      <td>0.726645</td>\n",
       "    </tr>\n",
       "    <tr>\n",
       "      <th>19</th>\n",
       "      <td>new boat from stock,Unleaded</td>\n",
       "      <td>1071</td>\n",
       "      <td>0.843938</td>\n",
       "    </tr>\n",
       "    <tr>\n",
       "      <th>15</th>\n",
       "      <td>new boat from stock</td>\n",
       "      <td>647</td>\n",
       "      <td>0.914796</td>\n",
       "    </tr>\n",
       "    <tr>\n",
       "      <th>16</th>\n",
       "      <td>new boat from stock,Diesel</td>\n",
       "      <td>275</td>\n",
       "      <td>0.944913</td>\n",
       "    </tr>\n",
       "    <tr>\n",
       "      <th>22</th>\n",
       "      <td>new boat on order,Unleaded</td>\n",
       "      <td>148</td>\n",
       "      <td>0.961121</td>\n",
       "    </tr>\n",
       "    <tr>\n",
       "      <th>5</th>\n",
       "      <td>Display Model,Unleaded</td>\n",
       "      <td>69</td>\n",
       "      <td>0.968678</td>\n",
       "    </tr>\n",
       "    <tr>\n",
       "      <th>20</th>\n",
       "      <td>new boat on order</td>\n",
       "      <td>57</td>\n",
       "      <td>0.974921</td>\n",
       "    </tr>\n",
       "    <tr>\n",
       "      <th>0</th>\n",
       "      <td>Diesel</td>\n",
       "      <td>56</td>\n",
       "      <td>0.981054</td>\n",
       "    </tr>\n",
       "    <tr>\n",
       "      <th>21</th>\n",
       "      <td>new boat on order,Diesel</td>\n",
       "      <td>55</td>\n",
       "      <td>0.987077</td>\n",
       "    </tr>\n",
       "    <tr>\n",
       "      <th>10</th>\n",
       "      <td>Used boat,Electric</td>\n",
       "      <td>24</td>\n",
       "      <td>0.989705</td>\n",
       "    </tr>\n",
       "    <tr>\n",
       "      <th>7</th>\n",
       "      <td>Unleaded</td>\n",
       "      <td>20</td>\n",
       "      <td>0.991896</td>\n",
       "    </tr>\n",
       "    <tr>\n",
       "      <th>2</th>\n",
       "      <td>Display Model,Diesel</td>\n",
       "      <td>18</td>\n",
       "      <td>0.993867</td>\n",
       "    </tr>\n",
       "    <tr>\n",
       "      <th>17</th>\n",
       "      <td>new boat from stock,Electric</td>\n",
       "      <td>16</td>\n",
       "      <td>0.995619</td>\n",
       "    </tr>\n",
       "    <tr>\n",
       "      <th>1</th>\n",
       "      <td>Display Model</td>\n",
       "      <td>14</td>\n",
       "      <td>0.997153</td>\n",
       "    </tr>\n",
       "    <tr>\n",
       "      <th>11</th>\n",
       "      <td>Used boat,Gas</td>\n",
       "      <td>9</td>\n",
       "      <td>0.998138</td>\n",
       "    </tr>\n",
       "    <tr>\n",
       "      <th>3</th>\n",
       "      <td>Display Model,Electric</td>\n",
       "      <td>6</td>\n",
       "      <td>0.998795</td>\n",
       "    </tr>\n",
       "    <tr>\n",
       "      <th>18</th>\n",
       "      <td>new boat from stock,Gas</td>\n",
       "      <td>2</td>\n",
       "      <td>0.999014</td>\n",
       "    </tr>\n",
       "    <tr>\n",
       "      <th>12</th>\n",
       "      <td>Used boat,Hybrid</td>\n",
       "      <td>1</td>\n",
       "      <td>0.999124</td>\n",
       "    </tr>\n",
       "    <tr>\n",
       "      <th>13</th>\n",
       "      <td>Used boat,Propane</td>\n",
       "      <td>1</td>\n",
       "      <td>0.999233</td>\n",
       "    </tr>\n",
       "    <tr>\n",
       "      <th>6</th>\n",
       "      <td>Electric</td>\n",
       "      <td>1</td>\n",
       "      <td>0.999343</td>\n",
       "    </tr>\n",
       "    <tr>\n",
       "      <th>4</th>\n",
       "      <td>Display Model,Gas</td>\n",
       "      <td>1</td>\n",
       "      <td>0.999452</td>\n",
       "    </tr>\n",
       "  </tbody>\n",
       "</table>\n",
       "</div>"
      ],
      "text/plain": [
       "                            Type  counts  Cumulative\n",
       "9               Used boat,Diesel    3930    0.430402\n",
       "8                      Used boat    1405    0.584273\n",
       "14            Used boat,Unleaded    1300    0.726645\n",
       "19  new boat from stock,Unleaded    1071    0.843938\n",
       "15           new boat from stock     647    0.914796\n",
       "16    new boat from stock,Diesel     275    0.944913\n",
       "22    new boat on order,Unleaded     148    0.961121\n",
       "5         Display Model,Unleaded      69    0.968678\n",
       "20             new boat on order      57    0.974921\n",
       "0                         Diesel      56    0.981054\n",
       "21      new boat on order,Diesel      55    0.987077\n",
       "10            Used boat,Electric      24    0.989705\n",
       "7                       Unleaded      20    0.991896\n",
       "2           Display Model,Diesel      18    0.993867\n",
       "17  new boat from stock,Electric      16    0.995619\n",
       "1                  Display Model      14    0.997153\n",
       "11                 Used boat,Gas       9    0.998138\n",
       "3         Display Model,Electric       6    0.998795\n",
       "18       new boat from stock,Gas       2    0.999014\n",
       "12              Used boat,Hybrid       1    0.999124\n",
       "13             Used boat,Propane       1    0.999233\n",
       "6                       Electric       1    0.999343\n",
       "4              Display Model,Gas       1    0.999452"
      ]
     },
     "execution_count": 15,
     "metadata": {},
     "output_type": "execute_result"
    }
   ],
   "source": [
    "type_counts = df_raw.groupby(['Type']).size().reset_index(name = 'counts').sort_values(['counts'],ascending = False)\n",
    "type_counts['Cumulative'] = type_counts['counts'].cumsum() / df_raw.shape[0]\n",
    "type_counts"
   ]
  },
  {
   "cell_type": "code",
   "execution_count": 16,
   "id": "9eb045f8-95eb-4ac4-9c51-b12e43519d40",
   "metadata": {},
   "outputs": [
    {
     "data": {
      "text/plain": [
       "<seaborn.axisgrid.FacetGrid at 0x7faccd69b100>"
      ]
     },
     "execution_count": 16,
     "metadata": {},
     "output_type": "execute_result"
    },
    {
     "data": {
      "image/png": "[encoded data removed]",
      "text/plain": [
       "<Figure size 500x500 with 1 Axes>"
      ]
     },
     "metadata": {},
     "output_type": "display_data"
    }
   ],
   "source": [
    "df_raw['Sale Type'] = np.where(df_raw['Type'].str.contains('new',case = False),'New Boat',\n",
    "                      np.where(df_raw['Type'].str.contains('used',case = False),'Used Boat',\n",
    "                      np.where(df_raw['Type'].str.contains('display',case = False),'Display Model',None)))\n",
    "sns.catplot('Sale Type', data = df_raw, kind = 'count')"
   ]
  },
  {
   "cell_type": "code",
   "execution_count": 17,
   "id": "6673b435-6077-4044-ac32-c5f26df501f9",
   "metadata": {},
   "outputs": [
    {
     "data": {
      "text/plain": [
       "<seaborn.axisgrid.FacetGrid at 0x7faccd617fa0>"
      ]
     },
     "execution_count": 17,
     "metadata": {},
     "output_type": "execute_result"
    },
    {
     "data": {
      "image/png": "[encoded data removed]",
      "text/plain": [
       "<Figure size 500x500 with 1 Axes>"
      ]
     },
     "metadata": {},
     "output_type": "display_data"
    }
   ],
   "source": [
    "df_raw['Fuel Type'] = np.where(df_raw['Type'].str.contains('diesel',case = False),'Diesel',\n",
    "                      np.where(df_raw['Type'].str.contains('unleaded',case = False),'Unleaded',\n",
    "                      np.where(df_raw['Type'].str.contains('gas',case = False),'Unleaded',\n",
    "                      np.where(df_raw['Type'].str.contains('electric',case = False),'Other',\n",
    "\t\t\t\t\t  np.where(df_raw['Type'].str.contains('propane',case = False),'Other',\n",
    "                      np.where(df_raw['Type'].str.contains('hybrid',case = False),'Other',None))))))\n",
    "sns.catplot('Fuel Type', data = df_raw, kind = 'count')"
   ]
  },
  {
   "cell_type": "markdown",
   "id": "471b1a75-8758-41bc-ac67-0dcfc51d702e",
   "metadata": {},
   "source": [
    "## Year Built\n",
    "\n",
    "It looks like all of these values are okay except that there are 551 missing values coded as zero so these need to be tagged as missing and examined later on. "
   ]
  },
  {
   "cell_type": "code",
   "execution_count": 18,
   "id": "76cd82d9-ccab-4e9a-8891-df1d44bd1981",
   "metadata": {},
   "outputs": [
    {
     "name": "stdout",
     "output_type": "stream",
     "text": [
      "     Year Built  counts  Cumulative\n",
      "120        2021      47    0.005147\n",
      "119        2020    1217    0.138430\n",
      "118        2019     631    0.207535\n",
      "117        2018     346    0.245428\n",
      "116        2017     296    0.277845\n",
      "..          ...     ...         ...\n",
      "4          1897       1    0.941737\n",
      "3          1895       1    0.941846\n",
      "2          1889       1    0.941956\n",
      "1          1885       1    0.942065\n",
      "0             0     529    1.000000\n",
      "\n",
      "[121 rows x 3 columns]\n"
     ]
    }
   ],
   "source": [
    "year_counts = df_raw.groupby(['Year Built']).size().reset_index(name = 'counts').sort_values(['Year Built'],ascending = False)\n",
    "year_counts['Cumulative'] = year_counts['counts'].cumsum() / df_raw.shape[0]\n",
    "print(year_counts)"
   ]
  },
  {
   "cell_type": "code",
   "execution_count": 19,
   "id": "acd15dfb-c39b-4d20-9dd7-990916ba551d",
   "metadata": {},
   "outputs": [],
   "source": [
    "df_raw['Year Built'] = df_raw['Year Built'].replace(0,np.nan)"
   ]
  },
  {
   "cell_type": "markdown",
   "id": "d6af695b-b8f3-4ac7-9fe5-e320be06c11c",
   "metadata": {},
   "source": [
    "### Boat Dimensions\n",
    "\n",
    "As can be seen from the correlation coefficient and scatter plot, the linear relationship between the length and width is strongly positive, with a correlation of .87. While there are a few outliers, I am going to leave these dimensions as is "
   ]
  },
  {
   "cell_type": "code",
   "execution_count": 20,
   "id": "90046a9b-47bd-4a6d-b269-eaa433c9a0df",
   "metadata": {},
   "outputs": [
    {
     "data": {
      "application/com.datacamp.data-table.v1+json": {
       "table": {
        "data": [
         {
          "Length": 1,
          "Width": 0.8731850236,
          "index": "Length"
         },
         {
          "Length": 0.8731850236,
          "Width": 1,
          "index": "Width"
         }
        ],
        "schema": {
         "fields": [
          {
           "name": "index",
           "type": "string"
          },
          {
           "name": "Length",
           "type": "number"
          },
          {
           "name": "Width",
           "type": "number"
          }
         ],
         "pandas_version": "1.4.0",
         "primaryKey": [
          "index"
         ]
        }
       },
       "total_rows": 2,
       "truncation_type": null
      },
      "text/html": [
       "<div>\n",
       "<style scoped>\n",
       "    .dataframe tbody tr th:only-of-type {\n",
       "        vertical-align: middle;\n",
       "    }\n",
       "\n",
       "    .dataframe tbody tr th {\n",
       "        vertical-align: top;\n",
       "    }\n",
       "\n",
       "    .dataframe thead th {\n",
       "        text-align: right;\n",
       "    }\n",
       "</style>\n",
       "<table border=\"1\" class=\"dataframe\">\n",
       "  <thead>\n",
       "    <tr style=\"text-align: right;\">\n",
       "      <th></th>\n",
       "      <th>Length</th>\n",
       "      <th>Width</th>\n",
       "    </tr>\n",
       "  </thead>\n",
       "  <tbody>\n",
       "    <tr>\n",
       "      <th>Length</th>\n",
       "      <td>1.000000</td>\n",
       "      <td>0.873185</td>\n",
       "    </tr>\n",
       "    <tr>\n",
       "      <th>Width</th>\n",
       "      <td>0.873185</td>\n",
       "      <td>1.000000</td>\n",
       "    </tr>\n",
       "  </tbody>\n",
       "</table>\n",
       "</div>"
      ],
      "text/plain": [
       "          Length     Width\n",
       "Length  1.000000  0.873185\n",
       "Width   0.873185  1.000000"
      ]
     },
     "execution_count": 20,
     "metadata": {},
     "output_type": "execute_result"
    }
   ],
   "source": [
    "df_raw[['Length','Width']].corr()"
   ]
  },
  {
   "cell_type": "code",
   "execution_count": 21,
   "id": "13c3a84f-c119-4dfe-b3aa-6ae4cb08b953",
   "metadata": {},
   "outputs": [
    {
     "data": {
      "text/plain": [
       "<seaborn.axisgrid.FacetGrid at 0x7faccb5dc6d0>"
      ]
     },
     "execution_count": 21,
     "metadata": {},
     "output_type": "execute_result"
    },
    {
     "data": {
      "image/png": "[encoded data removed]",
      "text/plain": [
       "<Figure size 500x500 with 1 Axes>"
      ]
     },
     "metadata": {},
     "output_type": "display_data"
    }
   ],
   "source": [
    "sns.relplot(x = 'Length', y ='Width', data = df_raw, kind = 'scatter')"
   ]
  },
  {
   "cell_type": "markdown",
   "id": "b833eb6b-92c6-4ee3-8ffc-3398aef72c21",
   "metadata": {},
   "source": [
    "### Material\n",
    "\n",
    "Although there is a wide variation of material types, I am going to leave this column as is in order to capture the nuance between the types"
   ]
  },
  {
   "cell_type": "code",
   "execution_count": 22,
   "id": "d4339a51-fa68-4a81-ab3d-9e21bbfef6bc",
   "metadata": {},
   "outputs": [
    {
     "data": {
      "image/png": "[encoded data removed]",
      "text/plain": [
       "<Figure size 500x500 with 1 Axes>"
      ]
     },
     "metadata": {},
     "output_type": "display_data"
    }
   ],
   "source": [
    "sns.catplot(x = 'Material', data = df_raw, kind = 'count')\n",
    "plt.xticks(rotation = 75)\n",
    "plt.show()"
   ]
  },
  {
   "cell_type": "markdown",
   "id": "35c20605-7ab9-4496-a5e6-c279c05257d3",
   "metadata": {},
   "source": [
    "### Location\n",
    "\n",
    "I am going to split this column by country to simplify since it is probably more important which country the boat is in than which exact body of water. Additionally, 91.5% of boats are within 9 countries so I am going to condense the country column into 9 groups plus an other to capture the remaining 8.5% of listings. "
   ]
  },
  {
   "cell_type": "code",
   "execution_count": 23,
   "id": "f24edbe6-adf7-48d5-b782-22fbc3a915b4",
   "metadata": {},
   "outputs": [
    {
     "data": {
      "application/com.datacamp.data-table.v1+json": {
       "table": {
        "data": [
         {
          "Country": "Germany",
          "Cumulative": 0.1957069324,
          "counts": 1787,
          "index": 22
         },
         {
          "Country": "Italy",
          "Cumulative": 0.3859380134,
          "counts": 1737,
          "index": 31
         },
         {
          "Country": "France",
          "Cumulative": 0.5186726536,
          "counts": 1212,
          "index": 20
         },
         {
          "Country": "Netherlands",
          "Cumulative": 0.6322418136,
          "counts": 1037,
          "index": 46
         },
         {
          "Country": "Croatia",
          "Cumulative": 0.7188697843,
          "counts": 791,
          "index": 11
         },
         {
          "Country": "Switzerland",
          "Cumulative": 0.7970649436,
          "counts": 714,
          "index": 68
         },
         {
          "Country": "Spain",
          "Cumulative": 0.871865075,
          "counts": 683,
          "index": 65
         },
         {
          "Country": "United",
          "Cumulative": 0.8977110941,
          "counts": 236,
          "index": 74
         },
         {
          "Country": "Denmark",
          "Cumulative": 0.915781404,
          "counts": 165,
          "index": 15
         },
         {
          "Country": "Portugal",
          "Cumulative": 0.9300186179,
          "counts": 130,
          "index": 57
         },
         {
          "Country": "Greece",
          "Cumulative": 0.9388894973,
          "counts": 81,
          "index": 24
         },
         {
          "Country": "Austria",
          "Cumulative": 0.9473223086,
          "counts": 77,
          "index": 3
         },
         {
          "Country": "Malta",
          "Cumulative": 0.9552075348,
          "counts": 72,
          "index": 40
         },
         {
          "Country": "Turkey",
          "Cumulative": 0.9622166247,
          "counts": 64,
          "index": 72
         },
         {
          "Country": "Belgium",
          "Cumulative": 0.9682400613,
          "counts": 55,
          "index": 5
         },
         {
          "Country": "Slovenia",
          "Cumulative": 0.9724017085,
          "counts": 38,
          "index": 64
         },
         {
          "Country": "Poland",
          "Cumulative": 0.9763443215,
          "counts": 36,
          "index": 55
         },
         {
          "Country": "Finland",
          "Cumulative": 0.9800679006,
          "counts": 34,
          "index": 19
         },
         {
          "Country": "Montenegro",
          "Cumulative": 0.9824772752,
          "counts": 22,
          "index": 44
         },
         {
          "Country": "Sweden",
          "Cumulative": 0.9836819625,
          "counts": 11,
          "index": 67
         },
         {
          "Country": "Monaco",
          "Cumulative": 0.9847771328,
          "counts": 10,
          "index": 43
         },
         {
          "Country": "Slovak",
          "Cumulative": 0.9857627861,
          "counts": 9,
          "index": 63
         },
         {
          "Country": "Estonia",
          "Cumulative": 0.9864198883,
          "counts": 6,
          "index": 18
         },
         {
          "Country": "Russian",
          "Cumulative": 0.9869674734,
          "counts": 5,
          "index": 61
         },
         {
          "Country": "Lithuania",
          "Cumulative": 0.9875150586,
          "counts": 5,
          "index": 38
         },
         {
          "Country": "Cyprus",
          "Cumulative": 0.9880626437,
          "counts": 5,
          "index": 12
         },
         {
          "Country": "Hungary",
          "Cumulative": 0.9885007119,
          "counts": 4,
          "index": 26
         },
         {
          "Country": "Czech",
          "Cumulative": 0.988829263,
          "counts": 3,
          "index": 13
         },
         {
          "Country": "Latvia",
          "Cumulative": 0.989157814,
          "counts": 3,
          "index": 36
         },
         {
          "Country": "Lake",
          "Cumulative": 0.9894863651,
          "counts": 3,
          "index": 35
         },
         {
          "Country": "Martinique",
          "Cumulative": 0.9897053992,
          "counts": 2,
          "index": 42
         },
         {
          "Country": "Norway",
          "Cumulative": 0.9899244332,
          "counts": 2,
          "index": 49
         },
         {
          "Country": "Thailand",
          "Cumulative": 0.9901434673,
          "counts": 2,
          "index": 70
         },
         {
          "Country": "Ostsee",
          "Cumulative": 0.9903625014,
          "counts": 2,
          "index": 53
         },
         {
          "Country": "Australia",
          "Cumulative": 0.9905815354,
          "counts": 2,
          "index": 2
         },
         {
          "Country": "Ukraine",
          "Cumulative": 0.9908005695,
          "counts": 2,
          "index": 73
         },
         {
          "Country": "Donau",
          "Cumulative": 0.9910196035,
          "counts": 2,
          "index": 16
         },
         {
          "Country": "Bulgaria",
          "Cumulative": 0.9912386376,
          "counts": 2,
          "index": 9
         },
         {
          "Country": "Stralsund",
          "Cumulative": 0.9913481546,
          "counts": 1,
          "index": 66
         },
         {
          "Country": "baden",
          "Cumulative": 0.9914576717,
          "counts": 1,
          "index": 78
         },
         {
          "Country": "Porto",
          "Cumulative": 0.9915671887,
          "counts": 1,
          "index": 56
         },
         {
          "Country": "lago",
          "Cumulative": 0.9916767057,
          "counts": 1,
          "index": 80
         },
         {
          "Country": "espa?a",
          "Cumulative": 0.9917862228,
          "counts": 1,
          "index": 79
         },
         {
          "Country": "Rolle",
          "Cumulative": 0.9918957398,
          "counts": 1,
          "index": 58
         },
         {
          "Country": "Romania",
          "Cumulative": 0.9920052568,
          "counts": 1,
          "index": 59
         },
         {
          "Country": "Zevenbergen",
          "Cumulative": 0.9921147738,
          "counts": 1,
          "index": 77
         },
         {
          "Country": "Rovinij",
          "Cumulative": 0.9922242909,
          "counts": 1,
          "index": 60
         },
         {
          "Country": "Taiwan",
          "Cumulative": 0.9923338079,
          "counts": 1,
          "index": 69
         },
         {
          "Country": "Wijdenes",
          "Cumulative": 0.9924433249,
          "counts": 1,
          "index": 76
         },
         {
          "Country": "Venezuela",
          "Cumulative": 0.992552842,
          "counts": 1,
          "index": 75
         },
         {
          "Country": "Seychelles",
          "Cumulative": 0.992662359,
          "counts": 1,
          "index": 62
         },
         {
          "Country": "Toscana",
          "Cumulative": 0.992771876,
          "counts": 1,
          "index": 71
         },
         {
          "Country": "Philippines",
          "Cumulative": 0.9928813931,
          "counts": 1,
          "index": 54
         },
         {
          "Country": "83278",
          "Cumulative": 0.9929909101,
          "counts": 1,
          "index": 0
         },
         {
          "Country": "Marina",
          "Cumulative": 0.9931004271,
          "counts": 1,
          "index": 41
         },
         {
          "Country": "Opwijk",
          "Cumulative": 0.9932099441,
          "counts": 1,
          "index": 52
         },
         {
          "Country": "Ireland",
          "Cumulative": 0.9933194612,
          "counts": 1,
          "index": 28
         },
         {
          "Country": "Beilngries",
          "Cumulative": 0.9934289782,
          "counts": 1,
          "index": 4
         },
         {
          "Country": "Berlin",
          "Cumulative": 0.9935384952,
          "counts": 1,
          "index": 6
         },
         {
          "Country": "Bielefeld",
          "Cumulative": 0.9936480123,
          "counts": 1,
          "index": 7
         },
         {
          "Country": "Brandenburg",
          "Cumulative": 0.9937575293,
          "counts": 1,
          "index": 8
         },
         {
          "Country": "Calanova",
          "Cumulative": 0.9938670463,
          "counts": 1,
          "index": 10
         },
         {
          "Country": "Dalmatien",
          "Cumulative": 0.9939765634,
          "counts": 1,
          "index": 14
         },
         {
          "Country": "Egypt",
          "Cumulative": 0.9940860804,
          "counts": 1,
          "index": 17
         },
         {
          "Country": "French",
          "Cumulative": 0.9941955974,
          "counts": 1,
          "index": 21
         },
         {
          "Country": "Gibraltar",
          "Cumulative": 0.9943051144,
          "counts": 1,
          "index": 23
         },
         {
          "Country": "Heilbronn",
          "Cumulative": 0.9944146315,
          "counts": 1,
          "index": 25
         },
         {
          "Country": "Ibiza",
          "Cumulative": 0.9945241485,
          "counts": 1,
          "index": 27
         },
         {
          "Country": "Isle",
          "Cumulative": 0.9946336655,
          "counts": 1,
          "index": 29
         },
         {
          "Country": "Oder",
          "Cumulative": 0.9947431826,
          "counts": 1,
          "index": 51
         },
         {
          "Country": "Italie",
          "Cumulative": 0.9948526996,
          "counts": 1,
          "index": 30
         },
         {
          "Country": "Izola",
          "Cumulative": 0.9949622166,
          "counts": 1,
          "index": 32
         },
         {
          "Country": "Jersey",
          "Cumulative": 0.9950717337,
          "counts": 1,
          "index": 33
         },
         {
          "Country": "Katwijk",
          "Cumulative": 0.9951812507,
          "counts": 1,
          "index": 34
         },
         {
          "Country": "Lebanon",
          "Cumulative": 0.9952907677,
          "counts": 1,
          "index": 37
         },
         {
          "Country": "Luxembourg",
          "Cumulative": 0.9954002847,
          "counts": 1,
          "index": 39
         },
         {
          "Country": "Adria",
          "Cumulative": 0.9955098018,
          "counts": 1,
          "index": 1
         },
         {
          "Country": "Morocco",
          "Cumulative": 0.9956193188,
          "counts": 1,
          "index": 45
         },
         {
          "Country": "Neusiedl",
          "Cumulative": 0.9957288358,
          "counts": 1,
          "index": 47
         },
         {
          "Country": "NordseekÃ¼ste",
          "Cumulative": 0.9958383529,
          "counts": 1,
          "index": 48
         },
         {
          "Country": "Novi",
          "Cumulative": 0.9959478699,
          "counts": 1,
          "index": 50
         },
         {
          "Country": "waren",
          "Cumulative": 0.9960573869,
          "counts": 1,
          "index": 81
         }
        ],
        "schema": {
         "fields": [
          {
           "name": "index",
           "type": "integer"
          },
          {
           "name": "Country",
           "type": "string"
          },
          {
           "name": "counts",
           "type": "integer"
          },
          {
           "name": "Cumulative",
           "type": "number"
          }
         ],
         "pandas_version": "1.4.0",
         "primaryKey": [
          "index"
         ]
        }
       },
       "total_rows": 82,
       "truncation_type": null
      },
      "text/html": [
       "<div>\n",
       "<style scoped>\n",
       "    .dataframe tbody tr th:only-of-type {\n",
       "        vertical-align: middle;\n",
       "    }\n",
       "\n",
       "    .dataframe tbody tr th {\n",
       "        vertical-align: top;\n",
       "    }\n",
       "\n",
       "    .dataframe thead th {\n",
       "        text-align: right;\n",
       "    }\n",
       "</style>\n",
       "<table border=\"1\" class=\"dataframe\">\n",
       "  <thead>\n",
       "    <tr style=\"text-align: right;\">\n",
       "      <th></th>\n",
       "      <th>Country</th>\n",
       "      <th>counts</th>\n",
       "      <th>Cumulative</th>\n",
       "    </tr>\n",
       "  </thead>\n",
       "  <tbody>\n",
       "    <tr>\n",
       "      <th>22</th>\n",
       "      <td>Germany</td>\n",
       "      <td>1787</td>\n",
       "      <td>0.195707</td>\n",
       "    </tr>\n",
       "    <tr>\n",
       "      <th>31</th>\n",
       "      <td>Italy</td>\n",
       "      <td>1737</td>\n",
       "      <td>0.385938</td>\n",
       "    </tr>\n",
       "    <tr>\n",
       "      <th>20</th>\n",
       "      <td>France</td>\n",
       "      <td>1212</td>\n",
       "      <td>0.518673</td>\n",
       "    </tr>\n",
       "    <tr>\n",
       "      <th>46</th>\n",
       "      <td>Netherlands</td>\n",
       "      <td>1037</td>\n",
       "      <td>0.632242</td>\n",
       "    </tr>\n",
       "    <tr>\n",
       "      <th>11</th>\n",
       "      <td>Croatia</td>\n",
       "      <td>791</td>\n",
       "      <td>0.718870</td>\n",
       "    </tr>\n",
       "    <tr>\n",
       "      <th>...</th>\n",
       "      <td>...</td>\n",
       "      <td>...</td>\n",
       "      <td>...</td>\n",
       "    </tr>\n",
       "    <tr>\n",
       "      <th>45</th>\n",
       "      <td>Morocco</td>\n",
       "      <td>1</td>\n",
       "      <td>0.995619</td>\n",
       "    </tr>\n",
       "    <tr>\n",
       "      <th>47</th>\n",
       "      <td>Neusiedl</td>\n",
       "      <td>1</td>\n",
       "      <td>0.995729</td>\n",
       "    </tr>\n",
       "    <tr>\n",
       "      <th>48</th>\n",
       "      <td>NordseekÃ¼ste</td>\n",
       "      <td>1</td>\n",
       "      <td>0.995838</td>\n",
       "    </tr>\n",
       "    <tr>\n",
       "      <th>50</th>\n",
       "      <td>Novi</td>\n",
       "      <td>1</td>\n",
       "      <td>0.995948</td>\n",
       "    </tr>\n",
       "    <tr>\n",
       "      <th>81</th>\n",
       "      <td>waren</td>\n",
       "      <td>1</td>\n",
       "      <td>0.996057</td>\n",
       "    </tr>\n",
       "  </tbody>\n",
       "</table>\n",
       "<p>82 rows × 3 columns</p>\n",
       "</div>"
      ],
      "text/plain": [
       "          Country  counts  Cumulative\n",
       "22        Germany    1787    0.195707\n",
       "31          Italy    1737    0.385938\n",
       "20         France    1212    0.518673\n",
       "46    Netherlands    1037    0.632242\n",
       "11        Croatia     791    0.718870\n",
       "..            ...     ...         ...\n",
       "45        Morocco       1    0.995619\n",
       "47       Neusiedl       1    0.995729\n",
       "48  NordseekÃ¼ste       1    0.995838\n",
       "50           Novi       1    0.995948\n",
       "81          waren       1    0.996057\n",
       "\n",
       "[82 rows x 3 columns]"
      ]
     },
     "execution_count": 23,
     "metadata": {},
     "output_type": "execute_result"
    }
   ],
   "source": [
    "df_raw['Country'] = df_raw['Location'].str.split(' ').str[0]\n",
    "country_counts = df_raw.groupby(['Country']).size().reset_index(name = 'counts').sort_values(['counts'],ascending = False)\n",
    "country_counts['Cumulative'] = country_counts['counts'].cumsum() / df_raw.shape[0]\n",
    "country_counts"
   ]
  },
  {
   "cell_type": "code",
   "execution_count": 24,
   "id": "718bb1da-048d-4851-b415-0c47d73cea00",
   "metadata": {},
   "outputs": [
    {
     "data": {
      "text/plain": [
       "Germany        1823\n",
       "Italy          1740\n",
       "France         1213\n",
       "Netherlands    1037\n",
       "Croatia         791\n",
       "Other           750\n",
       "Switzerland     714\n",
       "Spain           684\n",
       "UK              214\n",
       "Denmark         165\n",
       "Name: Country, dtype: int64"
      ]
     },
     "execution_count": 24,
     "metadata": {},
     "output_type": "execute_result"
    }
   ],
   "source": [
    "df_raw['Country'] = np.where(df_raw['Location'].str.contains(\"Germany\",case = False), 'Germany',\n",
    "                            np.where(df_raw['Location'].str.contains(\"Italy\",case = False), 'Italy',\n",
    "                            np.where(df_raw['Location'].str.contains(\"France\",case = False), 'France',\n",
    "                            np.where(df_raw['Location'].str.contains(\"Netherlands\",case = False), 'Netherlands',\n",
    "                            np.where(df_raw['Location'].str.contains(\"Croatia\",case = False), 'Croatia',\n",
    "                            np.where(df_raw['Location'].str.contains(\"Switzerland\",case = False), 'Switzerland',\n",
    "                            np.where(df_raw['Location'].str.contains(\"Spain\",case = False), 'Spain',\n",
    "                            np.where(df_raw['Location'].str.contains(\"United Kingdom\",case = False), 'UK',\n",
    "                            np.where(df_raw['Location'].str.contains(\"Denmark\",case = False), 'Denmark','Other')))))))))\n",
    "df_raw['Country'].value_counts()"
   ]
  },
  {
   "cell_type": "markdown",
   "id": "7821daf0-fd57-4145-894f-0cdb83e630af",
   "metadata": {},
   "source": [
    "# Model Development\n",
    "\n",
    "Because this is a prediction problem using a continuous numeric variable (ratio level), I am going to look at a few algorithms for continuous predictions.\n",
    "\n",
    "However, before I look at model performance, I need to perform some preprocessing steps"
   ]
  },
  {
   "cell_type": "code",
   "execution_count": 25,
   "id": "903df6f0-e76f-481a-a50b-888f82d86320",
   "metadata": {},
   "outputs": [
    {
     "data": {
      "application/com.datacamp.data-table.v1+json": {
       "table": {
        "data": [
         {
          "Boat Type": "Motor Yacht",
          "CLEAN Boat Type": "Motor Yacht",
          "Country": "Switzerland",
          "Currency": "CHF",
          "Euros": 3503.85,
          "Fuel Type": null,
          "Length": 4,
          "Location": "Switzerland Â» Lake Geneva Â» VÃ©senaz",
          "Manufacturer": "Rigiflex power boats",
          "Material": null,
          "Price": "CHF 3337",
          "Price_num": 3337,
          "Sale Type": "New Boat",
          "Type": "new boat from stock",
          "Views": 226,
          "Width": 1.9,
          "Year Built": 2017,
          "index": 0
         },
         {
          "Boat Type": "Center console boat",
          "CLEAN Boat Type": "Center console boat",
          "Country": "Germany",
          "Currency": "EUR",
          "Euros": 3490,
          "Fuel Type": null,
          "Length": 4,
          "Location": "Germany Â» BÃ¶nningstedt",
          "Manufacturer": "Terhi power boats",
          "Material": "Thermoplastic",
          "Price": "EUR 3490",
          "Price_num": 3490,
          "Sale Type": "New Boat",
          "Type": "new boat from stock",
          "Views": 75,
          "Width": 1.5,
          "Year Built": 2020,
          "index": 1
         },
         {
          "Boat Type": "Sport Boat",
          "CLEAN Boat Type": "Sport Boat",
          "Country": "Switzerland",
          "Currency": "CHF",
          "Euros": 3958.5,
          "Fuel Type": null,
          "Length": 3.69,
          "Location": "Switzerland Â» Lake of Zurich Â» StÃ¤fa ZH",
          "Manufacturer": "Marine power boats",
          "Material": "Aluminium",
          "Price": "CHF 3770",
          "Price_num": 3770,
          "Sale Type": "New Boat",
          "Type": "new boat from stock",
          "Views": 124,
          "Width": 1.42,
          "Year Built": null,
          "index": 2
         },
         {
          "Boat Type": "Sport Boat",
          "CLEAN Boat Type": "Sport Boat",
          "Country": "Denmark",
          "Currency": "DKK",
          "Euros": 3367,
          "Fuel Type": null,
          "Length": 3,
          "Location": "Denmark Â» Svendborg",
          "Manufacturer": "Pioner power boats",
          "Material": null,
          "Price": "DKK 25900",
          "Price_num": 25900,
          "Sale Type": "New Boat",
          "Type": "new boat from stock",
          "Views": 64,
          "Width": 1,
          "Year Built": 2020,
          "index": 3
         },
         {
          "Boat Type": "Fishing Boat",
          "CLEAN Boat Type": "Other",
          "Country": "Germany",
          "Currency": "EUR",
          "Euros": 3399,
          "Fuel Type": null,
          "Length": 3.55,
          "Location": "Germany Â» Bayern Â» MÃ¼nchen",
          "Manufacturer": "Linder power boats",
          "Material": "Aluminium",
          "Price": "EUR 3399",
          "Price_num": 3399,
          "Sale Type": "New Boat",
          "Type": "new boat from stock",
          "Views": 58,
          "Width": 1.46,
          "Year Built": 2019,
          "index": 4
         }
        ],
        "schema": {
         "fields": [
          {
           "name": "index",
           "type": "integer"
          },
          {
           "name": "Price",
           "type": "string"
          },
          {
           "name": "Boat Type",
           "type": "string"
          },
          {
           "name": "Manufacturer",
           "type": "string"
          },
          {
           "name": "Type",
           "type": "string"
          },
          {
           "name": "Year Built",
           "type": "number"
          },
          {
           "name": "Length",
           "type": "number"
          },
          {
           "name": "Width",
           "type": "number"
          },
          {
           "name": "Material",
           "type": "string"
          },
          {
           "name": "Location",
           "type": "string"
          },
          {
           "name": "Views",
           "type": "integer"
          },
          {
           "name": "Currency",
           "type": "string"
          },
          {
           "name": "Price_num",
           "type": "integer"
          },
          {
           "name": "Euros",
           "type": "number"
          },
          {
           "name": "CLEAN Boat Type",
           "type": "string"
          },
          {
           "name": "Sale Type",
           "type": "string"
          },
          {
           "name": "Fuel Type",
           "type": "string"
          },
          {
           "name": "Country",
           "type": "string"
          }
         ],
         "pandas_version": "1.4.0",
         "primaryKey": [
          "index"
         ]
        }
       },
       "total_rows": 5,
       "truncation_type": null
      },
      "text/html": [
       "<div>\n",
       "<style scoped>\n",
       "    .dataframe tbody tr th:only-of-type {\n",
       "        vertical-align: middle;\n",
       "    }\n",
       "\n",
       "    .dataframe tbody tr th {\n",
       "        vertical-align: top;\n",
       "    }\n",
       "\n",
       "    .dataframe thead th {\n",
       "        text-align: right;\n",
       "    }\n",
       "</style>\n",
       "<table border=\"1\" class=\"dataframe\">\n",
       "  <thead>\n",
       "    <tr style=\"text-align: right;\">\n",
       "      <th></th>\n",
       "      <th>Price</th>\n",
       "      <th>Boat Type</th>\n",
       "      <th>Manufacturer</th>\n",
       "      <th>Type</th>\n",
       "      <th>Year Built</th>\n",
       "      <th>Length</th>\n",
       "      <th>Width</th>\n",
       "      <th>Material</th>\n",
       "      <th>Location</th>\n",
       "      <th>Views</th>\n",
       "      <th>Currency</th>\n",
       "      <th>Price_num</th>\n",
       "      <th>Euros</th>\n",
       "      <th>CLEAN Boat Type</th>\n",
       "      <th>Sale Type</th>\n",
       "      <th>Fuel Type</th>\n",
       "      <th>Country</th>\n",
       "    </tr>\n",
       "  </thead>\n",
       "  <tbody>\n",
       "    <tr>\n",
       "      <th>0</th>\n",
       "      <td>CHF 3337</td>\n",
       "      <td>Motor Yacht</td>\n",
       "      <td>Rigiflex power boats</td>\n",
       "      <td>new boat from stock</td>\n",
       "      <td>2017.0</td>\n",
       "      <td>4.00</td>\n",
       "      <td>1.90</td>\n",
       "      <td>NaN</td>\n",
       "      <td>Switzerland Â» Lake Geneva Â» VÃ©senaz</td>\n",
       "      <td>226</td>\n",
       "      <td>CHF</td>\n",
       "      <td>3337</td>\n",
       "      <td>3503.85</td>\n",
       "      <td>Motor Yacht</td>\n",
       "      <td>New Boat</td>\n",
       "      <td>None</td>\n",
       "      <td>Switzerland</td>\n",
       "    </tr>\n",
       "    <tr>\n",
       "      <th>1</th>\n",
       "      <td>EUR 3490</td>\n",
       "      <td>Center console boat</td>\n",
       "      <td>Terhi power boats</td>\n",
       "      <td>new boat from stock</td>\n",
       "      <td>2020.0</td>\n",
       "      <td>4.00</td>\n",
       "      <td>1.50</td>\n",
       "      <td>Thermoplastic</td>\n",
       "      <td>Germany Â» BÃ¶nningstedt</td>\n",
       "      <td>75</td>\n",
       "      <td>EUR</td>\n",
       "      <td>3490</td>\n",
       "      <td>3490.00</td>\n",
       "      <td>Center console boat</td>\n",
       "      <td>New Boat</td>\n",
       "      <td>None</td>\n",
       "      <td>Germany</td>\n",
       "    </tr>\n",
       "    <tr>\n",
       "      <th>2</th>\n",
       "      <td>CHF 3770</td>\n",
       "      <td>Sport Boat</td>\n",
       "      <td>Marine power boats</td>\n",
       "      <td>new boat from stock</td>\n",
       "      <td>NaN</td>\n",
       "      <td>3.69</td>\n",
       "      <td>1.42</td>\n",
       "      <td>Aluminium</td>\n",
       "      <td>Switzerland Â» Lake of Zurich Â» StÃ¤fa ZH</td>\n",
       "      <td>124</td>\n",
       "      <td>CHF</td>\n",
       "      <td>3770</td>\n",
       "      <td>3958.50</td>\n",
       "      <td>Sport Boat</td>\n",
       "      <td>New Boat</td>\n",
       "      <td>None</td>\n",
       "      <td>Switzerland</td>\n",
       "    </tr>\n",
       "    <tr>\n",
       "      <th>3</th>\n",
       "      <td>DKK 25900</td>\n",
       "      <td>Sport Boat</td>\n",
       "      <td>Pioner power boats</td>\n",
       "      <td>new boat from stock</td>\n",
       "      <td>2020.0</td>\n",
       "      <td>3.00</td>\n",
       "      <td>1.00</td>\n",
       "      <td>NaN</td>\n",
       "      <td>Denmark Â» Svendborg</td>\n",
       "      <td>64</td>\n",
       "      <td>DKK</td>\n",
       "      <td>25900</td>\n",
       "      <td>3367.00</td>\n",
       "      <td>Sport Boat</td>\n",
       "      <td>New Boat</td>\n",
       "      <td>None</td>\n",
       "      <td>Denmark</td>\n",
       "    </tr>\n",
       "    <tr>\n",
       "      <th>4</th>\n",
       "      <td>EUR 3399</td>\n",
       "      <td>Fishing Boat</td>\n",
       "      <td>Linder power boats</td>\n",
       "      <td>new boat from stock</td>\n",
       "      <td>2019.0</td>\n",
       "      <td>3.55</td>\n",
       "      <td>1.46</td>\n",
       "      <td>Aluminium</td>\n",
       "      <td>Germany Â» Bayern Â» MÃ¼nchen</td>\n",
       "      <td>58</td>\n",
       "      <td>EUR</td>\n",
       "      <td>3399</td>\n",
       "      <td>3399.00</td>\n",
       "      <td>Other</td>\n",
       "      <td>New Boat</td>\n",
       "      <td>None</td>\n",
       "      <td>Germany</td>\n",
       "    </tr>\n",
       "  </tbody>\n",
       "</table>\n",
       "</div>"
      ],
      "text/plain": [
       "       Price            Boat Type          Manufacturer                 Type  \\\n",
       "0   CHF 3337          Motor Yacht  Rigiflex power boats  new boat from stock   \n",
       "1   EUR 3490  Center console boat     Terhi power boats  new boat from stock   \n",
       "2   CHF 3770           Sport Boat    Marine power boats  new boat from stock   \n",
       "3  DKK 25900           Sport Boat    Pioner power boats  new boat from stock   \n",
       "4   EUR 3399         Fishing Boat    Linder power boats  new boat from stock   \n",
       "\n",
       "   Year Built  Length  Width       Material  \\\n",
       "0      2017.0    4.00   1.90            NaN   \n",
       "1      2020.0    4.00   1.50  Thermoplastic   \n",
       "2         NaN    3.69   1.42      Aluminium   \n",
       "3      2020.0    3.00   1.00            NaN   \n",
       "4      2019.0    3.55   1.46      Aluminium   \n",
       "\n",
       "                                     Location  Views Currency  Price_num  \\\n",
       "0      Switzerland Â» Lake Geneva Â» VÃ©senaz    226      CHF       3337   \n",
       "1                    Germany Â» BÃ¶nningstedt     75      EUR       3490   \n",
       "2  Switzerland Â» Lake of Zurich Â» StÃ¤fa ZH    124      CHF       3770   \n",
       "3                        Denmark Â» Svendborg     64      DKK      25900   \n",
       "4               Germany Â» Bayern Â» MÃ¼nchen     58      EUR       3399   \n",
       "\n",
       "     Euros      CLEAN Boat Type Sale Type Fuel Type      Country  \n",
       "0  3503.85          Motor Yacht  New Boat      None  Switzerland  \n",
       "1  3490.00  Center console boat  New Boat      None      Germany  \n",
       "2  3958.50           Sport Boat  New Boat      None  Switzerland  \n",
       "3  3367.00           Sport Boat  New Boat      None      Denmark  \n",
       "4  3399.00                Other  New Boat      None      Germany  "
      ]
     },
     "execution_count": 25,
     "metadata": {},
     "output_type": "execute_result"
    }
   ],
   "source": [
    "df_raw.head()"
   ]
  },
  {
   "cell_type": "code",
   "execution_count": 26,
   "id": "14dc92f2-5bd3-4554-b8ec-561052818559",
   "metadata": {},
   "outputs": [
    {
     "data": {
      "application/com.datacamp.data-table.v1+json": {
       "table": {
        "data": [
         {
          "CLEAN Boat Type": "Motor Yacht",
          "Country": "Switzerland",
          "Currency": "CHF",
          "Euros": 3503.85,
          "Fuel Type": null,
          "Length": 4,
          "Material": null,
          "Sale Type": "New Boat",
          "Views": 226,
          "Width": 1.9,
          "Year Built": 2017,
          "index": 0
         },
         {
          "CLEAN Boat Type": "Center console boat",
          "Country": "Germany",
          "Currency": "EUR",
          "Euros": 3490,
          "Fuel Type": null,
          "Length": 4,
          "Material": "Thermoplastic",
          "Sale Type": "New Boat",
          "Views": 75,
          "Width": 1.5,
          "Year Built": 2020,
          "index": 1
         },
         {
          "CLEAN Boat Type": "Sport Boat",
          "Country": "Switzerland",
          "Currency": "CHF",
          "Euros": 3958.5,
          "Fuel Type": null,
          "Length": 3.69,
          "Material": "Aluminium",
          "Sale Type": "New Boat",
          "Views": 124,
          "Width": 1.42,
          "Year Built": null,
          "index": 2
         },
         {
          "CLEAN Boat Type": "Sport Boat",
          "Country": "Denmark",
          "Currency": "DKK",
          "Euros": 3367,
          "Fuel Type": null,
          "Length": 3,
          "Material": null,
          "Sale Type": "New Boat",
          "Views": 64,
          "Width": 1,
          "Year Built": 2020,
          "index": 3
         },
         {
          "CLEAN Boat Type": "Other",
          "Country": "Germany",
          "Currency": "EUR",
          "Euros": 3399,
          "Fuel Type": null,
          "Length": 3.55,
          "Material": "Aluminium",
          "Sale Type": "New Boat",
          "Views": 58,
          "Width": 1.46,
          "Year Built": 2019,
          "index": 4
         },
         {
          "CLEAN Boat Type": "Sport Boat",
          "Country": "Switzerland",
          "Currency": "CHF",
          "Euros": 3832.5,
          "Fuel Type": null,
          "Length": 4.03,
          "Material": "Aluminium",
          "Sale Type": "New Boat",
          "Views": 132,
          "Width": 1.56,
          "Year Built": null,
          "index": 5
         },
         {
          "CLEAN Boat Type": "Sport Boat",
          "Country": "Denmark",
          "Currency": "DKK",
          "Euros": 3224,
          "Fuel Type": null,
          "Length": 3,
          "Material": null,
          "Sale Type": "Used Boat",
          "Views": 134,
          "Width": null,
          "Year Built": null,
          "index": 7
         },
         {
          "CLEAN Boat Type": "Other",
          "Country": "Germany",
          "Currency": "EUR",
          "Euros": 3333,
          "Fuel Type": null,
          "Length": 3.64,
          "Material": null,
          "Sale Type": "New Boat",
          "Views": 45,
          "Width": 1.37,
          "Year Built": 2019,
          "index": 8
         },
         {
          "CLEAN Boat Type": "Other",
          "Country": "Italy",
          "Currency": "EUR",
          "Euros": 3300,
          "Fuel Type": null,
          "Length": 4.35,
          "Material": null,
          "Sale Type": "New Boat",
          "Views": 180,
          "Width": 1.73,
          "Year Built": 2018,
          "index": 9
         },
         {
          "CLEAN Boat Type": "Other",
          "Country": "Switzerland",
          "Currency": "CHF",
          "Euros": 3675,
          "Fuel Type": "Other",
          "Length": 4.35,
          "Material": "GRP",
          "Sale Type": "Used Boat",
          "Views": 239,
          "Width": 1.75,
          "Year Built": 1987,
          "index": 10
         },
         {
          "CLEAN Boat Type": "Other",
          "Country": "Switzerland",
          "Currency": "CHF",
          "Euros": 3654,
          "Fuel Type": null,
          "Length": 4.13,
          "Material": "Aluminium",
          "Sale Type": "New Boat",
          "Views": 145,
          "Width": 1.41,
          "Year Built": null,
          "index": 11
         },
         {
          "CLEAN Boat Type": "Sport Boat",
          "Country": "Italy",
          "Currency": "EUR",
          "Euros": 3500,
          "Fuel Type": null,
          "Length": 4.7,
          "Material": "GRP",
          "Sale Type": "Used Boat",
          "Views": 69,
          "Width": 2,
          "Year Built": 2004,
          "index": 12
         },
         {
          "CLEAN Boat Type": "Other",
          "Country": "Switzerland",
          "Currency": "CHF",
          "Euros": 4830,
          "Fuel Type": null,
          "Length": 4.4,
          "Material": "Aluminium",
          "Sale Type": "New Boat",
          "Views": 113,
          "Width": 1.65,
          "Year Built": 2020,
          "index": 13
         },
         {
          "CLEAN Boat Type": "Other",
          "Country": "Switzerland",
          "Currency": "CHF",
          "Euros": 4620,
          "Fuel Type": "Unleaded",
          "Length": 3.88,
          "Material": "Aluminium",
          "Sale Type": "New Boat",
          "Views": 263,
          "Width": 1.49,
          "Year Built": null,
          "index": 15
         },
         {
          "CLEAN Boat Type": "Sport Boat",
          "Country": "Denmark",
          "Currency": "DKK",
          "Euros": 3900,
          "Fuel Type": null,
          "Length": 4,
          "Material": null,
          "Sale Type": "Used Boat",
          "Views": 124,
          "Width": 1,
          "Year Built": 1985,
          "index": 17
         },
         {
          "CLEAN Boat Type": "Pilothouse",
          "Country": "France",
          "Currency": "EUR",
          "Euros": 4000,
          "Fuel Type": "Diesel",
          "Length": 8,
          "Material": "PVC",
          "Sale Type": "Used Boat",
          "Views": 265,
          "Width": 2.84,
          "Year Built": 1981,
          "index": 18
         },
         {
          "CLEAN Boat Type": "Other",
          "Country": "Germany",
          "Currency": "EUR",
          "Euros": 3999,
          "Fuel Type": null,
          "Length": 3.55,
          "Material": "Aluminium",
          "Sale Type": "New Boat",
          "Views": 69,
          "Width": 1.46,
          "Year Built": 2019,
          "index": 20
         },
         {
          "CLEAN Boat Type": "Other",
          "Country": "Switzerland",
          "Currency": "CHF",
          "Euros": 4480.35,
          "Fuel Type": "Unleaded",
          "Length": 3.78,
          "Material": "GRP",
          "Sale Type": "New Boat",
          "Views": 198,
          "Width": 1.71,
          "Year Built": null,
          "index": 21
         },
         {
          "CLEAN Boat Type": "Sport Boat",
          "Country": "Germany",
          "Currency": "EUR",
          "Euros": 3930,
          "Fuel Type": "Unleaded",
          "Length": 4.31,
          "Material": "Aluminium",
          "Sale Type": "New Boat",
          "Views": 90,
          "Width": 1.64,
          "Year Built": 2020,
          "index": 22
         },
         {
          "CLEAN Boat Type": "Sport Boat",
          "Country": "Germany",
          "Currency": "EUR",
          "Euros": 3900,
          "Fuel Type": "Unleaded",
          "Length": 5.6,
          "Material": "GRP",
          "Sale Type": "Used Boat",
          "Views": 98,
          "Width": 2.1,
          "Year Built": 1979,
          "index": 23
         },
         {
          "CLEAN Boat Type": "Other",
          "Country": "Switzerland",
          "Currency": "CHF",
          "Euros": 4410,
          "Fuel Type": "Unleaded",
          "Length": 5.7,
          "Material": "GRP",
          "Sale Type": "Used Boat",
          "Views": 160,
          "Width": 1.55,
          "Year Built": 1998,
          "index": 25
         },
         {
          "CLEAN Boat Type": "Other",
          "Country": "Switzerland",
          "Currency": "CHF",
          "Euros": 4410,
          "Fuel Type": "Unleaded",
          "Length": 4,
          "Material": "GRP",
          "Sale Type": "Used Boat",
          "Views": 295,
          "Width": 1.5,
          "Year Built": null,
          "index": 26
         },
         {
          "CLEAN Boat Type": "Other",
          "Country": "Switzerland",
          "Currency": "CHF",
          "Euros": 4231.5,
          "Fuel Type": null,
          "Length": 3.55,
          "Material": "Aluminium",
          "Sale Type": "New Boat",
          "Views": 130,
          "Width": 1.46,
          "Year Built": 2018,
          "index": 27
         },
         {
          "CLEAN Boat Type": "Sport Boat",
          "Country": "Switzerland",
          "Currency": "CHF",
          "Euros": 4147.5,
          "Fuel Type": null,
          "Length": 4.84,
          "Material": "GRP",
          "Sale Type": "Used Boat",
          "Views": 202,
          "Width": 1.58,
          "Year Built": 1996,
          "index": 30
         },
         {
          "CLEAN Boat Type": "Sport Boat",
          "Country": "Switzerland",
          "Currency": "CHF",
          "Euros": 4084.5,
          "Fuel Type": null,
          "Length": 3.81,
          "Material": null,
          "Sale Type": "New Boat",
          "Views": 105,
          "Width": 1.65,
          "Year Built": null,
          "index": 32
         },
         {
          "CLEAN Boat Type": "Sport Boat",
          "Country": "Switzerland",
          "Currency": "CHF",
          "Euros": 4042.5,
          "Fuel Type": null,
          "Length": 3.55,
          "Material": "Aluminium",
          "Sale Type": "New Boat",
          "Views": 120,
          "Width": 1.46,
          "Year Built": null,
          "index": 33
         },
         {
          "CLEAN Boat Type": "Other",
          "Country": "Switzerland",
          "Currency": "CHF",
          "Euros": 3990,
          "Fuel Type": "Unleaded",
          "Length": 4.41,
          "Material": "Aluminium",
          "Sale Type": "Used Boat",
          "Views": 255,
          "Width": 1.71,
          "Year Built": 1996,
          "index": 34
         },
         {
          "CLEAN Boat Type": "Sport Boat",
          "Country": "Switzerland",
          "Currency": "CHF",
          "Euros": 3979.5,
          "Fuel Type": null,
          "Length": 3.93,
          "Material": null,
          "Sale Type": "New Boat",
          "Views": 144,
          "Width": 1.55,
          "Year Built": null,
          "index": 37
         },
         {
          "CLEAN Boat Type": "Center console boat",
          "Country": "Germany",
          "Currency": "EUR",
          "Euros": 3500,
          "Fuel Type": "Unleaded",
          "Length": 4.4,
          "Material": "GRP",
          "Sale Type": "Used Boat",
          "Views": 133,
          "Width": 1.5,
          "Year Built": 1983,
          "index": 38
         },
         {
          "CLEAN Boat Type": "Sport Boat",
          "Country": "France",
          "Currency": "EUR",
          "Euros": 3500,
          "Fuel Type": "Unleaded",
          "Length": 4,
          "Material": null,
          "Sale Type": "Used Boat",
          "Views": 98,
          "Width": 1.62,
          "Year Built": 1991,
          "index": 39
         },
         {
          "CLEAN Boat Type": "Other",
          "Country": "UK",
          "Currency": "Â£",
          "Euros": 5893.8,
          "Fuel Type": null,
          "Length": 3.88,
          "Material": null,
          "Sale Type": "New Boat",
          "Views": 54,
          "Width": 1.49,
          "Year Built": 2019,
          "index": 41
         },
         {
          "CLEAN Boat Type": "Other",
          "Country": "Italy",
          "Currency": "EUR",
          "Euros": 5500,
          "Fuel Type": null,
          "Length": 4.3,
          "Material": null,
          "Sale Type": "New Boat",
          "Views": 201,
          "Width": null,
          "Year Built": 2017,
          "index": 42
         },
         {
          "CLEAN Boat Type": "Sport Boat",
          "Country": "Germany",
          "Currency": "EUR",
          "Euros": 5500,
          "Fuel Type": null,
          "Length": 5.2,
          "Material": "GRP",
          "Sale Type": "New Boat",
          "Views": 186,
          "Width": 2.2,
          "Year Built": 2018,
          "index": 43
         },
         {
          "CLEAN Boat Type": "Center console boat",
          "Country": "Spain",
          "Currency": "EUR",
          "Euros": 5500,
          "Fuel Type": "Unleaded",
          "Length": 4.4,
          "Material": "PVC",
          "Sale Type": "Used Boat",
          "Views": 118,
          "Width": 1.78,
          "Year Built": 1997,
          "index": 44
         },
         {
          "CLEAN Boat Type": "Sport Boat",
          "Country": "Italy",
          "Currency": "EUR",
          "Euros": 5500,
          "Fuel Type": null,
          "Length": 5.5,
          "Material": "GRP",
          "Sale Type": "Used Boat",
          "Views": 74,
          "Width": 2.06,
          "Year Built": 1961,
          "index": 45
         },
         {
          "CLEAN Boat Type": "Sport Boat",
          "Country": "Italy",
          "Currency": "EUR",
          "Euros": 5450,
          "Fuel Type": null,
          "Length": 4.3,
          "Material": null,
          "Sale Type": "New Boat",
          "Views": 57,
          "Width": 1.75,
          "Year Built": 2018,
          "index": 47
         },
         {
          "CLEAN Boat Type": "Sport Boat",
          "Country": "Switzerland",
          "Currency": "CHF",
          "Euros": 6142.5,
          "Fuel Type": null,
          "Length": 4.45,
          "Material": "Aluminium",
          "Sale Type": "New Boat",
          "Views": 219,
          "Width": 1.67,
          "Year Built": null,
          "index": 48
         },
         {
          "CLEAN Boat Type": "Other",
          "Country": "Germany",
          "Currency": "EUR",
          "Euros": 5399,
          "Fuel Type": null,
          "Length": 4.01,
          "Material": "Aluminium",
          "Sale Type": "New Boat",
          "Views": 67,
          "Width": 1.64,
          "Year Built": 2018,
          "index": 49
         },
         {
          "CLEAN Boat Type": "Other",
          "Country": "Denmark",
          "Currency": "DKK",
          "Euros": 5187,
          "Fuel Type": null,
          "Length": 4.3,
          "Material": null,
          "Sale Type": "New Boat",
          "Views": 217,
          "Width": null,
          "Year Built": 2015,
          "index": 50
         },
         {
          "CLEAN Boat Type": "Sport Boat",
          "Country": "Germany",
          "Currency": "EUR",
          "Euros": 5250,
          "Fuel Type": "Unleaded",
          "Length": 4.5,
          "Material": "GRP",
          "Sale Type": "Used Boat",
          "Views": 178,
          "Width": 1.9,
          "Year Built": 1993,
          "index": 52
         },
         {
          "CLEAN Boat Type": "Other",
          "Country": "Germany",
          "Currency": "EUR",
          "Euros": 5200,
          "Fuel Type": null,
          "Length": 4.2,
          "Material": "Aluminium",
          "Sale Type": "New Boat",
          "Views": 141,
          "Width": 1.85,
          "Year Built": 2020,
          "index": 53
         },
         {
          "CLEAN Boat Type": "Sport Boat",
          "Country": "Switzerland",
          "Currency": "CHF",
          "Euros": 5775,
          "Fuel Type": null,
          "Length": 4.05,
          "Material": "GRP",
          "Sale Type": "Used Boat",
          "Views": 278,
          "Width": 1.58,
          "Year Built": 1968,
          "index": 54
         },
         {
          "CLEAN Boat Type": "Other",
          "Country": "Switzerland",
          "Currency": "CHF",
          "Euros": 5775,
          "Fuel Type": null,
          "Length": 4,
          "Material": "Aluminium",
          "Sale Type": "New Boat",
          "Views": 99,
          "Width": 1.65,
          "Year Built": 2020,
          "index": 55
         },
         {
          "CLEAN Boat Type": "Sport Boat",
          "Country": "Switzerland",
          "Currency": "CHF",
          "Euros": 7654.5,
          "Fuel Type": null,
          "Length": 4.51,
          "Material": "Aluminium",
          "Sale Type": "New Boat",
          "Views": 195,
          "Width": 1.75,
          "Year Built": null,
          "index": 56
         },
         {
          "CLEAN Boat Type": "Other",
          "Country": "Denmark",
          "Currency": "DKK",
          "Euros": 6435,
          "Fuel Type": null,
          "Length": 5,
          "Material": null,
          "Sale Type": "Used Boat",
          "Views": 204,
          "Width": 2,
          "Year Built": 2007,
          "index": 58
         },
         {
          "CLEAN Boat Type": "Other",
          "Country": "Germany",
          "Currency": "EUR",
          "Euros": 6590,
          "Fuel Type": "Unleaded",
          "Length": 5.5,
          "Material": "GRP",
          "Sale Type": "Used Boat",
          "Views": 277,
          "Width": 1.9,
          "Year Built": 1972,
          "index": 59
         },
         {
          "CLEAN Boat Type": "Cabin Boat",
          "Country": "Italy",
          "Currency": "EUR",
          "Euros": 6500,
          "Fuel Type": "Diesel",
          "Length": 6.28,
          "Material": "GRP",
          "Sale Type": "Used Boat",
          "Views": 85,
          "Width": 2.27,
          "Year Built": 1990,
          "index": 60
         },
         {
          "CLEAN Boat Type": "Other",
          "Country": "Germany",
          "Currency": "EUR",
          "Euros": 6500,
          "Fuel Type": null,
          "Length": 5.7,
          "Material": "GRP",
          "Sale Type": "New Boat",
          "Views": 122,
          "Width": 2.2,
          "Year Built": 2018,
          "index": 61
         },
         {
          "CLEAN Boat Type": "Other",
          "Country": "Italy",
          "Currency": "EUR",
          "Euros": 6500,
          "Fuel Type": "Unleaded",
          "Length": 5,
          "Material": "GRP",
          "Sale Type": "Used Boat",
          "Views": 183,
          "Width": 2.15,
          "Year Built": 2010,
          "index": 62
         },
         {
          "CLEAN Boat Type": "Cabin Boat",
          "Country": "Germany",
          "Currency": "EUR",
          "Euros": 6500,
          "Fuel Type": "Unleaded",
          "Length": 8,
          "Material": "GRP",
          "Sale Type": "Used Boat",
          "Views": 289,
          "Width": 2.1,
          "Year Built": 1968,
          "index": 63
         }
        ],
        "schema": {
         "fields": [
          {
           "name": "index",
           "type": "integer"
          },
          {
           "name": "Views",
           "type": "integer"
          },
          {
           "name": "Euros",
           "type": "number"
          },
          {
           "name": "Year Built",
           "type": "number"
          },
          {
           "name": "Length",
           "type": "number"
          },
          {
           "name": "Width",
           "type": "number"
          },
          {
           "name": "Currency",
           "type": "string"
          },
          {
           "name": "CLEAN Boat Type",
           "type": "string"
          },
          {
           "name": "Sale Type",
           "type": "string"
          },
          {
           "name": "Fuel Type",
           "type": "string"
          },
          {
           "name": "Material",
           "type": "string"
          },
          {
           "name": "Country",
           "type": "string"
          }
         ],
         "pandas_version": "1.4.0",
         "primaryKey": [
          "index"
         ]
        }
       },
       "total_rows": 50,
       "truncation_type": null
      },
      "text/html": [
       "<div>\n",
       "<style scoped>\n",
       "    .dataframe tbody tr th:only-of-type {\n",
       "        vertical-align: middle;\n",
       "    }\n",
       "\n",
       "    .dataframe tbody tr th {\n",
       "        vertical-align: top;\n",
       "    }\n",
       "\n",
       "    .dataframe thead th {\n",
       "        text-align: right;\n",
       "    }\n",
       "</style>\n",
       "<table border=\"1\" class=\"dataframe\">\n",
       "  <thead>\n",
       "    <tr style=\"text-align: right;\">\n",
       "      <th></th>\n",
       "      <th>Views</th>\n",
       "      <th>Euros</th>\n",
       "      <th>Year Built</th>\n",
       "      <th>Length</th>\n",
       "      <th>Width</th>\n",
       "      <th>Currency</th>\n",
       "      <th>CLEAN Boat Type</th>\n",
       "      <th>Sale Type</th>\n",
       "      <th>Fuel Type</th>\n",
       "      <th>Material</th>\n",
       "      <th>Country</th>\n",
       "    </tr>\n",
       "  </thead>\n",
       "  <tbody>\n",
       "    <tr>\n",
       "      <th>0</th>\n",
       "      <td>226</td>\n",
       "      <td>3503.85</td>\n",
       "      <td>2017.0</td>\n",
       "      <td>4.00</td>\n",
       "      <td>1.90</td>\n",
       "      <td>CHF</td>\n",
       "      <td>Motor Yacht</td>\n",
       "      <td>New Boat</td>\n",
       "      <td>None</td>\n",
       "      <td>NaN</td>\n",
       "      <td>Switzerland</td>\n",
       "    </tr>\n",
       "    <tr>\n",
       "      <th>1</th>\n",
       "      <td>75</td>\n",
       "      <td>3490.00</td>\n",
       "      <td>2020.0</td>\n",
       "      <td>4.00</td>\n",
       "      <td>1.50</td>\n",
       "      <td>EUR</td>\n",
       "      <td>Center console boat</td>\n",
       "      <td>New Boat</td>\n",
       "      <td>None</td>\n",
       "      <td>Thermoplastic</td>\n",
       "      <td>Germany</td>\n",
       "    </tr>\n",
       "    <tr>\n",
       "      <th>2</th>\n",
       "      <td>124</td>\n",
       "      <td>3958.50</td>\n",
       "      <td>NaN</td>\n",
       "      <td>3.69</td>\n",
       "      <td>1.42</td>\n",
       "      <td>CHF</td>\n",
       "      <td>Sport Boat</td>\n",
       "      <td>New Boat</td>\n",
       "      <td>None</td>\n",
       "      <td>Aluminium</td>\n",
       "      <td>Switzerland</td>\n",
       "    </tr>\n",
       "    <tr>\n",
       "      <th>3</th>\n",
       "      <td>64</td>\n",
       "      <td>3367.00</td>\n",
       "      <td>2020.0</td>\n",
       "      <td>3.00</td>\n",
       "      <td>1.00</td>\n",
       "      <td>DKK</td>\n",
       "      <td>Sport Boat</td>\n",
       "      <td>New Boat</td>\n",
       "      <td>None</td>\n",
       "      <td>NaN</td>\n",
       "      <td>Denmark</td>\n",
       "    </tr>\n",
       "    <tr>\n",
       "      <th>4</th>\n",
       "      <td>58</td>\n",
       "      <td>3399.00</td>\n",
       "      <td>2019.0</td>\n",
       "      <td>3.55</td>\n",
       "      <td>1.46</td>\n",
       "      <td>EUR</td>\n",
       "      <td>Other</td>\n",
       "      <td>New Boat</td>\n",
       "      <td>None</td>\n",
       "      <td>Aluminium</td>\n",
       "      <td>Germany</td>\n",
       "    </tr>\n",
       "    <tr>\n",
       "      <th>5</th>\n",
       "      <td>132</td>\n",
       "      <td>3832.50</td>\n",
       "      <td>NaN</td>\n",
       "      <td>4.03</td>\n",
       "      <td>1.56</td>\n",
       "      <td>CHF</td>\n",
       "      <td>Sport Boat</td>\n",
       "      <td>New Boat</td>\n",
       "      <td>None</td>\n",
       "      <td>Aluminium</td>\n",
       "      <td>Switzerland</td>\n",
       "    </tr>\n",
       "    <tr>\n",
       "      <th>7</th>\n",
       "      <td>134</td>\n",
       "      <td>3224.00</td>\n",
       "      <td>NaN</td>\n",
       "      <td>3.00</td>\n",
       "      <td>NaN</td>\n",
       "      <td>DKK</td>\n",
       "      <td>Sport Boat</td>\n",
       "      <td>Used Boat</td>\n",
       "      <td>None</td>\n",
       "      <td>NaN</td>\n",
       "      <td>Denmark</td>\n",
       "    </tr>\n",
       "    <tr>\n",
       "      <th>8</th>\n",
       "      <td>45</td>\n",
       "      <td>3333.00</td>\n",
       "      <td>2019.0</td>\n",
       "      <td>3.64</td>\n",
       "      <td>1.37</td>\n",
       "      <td>EUR</td>\n",
       "      <td>Other</td>\n",
       "      <td>New Boat</td>\n",
       "      <td>None</td>\n",
       "      <td>NaN</td>\n",
       "      <td>Germany</td>\n",
       "    </tr>\n",
       "    <tr>\n",
       "      <th>9</th>\n",
       "      <td>180</td>\n",
       "      <td>3300.00</td>\n",
       "      <td>2018.0</td>\n",
       "      <td>4.35</td>\n",
       "      <td>1.73</td>\n",
       "      <td>EUR</td>\n",
       "      <td>Other</td>\n",
       "      <td>New Boat</td>\n",
       "      <td>None</td>\n",
       "      <td>NaN</td>\n",
       "      <td>Italy</td>\n",
       "    </tr>\n",
       "    <tr>\n",
       "      <th>10</th>\n",
       "      <td>239</td>\n",
       "      <td>3675.00</td>\n",
       "      <td>1987.0</td>\n",
       "      <td>4.35</td>\n",
       "      <td>1.75</td>\n",
       "      <td>CHF</td>\n",
       "      <td>Other</td>\n",
       "      <td>Used Boat</td>\n",
       "      <td>Other</td>\n",
       "      <td>GRP</td>\n",
       "      <td>Switzerland</td>\n",
       "    </tr>\n",
       "    <tr>\n",
       "      <th>11</th>\n",
       "      <td>145</td>\n",
       "      <td>3654.00</td>\n",
       "      <td>NaN</td>\n",
       "      <td>4.13</td>\n",
       "      <td>1.41</td>\n",
       "      <td>CHF</td>\n",
       "      <td>Other</td>\n",
       "      <td>New Boat</td>\n",
       "      <td>None</td>\n",
       "      <td>Aluminium</td>\n",
       "      <td>Switzerland</td>\n",
       "    </tr>\n",
       "    <tr>\n",
       "      <th>12</th>\n",
       "      <td>69</td>\n",
       "      <td>3500.00</td>\n",
       "      <td>2004.0</td>\n",
       "      <td>4.70</td>\n",
       "      <td>2.00</td>\n",
       "      <td>EUR</td>\n",
       "      <td>Sport Boat</td>\n",
       "      <td>Used Boat</td>\n",
       "      <td>None</td>\n",
       "      <td>GRP</td>\n",
       "      <td>Italy</td>\n",
       "    </tr>\n",
       "    <tr>\n",
       "      <th>13</th>\n",
       "      <td>113</td>\n",
       "      <td>4830.00</td>\n",
       "      <td>2020.0</td>\n",
       "      <td>4.40</td>\n",
       "      <td>1.65</td>\n",
       "      <td>CHF</td>\n",
       "      <td>Other</td>\n",
       "      <td>New Boat</td>\n",
       "      <td>None</td>\n",
       "      <td>Aluminium</td>\n",
       "      <td>Switzerland</td>\n",
       "    </tr>\n",
       "    <tr>\n",
       "      <th>15</th>\n",
       "      <td>263</td>\n",
       "      <td>4620.00</td>\n",
       "      <td>NaN</td>\n",
       "      <td>3.88</td>\n",
       "      <td>1.49</td>\n",
       "      <td>CHF</td>\n",
       "      <td>Other</td>\n",
       "      <td>New Boat</td>\n",
       "      <td>Unleaded</td>\n",
       "      <td>Aluminium</td>\n",
       "      <td>Switzerland</td>\n",
       "    </tr>\n",
       "    <tr>\n",
       "      <th>17</th>\n",
       "      <td>124</td>\n",
       "      <td>3900.00</td>\n",
       "      <td>1985.0</td>\n",
       "      <td>4.00</td>\n",
       "      <td>1.00</td>\n",
       "      <td>DKK</td>\n",
       "      <td>Sport Boat</td>\n",
       "      <td>Used Boat</td>\n",
       "      <td>None</td>\n",
       "      <td>NaN</td>\n",
       "      <td>Denmark</td>\n",
       "    </tr>\n",
       "    <tr>\n",
       "      <th>18</th>\n",
       "      <td>265</td>\n",
       "      <td>4000.00</td>\n",
       "      <td>1981.0</td>\n",
       "      <td>8.00</td>\n",
       "      <td>2.84</td>\n",
       "      <td>EUR</td>\n",
       "      <td>Pilothouse</td>\n",
       "      <td>Used Boat</td>\n",
       "      <td>Diesel</td>\n",
       "      <td>PVC</td>\n",
       "      <td>France</td>\n",
       "    </tr>\n",
       "    <tr>\n",
       "      <th>20</th>\n",
       "      <td>69</td>\n",
       "      <td>3999.00</td>\n",
       "      <td>2019.0</td>\n",
       "      <td>3.55</td>\n",
       "      <td>1.46</td>\n",
       "      <td>EUR</td>\n",
       "      <td>Other</td>\n",
       "      <td>New Boat</td>\n",
       "      <td>None</td>\n",
       "      <td>Aluminium</td>\n",
       "      <td>Germany</td>\n",
       "    </tr>\n",
       "    <tr>\n",
       "      <th>21</th>\n",
       "      <td>198</td>\n",
       "      <td>4480.35</td>\n",
       "      <td>NaN</td>\n",
       "      <td>3.78</td>\n",
       "      <td>1.71</td>\n",
       "      <td>CHF</td>\n",
       "      <td>Other</td>\n",
       "      <td>New Boat</td>\n",
       "      <td>Unleaded</td>\n",
       "      <td>GRP</td>\n",
       "      <td>Switzerland</td>\n",
       "    </tr>\n",
       "    <tr>\n",
       "      <th>22</th>\n",
       "      <td>90</td>\n",
       "      <td>3930.00</td>\n",
       "      <td>2020.0</td>\n",
       "      <td>4.31</td>\n",
       "      <td>1.64</td>\n",
       "      <td>EUR</td>\n",
       "      <td>Sport Boat</td>\n",
       "      <td>New Boat</td>\n",
       "      <td>Unleaded</td>\n",
       "      <td>Aluminium</td>\n",
       "      <td>Germany</td>\n",
       "    </tr>\n",
       "    <tr>\n",
       "      <th>23</th>\n",
       "      <td>98</td>\n",
       "      <td>3900.00</td>\n",
       "      <td>1979.0</td>\n",
       "      <td>5.60</td>\n",
       "      <td>2.10</td>\n",
       "      <td>EUR</td>\n",
       "      <td>Sport Boat</td>\n",
       "      <td>Used Boat</td>\n",
       "      <td>Unleaded</td>\n",
       "      <td>GRP</td>\n",
       "      <td>Germany</td>\n",
       "    </tr>\n",
       "    <tr>\n",
       "      <th>25</th>\n",
       "      <td>160</td>\n",
       "      <td>4410.00</td>\n",
       "      <td>1998.0</td>\n",
       "      <td>5.70</td>\n",
       "      <td>1.55</td>\n",
       "      <td>CHF</td>\n",
       "      <td>Other</td>\n",
       "      <td>Used Boat</td>\n",
       "      <td>Unleaded</td>\n",
       "      <td>GRP</td>\n",
       "      <td>Switzerland</td>\n",
       "    </tr>\n",
       "    <tr>\n",
       "      <th>26</th>\n",
       "      <td>295</td>\n",
       "      <td>4410.00</td>\n",
       "      <td>NaN</td>\n",
       "      <td>4.00</td>\n",
       "      <td>1.50</td>\n",
       "      <td>CHF</td>\n",
       "      <td>Other</td>\n",
       "      <td>Used Boat</td>\n",
       "      <td>Unleaded</td>\n",
       "      <td>GRP</td>\n",
       "      <td>Switzerland</td>\n",
       "    </tr>\n",
       "    <tr>\n",
       "      <th>27</th>\n",
       "      <td>130</td>\n",
       "      <td>4231.50</td>\n",
       "      <td>2018.0</td>\n",
       "      <td>3.55</td>\n",
       "      <td>1.46</td>\n",
       "      <td>CHF</td>\n",
       "      <td>Other</td>\n",
       "      <td>New Boat</td>\n",
       "      <td>None</td>\n",
       "      <td>Aluminium</td>\n",
       "      <td>Switzerland</td>\n",
       "    </tr>\n",
       "    <tr>\n",
       "      <th>30</th>\n",
       "      <td>202</td>\n",
       "      <td>4147.50</td>\n",
       "      <td>1996.0</td>\n",
       "      <td>4.84</td>\n",
       "      <td>1.58</td>\n",
       "      <td>CHF</td>\n",
       "      <td>Sport Boat</td>\n",
       "      <td>Used Boat</td>\n",
       "      <td>None</td>\n",
       "      <td>GRP</td>\n",
       "      <td>Switzerland</td>\n",
       "    </tr>\n",
       "    <tr>\n",
       "      <th>32</th>\n",
       "      <td>105</td>\n",
       "      <td>4084.50</td>\n",
       "      <td>NaN</td>\n",
       "      <td>3.81</td>\n",
       "      <td>1.65</td>\n",
       "      <td>CHF</td>\n",
       "      <td>Sport Boat</td>\n",
       "      <td>New Boat</td>\n",
       "      <td>None</td>\n",
       "      <td>NaN</td>\n",
       "      <td>Switzerland</td>\n",
       "    </tr>\n",
       "    <tr>\n",
       "      <th>33</th>\n",
       "      <td>120</td>\n",
       "      <td>4042.50</td>\n",
       "      <td>NaN</td>\n",
       "      <td>3.55</td>\n",
       "      <td>1.46</td>\n",
       "      <td>CHF</td>\n",
       "      <td>Sport Boat</td>\n",
       "      <td>New Boat</td>\n",
       "      <td>None</td>\n",
       "      <td>Aluminium</td>\n",
       "      <td>Switzerland</td>\n",
       "    </tr>\n",
       "    <tr>\n",
       "      <th>34</th>\n",
       "      <td>255</td>\n",
       "      <td>3990.00</td>\n",
       "      <td>1996.0</td>\n",
       "      <td>4.41</td>\n",
       "      <td>1.71</td>\n",
       "      <td>CHF</td>\n",
       "      <td>Other</td>\n",
       "      <td>Used Boat</td>\n",
       "      <td>Unleaded</td>\n",
       "      <td>Aluminium</td>\n",
       "      <td>Switzerland</td>\n",
       "    </tr>\n",
       "    <tr>\n",
       "      <th>37</th>\n",
       "      <td>144</td>\n",
       "      <td>3979.50</td>\n",
       "      <td>NaN</td>\n",
       "      <td>3.93</td>\n",
       "      <td>1.55</td>\n",
       "      <td>CHF</td>\n",
       "      <td>Sport Boat</td>\n",
       "      <td>New Boat</td>\n",
       "      <td>None</td>\n",
       "      <td>NaN</td>\n",
       "      <td>Switzerland</td>\n",
       "    </tr>\n",
       "    <tr>\n",
       "      <th>38</th>\n",
       "      <td>133</td>\n",
       "      <td>3500.00</td>\n",
       "      <td>1983.0</td>\n",
       "      <td>4.40</td>\n",
       "      <td>1.50</td>\n",
       "      <td>EUR</td>\n",
       "      <td>Center console boat</td>\n",
       "      <td>Used Boat</td>\n",
       "      <td>Unleaded</td>\n",
       "      <td>GRP</td>\n",
       "      <td>Germany</td>\n",
       "    </tr>\n",
       "    <tr>\n",
       "      <th>39</th>\n",
       "      <td>98</td>\n",
       "      <td>3500.00</td>\n",
       "      <td>1991.0</td>\n",
       "      <td>4.00</td>\n",
       "      <td>1.62</td>\n",
       "      <td>EUR</td>\n",
       "      <td>Sport Boat</td>\n",
       "      <td>Used Boat</td>\n",
       "      <td>Unleaded</td>\n",
       "      <td>NaN</td>\n",
       "      <td>France</td>\n",
       "    </tr>\n",
       "    <tr>\n",
       "      <th>41</th>\n",
       "      <td>54</td>\n",
       "      <td>5893.80</td>\n",
       "      <td>2019.0</td>\n",
       "      <td>3.88</td>\n",
       "      <td>1.49</td>\n",
       "      <td>Â£</td>\n",
       "      <td>Other</td>\n",
       "      <td>New Boat</td>\n",
       "      <td>None</td>\n",
       "      <td>NaN</td>\n",
       "      <td>UK</td>\n",
       "    </tr>\n",
       "    <tr>\n",
       "      <th>42</th>\n",
       "      <td>201</td>\n",
       "      <td>5500.00</td>\n",
       "      <td>2017.0</td>\n",
       "      <td>4.30</td>\n",
       "      <td>NaN</td>\n",
       "      <td>EUR</td>\n",
       "      <td>Other</td>\n",
       "      <td>New Boat</td>\n",
       "      <td>None</td>\n",
       "      <td>NaN</td>\n",
       "      <td>Italy</td>\n",
       "    </tr>\n",
       "    <tr>\n",
       "      <th>43</th>\n",
       "      <td>186</td>\n",
       "      <td>5500.00</td>\n",
       "      <td>2018.0</td>\n",
       "      <td>5.20</td>\n",
       "      <td>2.20</td>\n",
       "      <td>EUR</td>\n",
       "      <td>Sport Boat</td>\n",
       "      <td>New Boat</td>\n",
       "      <td>None</td>\n",
       "      <td>GRP</td>\n",
       "      <td>Germany</td>\n",
       "    </tr>\n",
       "    <tr>\n",
       "      <th>44</th>\n",
       "      <td>118</td>\n",
       "      <td>5500.00</td>\n",
       "      <td>1997.0</td>\n",
       "      <td>4.40</td>\n",
       "      <td>1.78</td>\n",
       "      <td>EUR</td>\n",
       "      <td>Center console boat</td>\n",
       "      <td>Used Boat</td>\n",
       "      <td>Unleaded</td>\n",
       "      <td>PVC</td>\n",
       "      <td>Spain</td>\n",
       "    </tr>\n",
       "    <tr>\n",
       "      <th>45</th>\n",
       "      <td>74</td>\n",
       "      <td>5500.00</td>\n",
       "      <td>1961.0</td>\n",
       "      <td>5.50</td>\n",
       "      <td>2.06</td>\n",
       "      <td>EUR</td>\n",
       "      <td>Sport Boat</td>\n",
       "      <td>Used Boat</td>\n",
       "      <td>None</td>\n",
       "      <td>GRP</td>\n",
       "      <td>Italy</td>\n",
       "    </tr>\n",
       "    <tr>\n",
       "      <th>47</th>\n",
       "      <td>57</td>\n",
       "      <td>5450.00</td>\n",
       "      <td>2018.0</td>\n",
       "      <td>4.30</td>\n",
       "      <td>1.75</td>\n",
       "      <td>EUR</td>\n",
       "      <td>Sport Boat</td>\n",
       "      <td>New Boat</td>\n",
       "      <td>None</td>\n",
       "      <td>NaN</td>\n",
       "      <td>Italy</td>\n",
       "    </tr>\n",
       "    <tr>\n",
       "      <th>48</th>\n",
       "      <td>219</td>\n",
       "      <td>6142.50</td>\n",
       "      <td>NaN</td>\n",
       "      <td>4.45</td>\n",
       "      <td>1.67</td>\n",
       "      <td>CHF</td>\n",
       "      <td>Sport Boat</td>\n",
       "      <td>New Boat</td>\n",
       "      <td>None</td>\n",
       "      <td>Aluminium</td>\n",
       "      <td>Switzerland</td>\n",
       "    </tr>\n",
       "    <tr>\n",
       "      <th>49</th>\n",
       "      <td>67</td>\n",
       "      <td>5399.00</td>\n",
       "      <td>2018.0</td>\n",
       "      <td>4.01</td>\n",
       "      <td>1.64</td>\n",
       "      <td>EUR</td>\n",
       "      <td>Other</td>\n",
       "      <td>New Boat</td>\n",
       "      <td>None</td>\n",
       "      <td>Aluminium</td>\n",
       "      <td>Germany</td>\n",
       "    </tr>\n",
       "    <tr>\n",
       "      <th>50</th>\n",
       "      <td>217</td>\n",
       "      <td>5187.00</td>\n",
       "      <td>2015.0</td>\n",
       "      <td>4.30</td>\n",
       "      <td>NaN</td>\n",
       "      <td>DKK</td>\n",
       "      <td>Other</td>\n",
       "      <td>New Boat</td>\n",
       "      <td>None</td>\n",
       "      <td>NaN</td>\n",
       "      <td>Denmark</td>\n",
       "    </tr>\n",
       "    <tr>\n",
       "      <th>52</th>\n",
       "      <td>178</td>\n",
       "      <td>5250.00</td>\n",
       "      <td>1993.0</td>\n",
       "      <td>4.50</td>\n",
       "      <td>1.90</td>\n",
       "      <td>EUR</td>\n",
       "      <td>Sport Boat</td>\n",
       "      <td>Used Boat</td>\n",
       "      <td>Unleaded</td>\n",
       "      <td>GRP</td>\n",
       "      <td>Germany</td>\n",
       "    </tr>\n",
       "    <tr>\n",
       "      <th>53</th>\n",
       "      <td>141</td>\n",
       "      <td>5200.00</td>\n",
       "      <td>2020.0</td>\n",
       "      <td>4.20</td>\n",
       "      <td>1.85</td>\n",
       "      <td>EUR</td>\n",
       "      <td>Other</td>\n",
       "      <td>New Boat</td>\n",
       "      <td>None</td>\n",
       "      <td>Aluminium</td>\n",
       "      <td>Germany</td>\n",
       "    </tr>\n",
       "    <tr>\n",
       "      <th>54</th>\n",
       "      <td>278</td>\n",
       "      <td>5775.00</td>\n",
       "      <td>1968.0</td>\n",
       "      <td>4.05</td>\n",
       "      <td>1.58</td>\n",
       "      <td>CHF</td>\n",
       "      <td>Sport Boat</td>\n",
       "      <td>Used Boat</td>\n",
       "      <td>None</td>\n",
       "      <td>GRP</td>\n",
       "      <td>Switzerland</td>\n",
       "    </tr>\n",
       "    <tr>\n",
       "      <th>55</th>\n",
       "      <td>99</td>\n",
       "      <td>5775.00</td>\n",
       "      <td>2020.0</td>\n",
       "      <td>4.00</td>\n",
       "      <td>1.65</td>\n",
       "      <td>CHF</td>\n",
       "      <td>Other</td>\n",
       "      <td>New Boat</td>\n",
       "      <td>None</td>\n",
       "      <td>Aluminium</td>\n",
       "      <td>Switzerland</td>\n",
       "    </tr>\n",
       "    <tr>\n",
       "      <th>56</th>\n",
       "      <td>195</td>\n",
       "      <td>7654.50</td>\n",
       "      <td>NaN</td>\n",
       "      <td>4.51</td>\n",
       "      <td>1.75</td>\n",
       "      <td>CHF</td>\n",
       "      <td>Sport Boat</td>\n",
       "      <td>New Boat</td>\n",
       "      <td>None</td>\n",
       "      <td>Aluminium</td>\n",
       "      <td>Switzerland</td>\n",
       "    </tr>\n",
       "    <tr>\n",
       "      <th>58</th>\n",
       "      <td>204</td>\n",
       "      <td>6435.00</td>\n",
       "      <td>2007.0</td>\n",
       "      <td>5.00</td>\n",
       "      <td>2.00</td>\n",
       "      <td>DKK</td>\n",
       "      <td>Other</td>\n",
       "      <td>Used Boat</td>\n",
       "      <td>None</td>\n",
       "      <td>NaN</td>\n",
       "      <td>Denmark</td>\n",
       "    </tr>\n",
       "    <tr>\n",
       "      <th>59</th>\n",
       "      <td>277</td>\n",
       "      <td>6590.00</td>\n",
       "      <td>1972.0</td>\n",
       "      <td>5.50</td>\n",
       "      <td>1.90</td>\n",
       "      <td>EUR</td>\n",
       "      <td>Other</td>\n",
       "      <td>Used Boat</td>\n",
       "      <td>Unleaded</td>\n",
       "      <td>GRP</td>\n",
       "      <td>Germany</td>\n",
       "    </tr>\n",
       "    <tr>\n",
       "      <th>60</th>\n",
       "      <td>85</td>\n",
       "      <td>6500.00</td>\n",
       "      <td>1990.0</td>\n",
       "      <td>6.28</td>\n",
       "      <td>2.27</td>\n",
       "      <td>EUR</td>\n",
       "      <td>Cabin Boat</td>\n",
       "      <td>Used Boat</td>\n",
       "      <td>Diesel</td>\n",
       "      <td>GRP</td>\n",
       "      <td>Italy</td>\n",
       "    </tr>\n",
       "    <tr>\n",
       "      <th>61</th>\n",
       "      <td>122</td>\n",
       "      <td>6500.00</td>\n",
       "      <td>2018.0</td>\n",
       "      <td>5.70</td>\n",
       "      <td>2.20</td>\n",
       "      <td>EUR</td>\n",
       "      <td>Other</td>\n",
       "      <td>New Boat</td>\n",
       "      <td>None</td>\n",
       "      <td>GRP</td>\n",
       "      <td>Germany</td>\n",
       "    </tr>\n",
       "    <tr>\n",
       "      <th>62</th>\n",
       "      <td>183</td>\n",
       "      <td>6500.00</td>\n",
       "      <td>2010.0</td>\n",
       "      <td>5.00</td>\n",
       "      <td>2.15</td>\n",
       "      <td>EUR</td>\n",
       "      <td>Other</td>\n",
       "      <td>Used Boat</td>\n",
       "      <td>Unleaded</td>\n",
       "      <td>GRP</td>\n",
       "      <td>Italy</td>\n",
       "    </tr>\n",
       "    <tr>\n",
       "      <th>63</th>\n",
       "      <td>289</td>\n",
       "      <td>6500.00</td>\n",
       "      <td>1968.0</td>\n",
       "      <td>8.00</td>\n",
       "      <td>2.10</td>\n",
       "      <td>EUR</td>\n",
       "      <td>Cabin Boat</td>\n",
       "      <td>Used Boat</td>\n",
       "      <td>Unleaded</td>\n",
       "      <td>GRP</td>\n",
       "      <td>Germany</td>\n",
       "    </tr>\n",
       "  </tbody>\n",
       "</table>\n",
       "</div>"
      ],
      "text/plain": [
       "    Views    Euros  Year Built  Length  Width Currency      CLEAN Boat Type  \\\n",
       "0     226  3503.85      2017.0    4.00   1.90      CHF          Motor Yacht   \n",
       "1      75  3490.00      2020.0    4.00   1.50      EUR  Center console boat   \n",
       "2     124  3958.50         NaN    3.69   1.42      CHF           Sport Boat   \n",
       "3      64  3367.00      2020.0    3.00   1.00      DKK           Sport Boat   \n",
       "4      58  3399.00      2019.0    3.55   1.46      EUR                Other   \n",
       "5     132  3832.50         NaN    4.03   1.56      CHF           Sport Boat   \n",
       "7     134  3224.00         NaN    3.00    NaN      DKK           Sport Boat   \n",
       "8      45  3333.00      2019.0    3.64   1.37      EUR                Other   \n",
       "9     180  3300.00      2018.0    4.35   1.73      EUR                Other   \n",
       "10    239  3675.00      1987.0    4.35   1.75      CHF                Other   \n",
       "11    145  3654.00         NaN    4.13   1.41      CHF                Other   \n",
       "12     69  3500.00      2004.0    4.70   2.00      EUR           Sport Boat   \n",
       "13    113  4830.00      2020.0    4.40   1.65      CHF                Other   \n",
       "15    263  4620.00         NaN    3.88   1.49      CHF                Other   \n",
       "17    124  3900.00      1985.0    4.00   1.00      DKK           Sport Boat   \n",
       "18    265  4000.00      1981.0    8.00   2.84      EUR           Pilothouse   \n",
       "20     69  3999.00      2019.0    3.55   1.46      EUR                Other   \n",
       "21    198  4480.35         NaN    3.78   1.71      CHF                Other   \n",
       "22     90  3930.00      2020.0    4.31   1.64      EUR           Sport Boat   \n",
       "23     98  3900.00      1979.0    5.60   2.10      EUR           Sport Boat   \n",
       "25    160  4410.00      1998.0    5.70   1.55      CHF                Other   \n",
       "26    295  4410.00         NaN    4.00   1.50      CHF                Other   \n",
       "27    130  4231.50      2018.0    3.55   1.46      CHF                Other   \n",
       "30    202  4147.50      1996.0    4.84   1.58      CHF           Sport Boat   \n",
       "32    105  4084.50         NaN    3.81   1.65      CHF           Sport Boat   \n",
       "33    120  4042.50         NaN    3.55   1.46      CHF           Sport Boat   \n",
       "34    255  3990.00      1996.0    4.41   1.71      CHF                Other   \n",
       "37    144  3979.50         NaN    3.93   1.55      CHF           Sport Boat   \n",
       "38    133  3500.00      1983.0    4.40   1.50      EUR  Center console boat   \n",
       "39     98  3500.00      1991.0    4.00   1.62      EUR           Sport Boat   \n",
       "41     54  5893.80      2019.0    3.88   1.49       Â£                Other   \n",
       "42    201  5500.00      2017.0    4.30    NaN      EUR                Other   \n",
       "43    186  5500.00      2018.0    5.20   2.20      EUR           Sport Boat   \n",
       "44    118  5500.00      1997.0    4.40   1.78      EUR  Center console boat   \n",
       "45     74  5500.00      1961.0    5.50   2.06      EUR           Sport Boat   \n",
       "47     57  5450.00      2018.0    4.30   1.75      EUR           Sport Boat   \n",
       "48    219  6142.50         NaN    4.45   1.67      CHF           Sport Boat   \n",
       "49     67  5399.00      2018.0    4.01   1.64      EUR                Other   \n",
       "50    217  5187.00      2015.0    4.30    NaN      DKK                Other   \n",
       "52    178  5250.00      1993.0    4.50   1.90      EUR           Sport Boat   \n",
       "53    141  5200.00      2020.0    4.20   1.85      EUR                Other   \n",
       "54    278  5775.00      1968.0    4.05   1.58      CHF           Sport Boat   \n",
       "55     99  5775.00      2020.0    4.00   1.65      CHF                Other   \n",
       "56    195  7654.50         NaN    4.51   1.75      CHF           Sport Boat   \n",
       "58    204  6435.00      2007.0    5.00   2.00      DKK                Other   \n",
       "59    277  6590.00      1972.0    5.50   1.90      EUR                Other   \n",
       "60     85  6500.00      1990.0    6.28   2.27      EUR           Cabin Boat   \n",
       "61    122  6500.00      2018.0    5.70   2.20      EUR                Other   \n",
       "62    183  6500.00      2010.0    5.00   2.15      EUR                Other   \n",
       "63    289  6500.00      1968.0    8.00   2.10      EUR           Cabin Boat   \n",
       "\n",
       "    Sale Type Fuel Type       Material      Country  \n",
       "0    New Boat      None            NaN  Switzerland  \n",
       "1    New Boat      None  Thermoplastic      Germany  \n",
       "2    New Boat      None      Aluminium  Switzerland  \n",
       "3    New Boat      None            NaN      Denmark  \n",
       "4    New Boat      None      Aluminium      Germany  \n",
       "5    New Boat      None      Aluminium  Switzerland  \n",
       "7   Used Boat      None            NaN      Denmark  \n",
       "8    New Boat      None            NaN      Germany  \n",
       "9    New Boat      None            NaN        Italy  \n",
       "10  Used Boat     Other            GRP  Switzerland  \n",
       "11   New Boat      None      Aluminium  Switzerland  \n",
       "12  Used Boat      None            GRP        Italy  \n",
       "13   New Boat      None      Aluminium  Switzerland  \n",
       "15   New Boat  Unleaded      Aluminium  Switzerland  \n",
       "17  Used Boat      None            NaN      Denmark  \n",
       "18  Used Boat    Diesel            PVC       France  \n",
       "20   New Boat      None      Aluminium      Germany  \n",
       "21   New Boat  Unleaded            GRP  Switzerland  \n",
       "22   New Boat  Unleaded      Aluminium      Germany  \n",
       "23  Used Boat  Unleaded            GRP      Germany  \n",
       "25  Used Boat  Unleaded            GRP  Switzerland  \n",
       "26  Used Boat  Unleaded            GRP  Switzerland  \n",
       "27   New Boat      None      Aluminium  Switzerland  \n",
       "30  Used Boat      None            GRP  Switzerland  \n",
       "32   New Boat      None            NaN  Switzerland  \n",
       "33   New Boat      None      Aluminium  Switzerland  \n",
       "34  Used Boat  Unleaded      Aluminium  Switzerland  \n",
       "37   New Boat      None            NaN  Switzerland  \n",
       "38  Used Boat  Unleaded            GRP      Germany  \n",
       "39  Used Boat  Unleaded            NaN       France  \n",
       "41   New Boat      None            NaN           UK  \n",
       "42   New Boat      None            NaN        Italy  \n",
       "43   New Boat      None            GRP      Germany  \n",
       "44  Used Boat  Unleaded            PVC        Spain  \n",
       "45  Used Boat      None            GRP        Italy  \n",
       "47   New Boat      None            NaN        Italy  \n",
       "48   New Boat      None      Aluminium  Switzerland  \n",
       "49   New Boat      None      Aluminium      Germany  \n",
       "50   New Boat      None            NaN      Denmark  \n",
       "52  Used Boat  Unleaded            GRP      Germany  \n",
       "53   New Boat      None      Aluminium      Germany  \n",
       "54  Used Boat      None            GRP  Switzerland  \n",
       "55   New Boat      None      Aluminium  Switzerland  \n",
       "56   New Boat      None      Aluminium  Switzerland  \n",
       "58  Used Boat      None            NaN      Denmark  \n",
       "59  Used Boat  Unleaded            GRP      Germany  \n",
       "60  Used Boat    Diesel            GRP        Italy  \n",
       "61   New Boat      None            GRP      Germany  \n",
       "62  Used Boat  Unleaded            GRP        Italy  \n",
       "63  Used Boat  Unleaded            GRP      Germany  "
      ]
     },
     "execution_count": 26,
     "metadata": {},
     "output_type": "execute_result"
    }
   ],
   "source": [
    "# Here is the clean dataset with the cleaned up features\n",
    "\n",
    "num_variables = ['Euros','Year Built','Length','Width']\n",
    "cat_variables = ['Currency','CLEAN Boat Type','Sale Type','Fuel Type','Material','Country']\n",
    "\n",
    "df_clean = df_raw[['Views'] + num_variables + cat_variables]\n",
    "df_clean.head(50)"
   ]
  },
  {
   "cell_type": "markdown",
   "id": "ee78175f-758b-42ab-8fc2-76a125608e7d",
   "metadata": {},
   "source": [
    "## Data PreProcessing\n",
    "\n",
    "### Summary:\n",
    "- Missing data: There are missing variables across a number of numeric variables but all of these missing variables are close to or fewer than 5% of the sample so I will just remove them. There are other missing values for categorical variables but those will be handled automatically during the one-hot encoding process\n",
    "- One-hot encoding: I will use the pandas get_dummies method to create dummy variables from all of the categorical features. \n",
    "- Split into test and training sets with a test size of 20%\n",
    "- Scale all of the variables so that no feature has more power to influence the results than others. "
   ]
  },
  {
   "cell_type": "markdown",
   "id": "1043064b-a08b-4b56-8462-78d93c6ec2ba",
   "metadata": {},
   "source": [
    "### Drop Missing Data\n",
    "\n",
    "Figure out which variables have fewer than 5% of values missing and drop them. \n",
    "For the original sample of 9,888 entries, 5% is 494 missing values but since year built is close enough and I don't think we have enough information to impute the year, I am just going to drop those. "
   ]
  },
  {
   "cell_type": "code",
   "execution_count": 27,
   "id": "e658e867-267b-4bf2-af2e-4a51dd2a6866",
   "metadata": {},
   "outputs": [
    {
     "name": "stdout",
     "output_type": "stream",
     "text": [
      "Views                 0\n",
      "Euros                 0\n",
      "Currency              0\n",
      "CLEAN Boat Type       0\n",
      "Country               0\n",
      "Length                7\n",
      "Width                51\n",
      "Sale Type            77\n",
      "Year Built          529\n",
      "Material           1697\n",
      "Fuel Type          2123\n",
      "dtype: int64\n"
     ]
    }
   ],
   "source": [
    "print(df_clean.isna().sum().sort_values())"
   ]
  },
  {
   "cell_type": "code",
   "execution_count": 28,
   "id": "2dcb124c-ce2e-435c-828e-aae8eee11d5a",
   "metadata": {},
   "outputs": [
    {
     "name": "stdout",
     "output_type": "stream",
     "text": [
      "Views                 0\n",
      "Euros                 0\n",
      "Year Built            0\n",
      "Length                0\n",
      "Width                 0\n",
      "Currency              0\n",
      "CLEAN Boat Type       0\n",
      "Sale Type             0\n",
      "Country               0\n",
      "Material           1560\n",
      "Fuel Type          1956\n",
      "dtype: int64\n"
     ]
    }
   ],
   "source": [
    "df_clean = df_clean.dropna(subset = ['Length','Country','Width','Sale Type','Year Built'])\n",
    "print(df_clean.isna().sum().sort_values())"
   ]
  },
  {
   "cell_type": "markdown",
   "id": "47e27731-879e-4acf-a6c1-9f3b6a83da2f",
   "metadata": {},
   "source": [
    "### Perform one-hot dummy Encoding"
   ]
  },
  {
   "cell_type": "code",
   "execution_count": 29,
   "id": "6a2e9a94-a617-4931-97e8-8fec2f11dd4f",
   "metadata": {},
   "outputs": [
    {
     "name": "stdout",
     "output_type": "stream",
     "text": [
      "Views                int64\n",
      "Euros              float64\n",
      "Year Built         float64\n",
      "Length             float64\n",
      "Width              float64\n",
      "Currency            object\n",
      "CLEAN Boat Type     object\n",
      "Sale Type           object\n",
      "Fuel Type           object\n",
      "Material            object\n",
      "Country             object\n",
      "dtype: object\n"
     ]
    }
   ],
   "source": [
    "print(df_clean.dtypes)"
   ]
  },
  {
   "cell_type": "code",
   "execution_count": 30,
   "id": "ed899568-a814-4d27-963b-12db04ec1cad",
   "metadata": {},
   "outputs": [
    {
     "name": "stdout",
     "output_type": "stream",
     "text": [
      "The size of data is: (8476, 40)\n"
     ]
    }
   ],
   "source": [
    "data = pd.get_dummies(df_clean, drop_first=True)\n",
    "print(\"The size of data is: {}\".format(data.shape))\n",
    "# print(data.isna().sum().sort_values())"
   ]
  },
  {
   "cell_type": "markdown",
   "id": "61a72b56-d3e8-4083-9e74-6f0a6dff2a80",
   "metadata": {},
   "source": [
    "## Get Training and Test sets"
   ]
  },
  {
   "cell_type": "code",
   "execution_count": 31,
   "id": "3809ac16-1c00-48d4-8015-89cbb73fb37c",
   "metadata": {},
   "outputs": [],
   "source": [
    "from sklearn.model_selection import train_test_split\n",
    "from sklearn.preprocessing import StandardScaler\n",
    "\n",
    "\n",
    "X = data.drop('Views', axis = 1).values\n",
    "y = data['Views'].values\n",
    "\n",
    "X_train, X_test, y_train, y_test = train_test_split(X, y, test_size = 0.2, random_state = 1)\n",
    "\n",
    "scaler = StandardScaler()\n",
    "X_train_scaled = scaler.fit_transform(X_train)\n",
    "X_test_scaled = scaler.transform(X_test)"
   ]
  },
  {
   "cell_type": "markdown",
   "id": "4c29e2a5-7fa6-4656-bac4-a6a05f9fb1a0",
   "metadata": {},
   "source": [
    "# Model Evaluation\n",
    "\n",
    "After tuning the hyperparameters on many of the top regression algorithms and looking at multiple metrics of performance, a random forest was chosen to be the optimal algorithm to predict listing views. \n",
    "\n",
    "## Hyperparameter tuning\n",
    "\n"
   ]
  },
  {
   "cell_type": "code",
   "execution_count": 32,
   "id": "69b2ec57-d791-4baa-bc8f-8932781a16e2",
   "metadata": {},
   "outputs": [
    {
     "name": "stdout",
     "output_type": "stream",
     "text": [
      "The best Linear score is 0.26\n",
      "The best Ridge score is 0.26 with parameters: {'alpha': 0.1}\n",
      "The best Lasso score is 0.26 with parameters: {'alpha': 0.1}\n",
      "The best KNN score is 0.06 with parameters: {'leaf_size': 50, 'n_neighbors': 29}\n",
      "The best RF score is 0.33 with parameters: {'max_depth': 10, 'max_features': 'sqrt', 'n_estimators': 150}\n",
      "The best GB score is 0.33 with parameters: {'subsample': 1, 'n_estimators': 500, 'max_depth': 2, 'learning_rate': 0.1}\n"
     ]
    }
   ],
   "source": [
    "# Determine Optimal hyperparameters for various algorithms\n",
    "from sklearn.linear_model import LinearRegression\n",
    "from sklearn.linear_model import Ridge\n",
    "from sklearn.linear_model import Lasso\n",
    "from sklearn.neighbors import KNeighborsRegressor\n",
    "from sklearn.ensemble import RandomForestRegressor\n",
    "from sklearn.ensemble import GradientBoostingRegressor\n",
    "\n",
    "from sklearn.model_selection import KFold, cross_val_score\n",
    "from sklearn.model_selection import RandomizedSearchCV, GridSearchCV\n",
    "\n",
    "kf = KFold(n_splits = 5, shuffle = True, random_state = 123)\n",
    "\n",
    "lm = LinearRegression()\n",
    "lm_cv = cross_val_score(lm,X_train,y_train,cv = kf)\n",
    "lm_score = np.mean(lm_cv)\n",
    "print(\"The best Linear score is {:.2f}\".format(lm_score))\n",
    "\n",
    "Regression_opt_params = {\n",
    "    'alpha':np.arange(0.1,1,10)\n",
    "}\n",
    "ridge = Ridge()\n",
    "ridge_cv = RandomizedSearchCV(ridge,Regression_opt_params, cv=kf)\n",
    "ridge_cv.fit(X_train,y_train)\n",
    "print(\"The best Ridge score is {:.2f} with parameters: {}\".format(ridge_cv.best_score_,ridge_cv.best_params_))\n",
    "\n",
    "lasso = Lasso()\n",
    "lasso_cv = RandomizedSearchCV(lasso,Regression_opt_params, cv=kf)\n",
    "lasso_cv.fit(X_train,y_train)\n",
    "print(\"The best Lasso score is {:.2f} with parameters: {}\".format(lasso_cv.best_score_,lasso_cv.best_params_))\n",
    "\n",
    "KNN_opt_params= { \n",
    "    'n_neighbors' : np.arange( 2, 30, 1 ),   \n",
    "    'leaf_size' : np.arange( 50, 150, 10 )\n",
    "    }\n",
    "knn = KNeighborsRegressor()\n",
    "knn_cv = GridSearchCV(knn,KNN_opt_params, cv=kf)\n",
    "knn_cv.fit(X_train,y_train)\n",
    "print(\"The best KNN score is {:.2f} with parameters: {}\".format(knn_cv.best_score_,knn_cv.best_params_))\n",
    "\n",
    "RF_opt_params= { \n",
    "    'n_estimators': np.arange(100,200,10),\n",
    "    'max_depth' : np.arange(2,11,1),\n",
    "    'max_features': ['sqrt', 'log2']\n",
    "    }\n",
    "rf = RandomForestRegressor()\n",
    "rf_cv = GridSearchCV(rf,RF_opt_params, cv=kf)\n",
    "rf_cv.fit(X_train,y_train)\n",
    "print(\"The best RF score is {:.2f} with parameters: {}\".format(rf_cv.best_score_,rf_cv.best_params_))\n",
    "\n",
    "GB_opt_params={\n",
    "    'n_estimators':[500,1000,2000],\n",
    "    'learning_rate':[.001,0.01,.1],\n",
    "    'max_depth':[1,2,4],\n",
    "    'subsample':[.5,.75,1]\n",
    "\t}\n",
    "gb = GradientBoostingRegressor()\n",
    "gb_cv = RandomizedSearchCV(gb,GB_opt_params, cv=kf)\n",
    "gb_cv.fit(X_train,y_train)\n",
    "print(\"The best GB score is {:.2f} with parameters: {}\".format(gb_cv.best_score_,gb_cv.best_params_))"
   ]
  },
  {
   "cell_type": "markdown",
   "id": "7f768e6e-5db2-44e6-99bc-168b8c6eb838",
   "metadata": {},
   "source": [
    "## Evaluating Model Performance\n",
    "\n",
    "Using the above hyperparameters, I will look at model performance using a few different metrics\n",
    "- R-squared from hyper parameter tuning\n",
    "- Distribution of cross-validation scores\n",
    "- Root-mean-squared-error\n",
    "- Percent Difference calculated as (predicted - actual) / actual\n",
    "\n",
    "The most important metric is the percent difference because in the project scope, the requirement was given that predictions needed to be within 50% of the observed views. "
   ]
  },
  {
   "cell_type": "code",
   "execution_count": 33,
   "id": "00a54aee-3f2f-442c-b09e-cde4c1e68e87",
   "metadata": {},
   "outputs": [
    {
     "data": {
      "image/png": "[encoded data removed]",
      "text/plain": [
       "<Figure size 640x480 with 1 Axes>"
      ]
     },
     "metadata": {},
     "output_type": "display_data"
    }
   ],
   "source": [
    "import matplotlib.pyplot as plt\n",
    "from sklearn.model_selection import cross_val_score, KFold\n",
    "from sklearn.linear_model import LinearRegression\n",
    "from sklearn.linear_model import Ridge\n",
    "from sklearn.linear_model import Lasso\n",
    "from sklearn.neighbors import KNeighborsRegressor\n",
    "from sklearn.ensemble import RandomForestRegressor\n",
    "from sklearn.ensemble import GradientBoostingRegressor\n",
    "\n",
    "# Insert hyperparameters from above\n",
    "models = {\"Linear Regression\": LinearRegression(), \n",
    "          \"Ridge\": Ridge(alpha=0.1), \n",
    "          \"Lasso\": Lasso(alpha=0.1),\n",
    "          \"KNN\": KNeighborsRegressor(n_neighbors = 20,leaf_size = 45), \n",
    "          #\"Random Forest\": RandomForestRegressor(random_state = 123,n_estimators = 110, max_features = 'sqrt',max_depth = 10),\n",
    "          \"Random Forest\": RandomForestRegressor(random_state = 123,n_estimators = 100),\n",
    "          \"Gradient Boosting\":GradientBoostingRegressor(random_state = 123,subsample = 0.5,\n",
    "                                                        n_estimators = 500, max_depth = 2,learning_rate = 0.1)}\n",
    "\n",
    "results = []\n",
    "# Loop through the models' values\n",
    "for model in models.values():\n",
    "  kf = KFold(n_splits=10, random_state=123, shuffle=True)\n",
    "  \n",
    "  # Perform cross-validation\n",
    "  cv_scores = cross_val_score(model, X_train_scaled, y_train, cv=kf)\n",
    "  \n",
    "  # Append the results\n",
    "  results.append(cv_scores)\n",
    "\n",
    "# Create a box plot of the results\n",
    "plt.boxplot(results, labels=models.keys())\n",
    "plt.xticks(rotation = 45)\n",
    "plt.show() "
   ]
  },
  {
   "cell_type": "code",
   "execution_count": 34,
   "id": "8888ec21-d166-4c8f-9848-a4871446820a",
   "metadata": {},
   "outputs": [
    {
     "name": "stdout",
     "output_type": "stream",
     "text": [
      "Linear Regression Test Set RMSE: 55.42 and mean % difference: 0.523\n",
      "Ridge Test Set RMSE: 55.42 and mean % difference: 0.523\n",
      "Lasso Test Set RMSE: 55.42 and mean % difference: 0.524\n",
      "KNN Test Set RMSE: 53.58 and mean % difference: 0.468\n",
      "Random Forest Test Set RMSE: 53.03 and mean % difference: 0.465\n",
      "Gradient Boosting Test Set RMSE: 52.46 and mean % difference: 0.470\n"
     ]
    }
   ],
   "source": [
    "from sklearn.metrics import mean_squared_error\n",
    "\n",
    "for name, model in models.items():\n",
    "  \n",
    "  # Fit the model to the training data\n",
    "  model.fit(X_train_scaled, y_train)\n",
    "  \n",
    "  # Make predictions on the test set\n",
    "  y_pred = model.predict(X_test_scaled)\n",
    "  pred_differences = np.absolute((y_pred - y_test) / y_test)\n",
    "  \n",
    "  # Calculate the test_rmse and % difference\n",
    "  test_rmse = mean_squared_error(y_test, y_pred, squared=False)\n",
    "  perc_mean = np.mean(pred_differences)\n",
    "  print(\"{} Test Set RMSE: {:.2f} and mean % difference: {:.3f}\".format(name, test_rmse, perc_mean))"
   ]
  },
  {
   "cell_type": "markdown",
   "id": "9a5f8bea-c6cb-4325-93c4-a8c9754d8c35",
   "metadata": {},
   "source": [
    "# Diving deeper into the Random Forest\n",
    "\n",
    "In the project requirements, I was told to find an algorithm that had a performance within 50% of the actual value. While there were 3 algorithms that met this requirement, I chose to use the Random Forest because it had the lowest RMSE and the lowest % difference. \n",
    "\n",
    "See below for Feature Importance"
   ]
  },
  {
   "cell_type": "code",
   "execution_count": 35,
   "id": "afd89928-104a-4296-b404-10597e70ce63",
   "metadata": {},
   "outputs": [
    {
     "name": "stdout",
     "output_type": "stream",
     "text": [
      "R-squared for the model: -2.4047450737745093\n",
      "Mean Squared Error for the model: 53.027761368678206\n"
     ]
    }
   ],
   "source": [
    "from sklearn.ensemble import RandomForestRegressor\n",
    "\n",
    "reg = RandomForestRegressor(random_state = 123,n_estimators = 100)\n",
    "#reg = GradientBoostingRegressor(random_state = 123,subsample = 0.5,n_estimators = 500, max_depth = 2,learning_rate = 0.1)\n",
    "reg.fit(X_train_scaled, y_train)\n",
    "predictions = reg.predict(X_test_scaled)\n",
    "\n",
    "from sklearn.metrics import mean_squared_error\n",
    "r_squared = reg.score(X_test,y_test)\n",
    "rmse = mean_squared_error(y_test, predictions, squared = False)\n",
    "\n",
    "print(\"R-squared for the model: {}\".format(r_squared))\n",
    "print(\"Mean Squared Error for the model: {}\".format(rmse))"
   ]
  },
  {
   "cell_type": "code",
   "execution_count": 36,
   "id": "b4b48c82-620b-4d11-b406-f2346b22dc93",
   "metadata": {},
   "outputs": [
    {
     "name": "stdout",
     "output_type": "stream",
     "text": [
      "Measures of Central Tendency\n",
      "  Mean = 0.4651251248559912\n",
      "  Median = 0.3127948679471788\n",
      "Measures of Dispersion\n",
      "  Minimum = 0.0008571428571428896\n",
      "  Maximum = 4.177727272727273\n",
      "  Range = 4.17687012987013\n",
      "  Variance = 0.262845451451654\n",
      "  Standard Deviation = 0.5126845535528196\n"
     ]
    }
   ],
   "source": [
    "prediction_differences = np.absolute((predictions - y_test) / y_test)\n",
    "\n",
    "# measures of central tendency\n",
    "mean = np.mean(prediction_differences)\n",
    "median = np.median(prediction_differences)\n",
    " \n",
    "# measures of dispersion\n",
    "min = np.amin(prediction_differences)\n",
    "max = np.amax(prediction_differences)\n",
    "range = np.ptp(prediction_differences)\n",
    "variance = np.var(prediction_differences)\n",
    "sd = np.std(prediction_differences)\n",
    "\n",
    "print(\"Measures of Central Tendency\")\n",
    "print(\"  Mean =\", mean)\n",
    "print(\"  Median =\", median)\n",
    "print(\"Measures of Dispersion\")\n",
    "print(\"  Minimum =\", min)\n",
    "print(\"  Maximum =\", max)\n",
    "print(\"  Range =\", range)\n",
    "print(\"  Variance =\", variance)\n",
    "print(\"  Standard Deviation =\", sd)"
   ]
  },
  {
   "cell_type": "markdown",
   "id": "441d367a-dbaf-4247-8697-74fa0f75bdda",
   "metadata": {},
   "source": [
    "## Feature Importance of the model\n",
    "\n",
    "From a quick look at feature importance, it appears that price is the strongest predictor of views. This is followed up by boat size and age. It also appears that boats selling in Switzerland and Germany are the most popular. After that, GRP (fiberglass) and PVC boats come to the top, followed by unleaded gas boats and motor yachts. "
   ]
  },
  {
   "cell_type": "code",
   "execution_count": 37,
   "id": "6089f6f4-8351-41e2-82ea-06f6a8b56496",
   "metadata": {},
   "outputs": [
    {
     "data": {
      "application/com.datacamp.data-table.v1+json": {
       "table": {
        "data": [
         {
          "Importance": 0.2192246588,
          "Label": "Euros",
          "index": 0
         },
         {
          "Importance": 0.1520916576,
          "Label": "Country_Switzerland",
          "index": 37
         },
         {
          "Importance": 0.1500236456,
          "Label": "Length",
          "index": 2
         },
         {
          "Importance": 0.1300341333,
          "Label": "Width",
          "index": 3
         },
         {
          "Importance": 0.1183193908,
          "Label": "Year Built",
          "index": 1
         },
         {
          "Importance": 0.0210634427,
          "Label": "Country_Germany",
          "index": 32
         },
         {
          "Importance": 0.0172027767,
          "Label": "Material_GRP",
          "index": 21
         },
         {
          "Importance": 0.0168244462,
          "Label": "Material_PVC",
          "index": 23
         },
         {
          "Importance": 0.0131644944,
          "Label": "Fuel Type_Unleaded",
          "index": 19
         },
         {
          "Importance": 0.0131137992,
          "Label": "CLEAN Boat Type_Motor Yacht",
          "index": 11
         },
         {
          "Importance": 0.012248789,
          "Label": "Country_Other",
          "index": 35
         },
         {
          "Importance": 0.0110526116,
          "Label": "CLEAN Boat Type_Other",
          "index": 12
         },
         {
          "Importance": 0.0108727835,
          "Label": "CLEAN Boat Type_Cabin Boat",
          "index": 7
         },
         {
          "Importance": 0.0104994599,
          "Label": "Sale Type_New Boat",
          "index": 16
         },
         {
          "Importance": 0.01022076,
          "Label": "CLEAN Boat Type_Sport Boat",
          "index": 14
         },
         {
          "Importance": 0.009326378,
          "Label": "Country_Italy",
          "index": 33
         },
         {
          "Importance": 0.0079498278,
          "Label": "Sale Type_Used Boat",
          "index": 17
         },
         {
          "Importance": 0.0078033549,
          "Label": "CLEAN Boat Type_Pilothouse",
          "index": 13
         },
         {
          "Importance": 0.0067966139,
          "Label": "Country_Spain",
          "index": 36
         },
         {
          "Importance": 0.0065259602,
          "Label": "Country_Netherlands",
          "index": 34
         },
         {
          "Importance": 0.0064115321,
          "Label": "CLEAN Boat Type_Center console boat",
          "index": 8
         },
         {
          "Importance": 0.0060345462,
          "Label": "CLEAN Boat Type_Flybridge",
          "index": 9
         },
         {
          "Importance": 0.0058153563,
          "Label": "CLEAN Boat Type_Hardtop",
          "index": 10
         },
         {
          "Importance": 0.0057818605,
          "Label": "Country_France",
          "index": 31
         },
         {
          "Importance": 0.0056997258,
          "Label": "Currency_EUR",
          "index": 5
         },
         {
          "Importance": 0.0047550046,
          "Label": "Material_Steel",
          "index": 27
         },
         {
          "Importance": 0.0043422714,
          "Label": "Material_Plastic",
          "index": 24
         },
         {
          "Importance": 0.0038519208,
          "Label": "CLEAN Boat Type_Trawler",
          "index": 15
         },
         {
          "Importance": 0.0030746251,
          "Label": "Material_Wood",
          "index": 29
         },
         {
          "Importance": 0.002905887,
          "Label": "Country_Denmark",
          "index": 30
         },
         {
          "Importance": 0.0017629942,
          "Label": "Currency_Â£",
          "index": 6
         },
         {
          "Importance": 0.0017373199,
          "Label": "Currency_DKK",
          "index": 4
         },
         {
          "Importance": 0.0012283176,
          "Label": "Fuel Type_Other",
          "index": 18
         },
         {
          "Importance": 0.0011807202,
          "Label": "Country_UK",
          "index": 38
         },
         {
          "Importance": 0.0007423188,
          "Label": "Material_Carbon Fiber",
          "index": 20
         },
         {
          "Importance": 0.0001897676,
          "Label": "Material_Hypalon",
          "index": 22
         },
         {
          "Importance": 0.0001086875,
          "Label": "Material_Thermoplastic",
          "index": 28
         },
         {
          "Importance": 1.48239e-05,
          "Label": "Material_Reinforced concrete",
          "index": 25
         },
         {
          "Importance": 3.3363e-06,
          "Label": "Material_Rubber",
          "index": 26
         }
        ],
        "schema": {
         "fields": [
          {
           "name": "index",
           "type": "integer"
          },
          {
           "name": "Label",
           "type": "string"
          },
          {
           "name": "Importance",
           "type": "number"
          }
         ],
         "pandas_version": "1.4.0",
         "primaryKey": [
          "index"
         ]
        }
       },
       "total_rows": 39,
       "truncation_type": null
      },
      "text/html": [
       "<div>\n",
       "<style scoped>\n",
       "    .dataframe tbody tr th:only-of-type {\n",
       "        vertical-align: middle;\n",
       "    }\n",
       "\n",
       "    .dataframe tbody tr th {\n",
       "        vertical-align: top;\n",
       "    }\n",
       "\n",
       "    .dataframe thead th {\n",
       "        text-align: right;\n",
       "    }\n",
       "</style>\n",
       "<table border=\"1\" class=\"dataframe\">\n",
       "  <thead>\n",
       "    <tr style=\"text-align: right;\">\n",
       "      <th></th>\n",
       "      <th>Label</th>\n",
       "      <th>Importance</th>\n",
       "    </tr>\n",
       "  </thead>\n",
       "  <tbody>\n",
       "    <tr>\n",
       "      <th>0</th>\n",
       "      <td>Euros</td>\n",
       "      <td>0.219225</td>\n",
       "    </tr>\n",
       "    <tr>\n",
       "      <th>37</th>\n",
       "      <td>Country_Switzerland</td>\n",
       "      <td>0.152092</td>\n",
       "    </tr>\n",
       "    <tr>\n",
       "      <th>2</th>\n",
       "      <td>Length</td>\n",
       "      <td>0.150024</td>\n",
       "    </tr>\n",
       "    <tr>\n",
       "      <th>3</th>\n",
       "      <td>Width</td>\n",
       "      <td>0.130034</td>\n",
       "    </tr>\n",
       "    <tr>\n",
       "      <th>1</th>\n",
       "      <td>Year Built</td>\n",
       "      <td>0.118319</td>\n",
       "    </tr>\n",
       "    <tr>\n",
       "      <th>32</th>\n",
       "      <td>Country_Germany</td>\n",
       "      <td>0.021063</td>\n",
       "    </tr>\n",
       "    <tr>\n",
       "      <th>21</th>\n",
       "      <td>Material_GRP</td>\n",
       "      <td>0.017203</td>\n",
       "    </tr>\n",
       "    <tr>\n",
       "      <th>23</th>\n",
       "      <td>Material_PVC</td>\n",
       "      <td>0.016824</td>\n",
       "    </tr>\n",
       "    <tr>\n",
       "      <th>19</th>\n",
       "      <td>Fuel Type_Unleaded</td>\n",
       "      <td>0.013164</td>\n",
       "    </tr>\n",
       "    <tr>\n",
       "      <th>11</th>\n",
       "      <td>CLEAN Boat Type_Motor Yacht</td>\n",
       "      <td>0.013114</td>\n",
       "    </tr>\n",
       "    <tr>\n",
       "      <th>35</th>\n",
       "      <td>Country_Other</td>\n",
       "      <td>0.012249</td>\n",
       "    </tr>\n",
       "    <tr>\n",
       "      <th>12</th>\n",
       "      <td>CLEAN Boat Type_Other</td>\n",
       "      <td>0.011053</td>\n",
       "    </tr>\n",
       "    <tr>\n",
       "      <th>7</th>\n",
       "      <td>CLEAN Boat Type_Cabin Boat</td>\n",
       "      <td>0.010873</td>\n",
       "    </tr>\n",
       "    <tr>\n",
       "      <th>16</th>\n",
       "      <td>Sale Type_New Boat</td>\n",
       "      <td>0.010499</td>\n",
       "    </tr>\n",
       "    <tr>\n",
       "      <th>14</th>\n",
       "      <td>CLEAN Boat Type_Sport Boat</td>\n",
       "      <td>0.010221</td>\n",
       "    </tr>\n",
       "    <tr>\n",
       "      <th>33</th>\n",
       "      <td>Country_Italy</td>\n",
       "      <td>0.009326</td>\n",
       "    </tr>\n",
       "    <tr>\n",
       "      <th>17</th>\n",
       "      <td>Sale Type_Used Boat</td>\n",
       "      <td>0.007950</td>\n",
       "    </tr>\n",
       "    <tr>\n",
       "      <th>13</th>\n",
       "      <td>CLEAN Boat Type_Pilothouse</td>\n",
       "      <td>0.007803</td>\n",
       "    </tr>\n",
       "    <tr>\n",
       "      <th>36</th>\n",
       "      <td>Country_Spain</td>\n",
       "      <td>0.006797</td>\n",
       "    </tr>\n",
       "    <tr>\n",
       "      <th>34</th>\n",
       "      <td>Country_Netherlands</td>\n",
       "      <td>0.006526</td>\n",
       "    </tr>\n",
       "    <tr>\n",
       "      <th>8</th>\n",
       "      <td>CLEAN Boat Type_Center console boat</td>\n",
       "      <td>0.006412</td>\n",
       "    </tr>\n",
       "    <tr>\n",
       "      <th>9</th>\n",
       "      <td>CLEAN Boat Type_Flybridge</td>\n",
       "      <td>0.006035</td>\n",
       "    </tr>\n",
       "    <tr>\n",
       "      <th>10</th>\n",
       "      <td>CLEAN Boat Type_Hardtop</td>\n",
       "      <td>0.005815</td>\n",
       "    </tr>\n",
       "    <tr>\n",
       "      <th>31</th>\n",
       "      <td>Country_France</td>\n",
       "      <td>0.005782</td>\n",
       "    </tr>\n",
       "    <tr>\n",
       "      <th>5</th>\n",
       "      <td>Currency_EUR</td>\n",
       "      <td>0.005700</td>\n",
       "    </tr>\n",
       "    <tr>\n",
       "      <th>27</th>\n",
       "      <td>Material_Steel</td>\n",
       "      <td>0.004755</td>\n",
       "    </tr>\n",
       "    <tr>\n",
       "      <th>24</th>\n",
       "      <td>Material_Plastic</td>\n",
       "      <td>0.004342</td>\n",
       "    </tr>\n",
       "    <tr>\n",
       "      <th>15</th>\n",
       "      <td>CLEAN Boat Type_Trawler</td>\n",
       "      <td>0.003852</td>\n",
       "    </tr>\n",
       "    <tr>\n",
       "      <th>29</th>\n",
       "      <td>Material_Wood</td>\n",
       "      <td>0.003075</td>\n",
       "    </tr>\n",
       "    <tr>\n",
       "      <th>30</th>\n",
       "      <td>Country_Denmark</td>\n",
       "      <td>0.002906</td>\n",
       "    </tr>\n",
       "    <tr>\n",
       "      <th>6</th>\n",
       "      <td>Currency_Â£</td>\n",
       "      <td>0.001763</td>\n",
       "    </tr>\n",
       "    <tr>\n",
       "      <th>4</th>\n",
       "      <td>Currency_DKK</td>\n",
       "      <td>0.001737</td>\n",
       "    </tr>\n",
       "    <tr>\n",
       "      <th>18</th>\n",
       "      <td>Fuel Type_Other</td>\n",
       "      <td>0.001228</td>\n",
       "    </tr>\n",
       "    <tr>\n",
       "      <th>38</th>\n",
       "      <td>Country_UK</td>\n",
       "      <td>0.001181</td>\n",
       "    </tr>\n",
       "    <tr>\n",
       "      <th>20</th>\n",
       "      <td>Material_Carbon Fiber</td>\n",
       "      <td>0.000742</td>\n",
       "    </tr>\n",
       "    <tr>\n",
       "      <th>22</th>\n",
       "      <td>Material_Hypalon</td>\n",
       "      <td>0.000190</td>\n",
       "    </tr>\n",
       "    <tr>\n",
       "      <th>28</th>\n",
       "      <td>Material_Thermoplastic</td>\n",
       "      <td>0.000109</td>\n",
       "    </tr>\n",
       "    <tr>\n",
       "      <th>25</th>\n",
       "      <td>Material_Reinforced concrete</td>\n",
       "      <td>0.000015</td>\n",
       "    </tr>\n",
       "    <tr>\n",
       "      <th>26</th>\n",
       "      <td>Material_Rubber</td>\n",
       "      <td>0.000003</td>\n",
       "    </tr>\n",
       "  </tbody>\n",
       "</table>\n",
       "</div>"
      ],
      "text/plain": [
       "                                  Label  Importance\n",
       "0                                 Euros    0.219225\n",
       "37                  Country_Switzerland    0.152092\n",
       "2                                Length    0.150024\n",
       "3                                 Width    0.130034\n",
       "1                            Year Built    0.118319\n",
       "32                      Country_Germany    0.021063\n",
       "21                         Material_GRP    0.017203\n",
       "23                         Material_PVC    0.016824\n",
       "19                   Fuel Type_Unleaded    0.013164\n",
       "11          CLEAN Boat Type_Motor Yacht    0.013114\n",
       "35                        Country_Other    0.012249\n",
       "12                CLEAN Boat Type_Other    0.011053\n",
       "7            CLEAN Boat Type_Cabin Boat    0.010873\n",
       "16                   Sale Type_New Boat    0.010499\n",
       "14           CLEAN Boat Type_Sport Boat    0.010221\n",
       "33                        Country_Italy    0.009326\n",
       "17                  Sale Type_Used Boat    0.007950\n",
       "13           CLEAN Boat Type_Pilothouse    0.007803\n",
       "36                        Country_Spain    0.006797\n",
       "34                  Country_Netherlands    0.006526\n",
       "8   CLEAN Boat Type_Center console boat    0.006412\n",
       "9             CLEAN Boat Type_Flybridge    0.006035\n",
       "10              CLEAN Boat Type_Hardtop    0.005815\n",
       "31                       Country_France    0.005782\n",
       "5                          Currency_EUR    0.005700\n",
       "27                       Material_Steel    0.004755\n",
       "24                     Material_Plastic    0.004342\n",
       "15              CLEAN Boat Type_Trawler    0.003852\n",
       "29                        Material_Wood    0.003075\n",
       "30                      Country_Denmark    0.002906\n",
       "6                           Currency_Â£    0.001763\n",
       "4                          Currency_DKK    0.001737\n",
       "18                      Fuel Type_Other    0.001228\n",
       "38                           Country_UK    0.001181\n",
       "20                Material_Carbon Fiber    0.000742\n",
       "22                     Material_Hypalon    0.000190\n",
       "28               Material_Thermoplastic    0.000109\n",
       "25         Material_Reinforced concrete    0.000015\n",
       "26                      Material_Rubber    0.000003"
      ]
     },
     "execution_count": 37,
     "metadata": {},
     "output_type": "execute_result"
    }
   ],
   "source": [
    "column_names = data.columns[1:40]\n",
    "values = reg.feature_importances_\n",
    "df_features = pd.DataFrame({'Label': column_names, 'Importance': values})\n",
    "df_features = df_features.sort_values(['Importance'],ascending = False)\n",
    "df_features"
   ]
  },
  {
   "cell_type": "code",
   "execution_count": 38,
   "id": "40267ba7-067a-429c-8124-b4fe92d72a2e",
   "metadata": {},
   "outputs": [
    {
     "data": {
      "text/plain": [
       "Text(0.5, 9.444444444444438, 'Feature Importance Score')"
      ]
     },
     "execution_count": 38,
     "metadata": {},
     "output_type": "execute_result"
    },
    {
     "data": {
      "image/png": "[encoded data removed]",
      "text/plain": [
       "<Figure size 500x500 with 1 Axes>"
      ]
     },
     "metadata": {},
     "output_type": "display_data"
    }
   ],
   "source": [
    "sns.catplot(y = 'Label', x = 'Importance', \n",
    "            data = df_features[df_features['Importance'] > .01].sort_values(['Importance'],ascending = False),kind = 'bar')\n",
    "plt.ylabel('Feature Label')\n",
    "plt.xlabel('Feature Importance Score')"
   ]
  }
 ],
 "metadata": {
  "colab": {
   "name": "Welcome to DataCamp Workspaces.ipynb",
   "provenance": []
  },
  "editor": "DataCamp Workspace",
  "kernelspec": {
   "display_name": "Python 3 (ipykernel)",
   "language": "python",
   "name": "python3"
  },
  "language_info": {
   "codemirror_mode": {
    "name": "ipython",
    "version": 3
   },
   "file_extension": ".py",
   "mimetype": "text/x-python",
   "name": "python",
   "nbconvert_exporter": "python",
   "pygments_lexer": "ipython3",
   "version": "3.11.4"
  }
 },
 "nbformat": 4,
 "nbformat_minor": 5
}
